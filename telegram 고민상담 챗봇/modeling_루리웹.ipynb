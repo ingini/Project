{
 "cells": [
  {
   "cell_type": "code",
   "execution_count": 1,
   "metadata": {},
   "outputs": [],
   "source": [
    "import pandas as pd\n",
    "import numpy as np\n",
    "import matplotlib.pyplot as plt\n",
    "import seaborn as sns\n",
    "%matplotlib inline"
   ]
  },
  {
   "cell_type": "code",
   "execution_count": 2,
   "metadata": {},
   "outputs": [],
   "source": [
    "df = pd.read_csv('루리웹.csv')"
   ]
  },
  {
   "cell_type": "code",
   "execution_count": 3,
   "metadata": {},
   "outputs": [
    {
     "name": "stdout",
     "output_type": "stream",
     "text": [
      "(8531, 2)\n",
      "                                 title  \\\n",
      "0   [신체] 진짜 뚱뚱한 사람들 보면 맨처음 느끼는게 혐오감인가요   \n",
      "1   [이성] 친구사이로 끝나고 싶지 않습니다. 어떻게 해야될까요?   \n",
      "2               [신체] 머리털이 자꾸 빠져 고민 입니다   \n",
      "3  [친구] (친구는 잘보고 사겨야한다.)라고 제목 수정하겠습니다.   \n",
      "4                       [친구] 제가 잘못일까요?   \n",
      "\n",
      "                                                body  \n",
      "0  제가 좀 많이 뚱뚱합니다. 걍 모태돼지인데 럭비선수로 학창시절 보내다가 정말 하고 ...  \n",
      "1  제가 그 여자애를 알고 지낸진 거의 이제 한 10...년? 넘어가는 것같습니다.정확...  \n",
      "2  프로페시아 3주차 인데 처음 복용 했을때는 안 빠지는거 같다가 최근 이틀간 정예병이...  \n",
      "3  친구에대한 글이 올라와서 적어봅니다. 제가 고딩때 부터 알고 친하다고 생각하고 콩도...  \n",
      "4  친구녀석 때문에 또 골머리를 앓습니다...예전에 친구가 코트 좋은거다고 싸게 하나 ...  \n"
     ]
    }
   ],
   "source": [
    "print(df.shape)\n",
    "print(df.head())"
   ]
  },
  {
   "cell_type": "code",
   "execution_count": 4,
   "metadata": {},
   "outputs": [
    {
     "data": {
      "text/plain": [
       "dtype('O')"
      ]
     },
     "execution_count": 4,
     "metadata": {},
     "output_type": "execute_result"
    }
   ],
   "source": [
    "df['title'].dtype"
   ]
  },
  {
   "cell_type": "code",
   "execution_count": 5,
   "metadata": {},
   "outputs": [],
   "source": [
    "sin = df[df['title'].str.contains('신체')]\n",
    "esung = df[df['title'].str.contains('이성')]\n",
    "con = df[df['title'].str.contains('컴플렉스')]\n",
    "hobby = df[df['title'].str.contains('취미')]\n",
    "inseang = df[df['title'].str.contains('인생')]\n",
    "study = df[df['title'].str.contains('학업')]\n",
    "friend = df[df['title'].str.contains('친구')]"
   ]
  },
  {
   "cell_type": "code",
   "execution_count": 6,
   "metadata": {},
   "outputs": [
    {
     "name": "stderr",
     "output_type": "stream",
     "text": [
      "C:\\Users\\multicampus\\Anaconda3\\lib\\site-packages\\ipykernel_launcher.py:2: SettingWithCopyWarning: \n",
      "A value is trying to be set on a copy of a slice from a DataFrame.\n",
      "Try using .loc[row_indexer,col_indexer] = value instead\n",
      "\n",
      "See the caveats in the documentation: http://pandas.pydata.org/pandas-docs/stable/user_guide/indexing.html#returning-a-view-versus-a-copy\n",
      "  \n",
      "C:\\Users\\multicampus\\Anaconda3\\lib\\site-packages\\ipykernel_launcher.py:3: SettingWithCopyWarning: \n",
      "A value is trying to be set on a copy of a slice from a DataFrame.\n",
      "Try using .loc[row_indexer,col_indexer] = value instead\n",
      "\n",
      "See the caveats in the documentation: http://pandas.pydata.org/pandas-docs/stable/user_guide/indexing.html#returning-a-view-versus-a-copy\n",
      "  This is separate from the ipykernel package so we can avoid doing imports until\n",
      "C:\\Users\\multicampus\\Anaconda3\\lib\\site-packages\\ipykernel_launcher.py:4: SettingWithCopyWarning: \n",
      "A value is trying to be set on a copy of a slice from a DataFrame.\n",
      "Try using .loc[row_indexer,col_indexer] = value instead\n",
      "\n",
      "See the caveats in the documentation: http://pandas.pydata.org/pandas-docs/stable/user_guide/indexing.html#returning-a-view-versus-a-copy\n",
      "  after removing the cwd from sys.path.\n",
      "C:\\Users\\multicampus\\Anaconda3\\lib\\site-packages\\ipykernel_launcher.py:5: SettingWithCopyWarning: \n",
      "A value is trying to be set on a copy of a slice from a DataFrame.\n",
      "Try using .loc[row_indexer,col_indexer] = value instead\n",
      "\n",
      "See the caveats in the documentation: http://pandas.pydata.org/pandas-docs/stable/user_guide/indexing.html#returning-a-view-versus-a-copy\n",
      "  \"\"\"\n",
      "C:\\Users\\multicampus\\Anaconda3\\lib\\site-packages\\ipykernel_launcher.py:6: SettingWithCopyWarning: \n",
      "A value is trying to be set on a copy of a slice from a DataFrame.\n",
      "Try using .loc[row_indexer,col_indexer] = value instead\n",
      "\n",
      "See the caveats in the documentation: http://pandas.pydata.org/pandas-docs/stable/user_guide/indexing.html#returning-a-view-versus-a-copy\n",
      "  \n",
      "C:\\Users\\multicampus\\Anaconda3\\lib\\site-packages\\ipykernel_launcher.py:7: SettingWithCopyWarning: \n",
      "A value is trying to be set on a copy of a slice from a DataFrame.\n",
      "Try using .loc[row_indexer,col_indexer] = value instead\n",
      "\n",
      "See the caveats in the documentation: http://pandas.pydata.org/pandas-docs/stable/user_guide/indexing.html#returning-a-view-versus-a-copy\n",
      "  import sys\n",
      "C:\\Users\\multicampus\\Anaconda3\\lib\\site-packages\\ipykernel_launcher.py:8: SettingWithCopyWarning: \n",
      "A value is trying to be set on a copy of a slice from a DataFrame.\n",
      "Try using .loc[row_indexer,col_indexer] = value instead\n",
      "\n",
      "See the caveats in the documentation: http://pandas.pydata.org/pandas-docs/stable/user_guide/indexing.html#returning-a-view-versus-a-copy\n",
      "  \n"
     ]
    }
   ],
   "source": [
    "# 신체 : 0 , 이성 : 1, 컴플렉스 : 2, 취미 : 3, 인생 : 4, 학업 : 5, 친구 : 6\n",
    "sin['label'] = 0\n",
    "esung['label'] = 1\n",
    "con['label'] = 2\n",
    "hobby['label']= 3\n",
    "inseang['label'] = 4\n",
    "study['label'] = 5\n",
    "friend['label'] = 6"
   ]
  },
  {
   "cell_type": "code",
   "execution_count": 7,
   "metadata": {},
   "outputs": [],
   "source": [
    "join = sin.append([esung, con, hobby, inseang, study, friend])"
   ]
  },
  {
   "cell_type": "code",
   "execution_count": 8,
   "metadata": {},
   "outputs": [],
   "source": [
    "join.reset_index(inplace=True)"
   ]
  },
  {
   "cell_type": "code",
   "execution_count": 9,
   "metadata": {},
   "outputs": [],
   "source": [
    "join.drop('index', axis= 1, inplace= True)"
   ]
  },
  {
   "cell_type": "code",
   "execution_count": 10,
   "metadata": {},
   "outputs": [
    {
     "data": {
      "text/html": [
       "<div>\n",
       "<style scoped>\n",
       "    .dataframe tbody tr th:only-of-type {\n",
       "        vertical-align: middle;\n",
       "    }\n",
       "\n",
       "    .dataframe tbody tr th {\n",
       "        vertical-align: top;\n",
       "    }\n",
       "\n",
       "    .dataframe thead th {\n",
       "        text-align: right;\n",
       "    }\n",
       "</style>\n",
       "<table border=\"1\" class=\"dataframe\">\n",
       "  <thead>\n",
       "    <tr style=\"text-align: right;\">\n",
       "      <th></th>\n",
       "      <th>title</th>\n",
       "      <th>body</th>\n",
       "      <th>label</th>\n",
       "    </tr>\n",
       "  </thead>\n",
       "  <tbody>\n",
       "    <tr>\n",
       "      <td>0</td>\n",
       "      <td>[신체] 진짜 뚱뚱한 사람들 보면 맨처음 느끼는게 혐오감인가요</td>\n",
       "      <td>제가 좀 많이 뚱뚱합니다. 걍 모태돼지인데 럭비선수로 학창시절 보내다가 정말 하고 ...</td>\n",
       "      <td>0</td>\n",
       "    </tr>\n",
       "    <tr>\n",
       "      <td>1</td>\n",
       "      <td>[신체] 머리털이 자꾸 빠져 고민 입니다</td>\n",
       "      <td>프로페시아 3주차 인데 처음 복용 했을때는 안 빠지는거 같다가 최근 이틀간 정예병이...</td>\n",
       "      <td>0</td>\n",
       "    </tr>\n",
       "    <tr>\n",
       "      <td>2</td>\n",
       "      <td>[신체] 성욕을 완전히 영구적으로 제거할 수 없나요?</td>\n",
       "      <td>여태까지 27년동안 여자한번 못만나봤고 앞으로도 없을 상황인데성욕이 너무 쓸데가 없...</td>\n",
       "      <td>0</td>\n",
       "    </tr>\n",
       "    <tr>\n",
       "      <td>3</td>\n",
       "      <td>[신체] 손 떨림 있으신가요?</td>\n",
       "      <td>저는 지금 정신건강의학과를 다니면서 정신과약과 지금 손떨림방지 약을 먹고 있습니다....</td>\n",
       "      <td>0</td>\n",
       "    </tr>\n",
       "    <tr>\n",
       "      <td>4</td>\n",
       "      <td>[신체] 채용검진비 40만원... 받아야 하는 겁니까?</td>\n",
       "      <td>이번에 새 회사 입사하게 돼서채용검진을 받았거든요첫날가서 기본 검진 받는데10만원 ...</td>\n",
       "      <td>0</td>\n",
       "    </tr>\n",
       "    <tr>\n",
       "      <td>...</td>\n",
       "      <td>...</td>\n",
       "      <td>...</td>\n",
       "      <td>...</td>\n",
       "    </tr>\n",
       "    <tr>\n",
       "      <td>8532</td>\n",
       "      <td>[이성] 남자친구가 장기출장을 갈 것 같습니다</td>\n",
       "      <td>남친이 여름들어서 엄청 바빠졌어요. 기본 9-10시에 퇴근하고 주말 이틀 다 출근하...</td>\n",
       "      <td>6</td>\n",
       "    </tr>\n",
       "    <tr>\n",
       "      <td>8533</td>\n",
       "      <td>[인생] 어머니의 남자친구가 어머니의 선물 수령인을 제 이름으로 하고 보냅니다.</td>\n",
       "      <td>아버지가 돌아기신후 10년 사이에 어머니에게는 남자 친구가 세 분 있으셨는데요이분들...</td>\n",
       "      <td>6</td>\n",
       "    </tr>\n",
       "    <tr>\n",
       "      <td>8534</td>\n",
       "      <td>[친구] [실종] 사람을 찾습니다. (클릭 부탁드려요.)</td>\n",
       "      <td>저는 이 분의 직장 동료입니다.이틀간 손에 일이 안잡히네요. 제가 하는 sns 모두...</td>\n",
       "      <td>6</td>\n",
       "    </tr>\n",
       "    <tr>\n",
       "      <td>8535</td>\n",
       "      <td>[이성] 여자친구가 업소에서 일하기 시작했습니다.</td>\n",
       "      <td>만난지는 두달 밖에 안되었습니다.. 오래만난 연인과 헤어진 이후에 1년동안 정말 많...</td>\n",
       "      <td>6</td>\n",
       "    </tr>\n",
       "    <tr>\n",
       "      <td>8536</td>\n",
       "      <td>[친구] 오토바이 작게 사고가 났는데 제가 보상해줘야 하나요??</td>\n",
       "      <td>제가 오토바이를 탄건아니고요신호없는 횡단보도 옆 두발자국정도?  폰보면 길건너고있었...</td>\n",
       "      <td>6</td>\n",
       "    </tr>\n",
       "  </tbody>\n",
       "</table>\n",
       "<p>8537 rows × 3 columns</p>\n",
       "</div>"
      ],
      "text/plain": [
       "                                             title  \\\n",
       "0               [신체] 진짜 뚱뚱한 사람들 보면 맨처음 느끼는게 혐오감인가요   \n",
       "1                           [신체] 머리털이 자꾸 빠져 고민 입니다   \n",
       "2                    [신체] 성욕을 완전히 영구적으로 제거할 수 없나요?   \n",
       "3                                 [신체] 손 떨림 있으신가요?   \n",
       "4                   [신체] 채용검진비 40만원... 받아야 하는 겁니까?   \n",
       "...                                            ...   \n",
       "8532                     [이성] 남자친구가 장기출장을 갈 것 같습니다   \n",
       "8533  [인생] 어머니의 남자친구가 어머니의 선물 수령인을 제 이름으로 하고 보냅니다.   \n",
       "8534               [친구] [실종] 사람을 찾습니다. (클릭 부탁드려요.)   \n",
       "8535                   [이성] 여자친구가 업소에서 일하기 시작했습니다.   \n",
       "8536           [친구] 오토바이 작게 사고가 났는데 제가 보상해줘야 하나요??   \n",
       "\n",
       "                                                   body  label  \n",
       "0     제가 좀 많이 뚱뚱합니다. 걍 모태돼지인데 럭비선수로 학창시절 보내다가 정말 하고 ...      0  \n",
       "1     프로페시아 3주차 인데 처음 복용 했을때는 안 빠지는거 같다가 최근 이틀간 정예병이...      0  \n",
       "2     여태까지 27년동안 여자한번 못만나봤고 앞으로도 없을 상황인데성욕이 너무 쓸데가 없...      0  \n",
       "3     저는 지금 정신건강의학과를 다니면서 정신과약과 지금 손떨림방지 약을 먹고 있습니다....      0  \n",
       "4     이번에 새 회사 입사하게 돼서채용검진을 받았거든요첫날가서 기본 검진 받는데10만원 ...      0  \n",
       "...                                                 ...    ...  \n",
       "8532  남친이 여름들어서 엄청 바빠졌어요. 기본 9-10시에 퇴근하고 주말 이틀 다 출근하...      6  \n",
       "8533  아버지가 돌아기신후 10년 사이에 어머니에게는 남자 친구가 세 분 있으셨는데요이분들...      6  \n",
       "8534  저는 이 분의 직장 동료입니다.이틀간 손에 일이 안잡히네요. 제가 하는 sns 모두...      6  \n",
       "8535  만난지는 두달 밖에 안되었습니다.. 오래만난 연인과 헤어진 이후에 1년동안 정말 많...      6  \n",
       "8536  제가 오토바이를 탄건아니고요신호없는 횡단보도 옆 두발자국정도?  폰보면 길건너고있었...      6  \n",
       "\n",
       "[8537 rows x 3 columns]"
      ]
     },
     "execution_count": 10,
     "metadata": {},
     "output_type": "execute_result"
    }
   ],
   "source": [
    "join"
   ]
  },
  {
   "cell_type": "code",
   "execution_count": 12,
   "metadata": {},
   "outputs": [],
   "source": [
    "join['name'] =1"
   ]
  },
  {
   "cell_type": "code",
   "execution_count": 13,
   "metadata": {},
   "outputs": [
    {
     "name": "stderr",
     "output_type": "stream",
     "text": [
      "C:\\Users\\multicampus\\Anaconda3\\lib\\site-packages\\ipykernel_launcher.py:4: SettingWithCopyWarning: \n",
      "A value is trying to be set on a copy of a slice from a DataFrame\n",
      "\n",
      "See the caveats in the documentation: http://pandas.pydata.org/pandas-docs/stable/user_guide/indexing.html#returning-a-view-versus-a-copy\n",
      "  after removing the cwd from sys.path.\n",
      "C:\\Users\\multicampus\\Anaconda3\\lib\\site-packages\\pandas\\core\\indexing.py:205: SettingWithCopyWarning: \n",
      "A value is trying to be set on a copy of a slice from a DataFrame\n",
      "\n",
      "See the caveats in the documentation: http://pandas.pydata.org/pandas-docs/stable/user_guide/indexing.html#returning-a-view-versus-a-copy\n",
      "  self._setitem_with_indexer(indexer, value)\n"
     ]
    }
   ],
   "source": [
    "i=0\n",
    "\n",
    "for i in range(len(join)):\n",
    "    join['name'][i] = join['title'][i][5:]\n",
    "    i += 1"
   ]
  },
  {
   "cell_type": "code",
   "execution_count": 14,
   "metadata": {},
   "outputs": [
    {
     "data": {
      "text/plain": [
       "0                 진짜 뚱뚱한 사람들 보면 맨처음 느끼는게 혐오감인가요\n",
       "1                             머리털이 자꾸 빠져 고민 입니다\n",
       "2                      성욕을 완전히 영구적으로 제거할 수 없나요?\n",
       "3                                   손 떨림 있으신가요?\n",
       "4                     채용검진비 40만원... 받아야 하는 겁니까?\n",
       "                         ...                   \n",
       "8532                       남자친구가 장기출장을 갈 것 같습니다\n",
       "8533    어머니의 남자친구가 어머니의 선물 수령인을 제 이름으로 하고 보냅니다.\n",
       "8534                 [실종] 사람을 찾습니다. (클릭 부탁드려요.)\n",
       "8535                     여자친구가 업소에서 일하기 시작했습니다.\n",
       "8536             오토바이 작게 사고가 났는데 제가 보상해줘야 하나요??\n",
       "Name: name, Length: 8537, dtype: object"
      ]
     },
     "execution_count": 14,
     "metadata": {},
     "output_type": "execute_result"
    }
   ],
   "source": [
    "join['name']"
   ]
  },
  {
   "cell_type": "code",
   "execution_count": 15,
   "metadata": {},
   "outputs": [],
   "source": [
    "from sklearn.model_selection import train_test_split\n",
    "\n",
    "x_train, x_test, y_train, y_test = train_test_split(join['name'], join['label'], test_size = 0.2)"
   ]
  },
  {
   "cell_type": "code",
   "execution_count": 16,
   "metadata": {},
   "outputs": [
    {
     "name": "stderr",
     "output_type": "stream",
     "text": [
      "Using TensorFlow backend.\n"
     ]
    }
   ],
   "source": [
    "from keras.preprocessing.text import Tokenizer"
   ]
  },
  {
   "cell_type": "code",
   "execution_count": 17,
   "metadata": {},
   "outputs": [
    {
     "data": {
      "text/plain": [
       "0"
      ]
     },
     "execution_count": 17,
     "metadata": {},
     "output_type": "execute_result"
    }
   ],
   "source": [
    "x_train.isnull().sum()"
   ]
  },
  {
   "cell_type": "code",
   "execution_count": 18,
   "metadata": {},
   "outputs": [
    {
     "data": {
      "text/plain": [
       "3294              30살 건설관련 이직 문제로 고민입니다.\n",
       "3806            나이 앞자리 숫자가 바뀌니 생각이 많아지네요\n",
       "2272    이런적은 처음이라 .. 의류구매 트러블 고민 좀 들어주세요\n",
       "4493               사람에 대한 호기심이 줄어든다는 것..\n",
       "8421                   유학간 여자친구때문에 고민입니다\n",
       "                      ...               \n",
       "1790                집에 레고가 많아서 고민입니다....\n",
       "2709        다들 공기청정기 쓰시나요? 필요성은 얼마나 될까요?\n",
       "4095                    회사 폐업한 컴as기사입니다.\n",
       "3001              평소에 연락안하던 학교 선배 결혼 축의금\n",
       "2363                 갈까말까 할때는 가는게 맞나요?..\n",
       "Name: name, Length: 6829, dtype: object"
      ]
     },
     "execution_count": 18,
     "metadata": {},
     "output_type": "execute_result"
    }
   ],
   "source": [
    "x_train"
   ]
  },
  {
   "cell_type": "code",
   "execution_count": 19,
   "metadata": {
    "scrolled": false
   },
   "outputs": [],
   "source": [
    "x_train = x_train.fillna('')"
   ]
  },
  {
   "cell_type": "code",
   "execution_count": 20,
   "metadata": {},
   "outputs": [],
   "source": [
    "token = Tokenizer(num_words=1000)\n",
    "token.fit_on_texts(x_train)"
   ]
  },
  {
   "cell_type": "code",
   "execution_count": 21,
   "metadata": {},
   "outputs": [],
   "source": [
    "x_train = token.texts_to_matrix(x_train)\n",
    "x_test = token.texts_to_matrix(x_test)"
   ]
  },
  {
   "cell_type": "code",
   "execution_count": 22,
   "metadata": {},
   "outputs": [],
   "source": [
    "from keras.utils import to_categorical"
   ]
  },
  {
   "cell_type": "code",
   "execution_count": 23,
   "metadata": {},
   "outputs": [],
   "source": [
    "y_train = to_categorical(y_train)\n",
    "y_test = to_categorical(y_test)"
   ]
  },
  {
   "cell_type": "code",
   "execution_count": 24,
   "metadata": {},
   "outputs": [
    {
     "name": "stdout",
     "output_type": "stream",
     "text": [
      "WARNING:tensorflow:From C:\\Users\\multicampus\\Anaconda3\\lib\\site-packages\\keras\\backend\\tensorflow_backend.py:66: The name tf.get_default_graph is deprecated. Please use tf.compat.v1.get_default_graph instead.\n",
      "\n",
      "WARNING:tensorflow:From C:\\Users\\multicampus\\Anaconda3\\lib\\site-packages\\keras\\backend\\tensorflow_backend.py:541: The name tf.placeholder is deprecated. Please use tf.compat.v1.placeholder instead.\n",
      "\n",
      "WARNING:tensorflow:From C:\\Users\\multicampus\\Anaconda3\\lib\\site-packages\\keras\\backend\\tensorflow_backend.py:4432: The name tf.random_uniform is deprecated. Please use tf.random.uniform instead.\n",
      "\n"
     ]
    }
   ],
   "source": [
    "from keras import models\n",
    "from keras import layers\n",
    "\n",
    "model = models.Sequential()\n",
    "model.add(layers.Dense(512, activation ='relu', input_shape=(1000,)))\n",
    "model.add(layers.Dense(512, activation= 'relu'))\n",
    "model.add(layers.Dense(7, activation='softmax'))"
   ]
  },
  {
   "cell_type": "code",
   "execution_count": 25,
   "metadata": {},
   "outputs": [
    {
     "name": "stdout",
     "output_type": "stream",
     "text": [
      "WARNING:tensorflow:From C:\\Users\\multicampus\\Anaconda3\\lib\\site-packages\\keras\\optimizers.py:793: The name tf.train.Optimizer is deprecated. Please use tf.compat.v1.train.Optimizer instead.\n",
      "\n",
      "WARNING:tensorflow:From C:\\Users\\multicampus\\Anaconda3\\lib\\site-packages\\keras\\backend\\tensorflow_backend.py:3576: The name tf.log is deprecated. Please use tf.math.log instead.\n",
      "\n"
     ]
    }
   ],
   "source": [
    "model.compile(optimizer='adam',\\\n",
    "              loss='categorical_crossentropy',\\\n",
    "              metrics=['accuracy'])"
   ]
  },
  {
   "cell_type": "code",
   "execution_count": 26,
   "metadata": {},
   "outputs": [
    {
     "name": "stdout",
     "output_type": "stream",
     "text": [
      "WARNING:tensorflow:From C:\\Users\\multicampus\\Anaconda3\\lib\\site-packages\\tensorflow\\python\\ops\\math_grad.py:1250: add_dispatch_support.<locals>.wrapper (from tensorflow.python.ops.array_ops) is deprecated and will be removed in a future version.\n",
      "Instructions for updating:\n",
      "Use tf.where in 2.0, which has the same broadcast rule as np.where\n",
      "WARNING:tensorflow:From C:\\Users\\multicampus\\Anaconda3\\lib\\site-packages\\keras\\backend\\tensorflow_backend.py:1033: The name tf.assign_add is deprecated. Please use tf.compat.v1.assign_add instead.\n",
      "\n",
      "Train on 5463 samples, validate on 1366 samples\n",
      "Epoch 1/20\n",
      "5463/5463 [==============================] - 1s 107us/step - loss: 1.6971 - acc: 0.4761 - val_loss: 1.4673 - val_acc: 0.5395\n",
      "Epoch 2/20\n",
      "5463/5463 [==============================] - 0s 62us/step - loss: 1.4573 - acc: 0.5255 - val_loss: 1.4307 - val_acc: 0.5395\n",
      "Epoch 3/20\n",
      "5463/5463 [==============================] - 0s 66us/step - loss: 1.3726 - acc: 0.5255 - val_loss: 1.3984 - val_acc: 0.5395\n",
      "Epoch 4/20\n",
      "5463/5463 [==============================] - 0s 66us/step - loss: 1.3075 - acc: 0.5255 - val_loss: 1.3773 - val_acc: 0.5395\n",
      "Epoch 5/20\n",
      "5463/5463 [==============================] - 0s 61us/step - loss: 1.2384 - acc: 0.5360 - val_loss: 1.3643 - val_acc: 0.5425\n",
      "Epoch 6/20\n",
      "5463/5463 [==============================] - 0s 62us/step - loss: 1.1522 - acc: 0.5669 - val_loss: 1.3525 - val_acc: 0.5351\n",
      "Epoch 7/20\n",
      "5463/5463 [==============================] - 0s 62us/step - loss: 1.0501 - acc: 0.6107 - val_loss: 1.3704 - val_acc: 0.5373\n",
      "Epoch 8/20\n",
      "5463/5463 [==============================] - 0s 57us/step - loss: 0.9427 - acc: 0.6610 - val_loss: 1.3846 - val_acc: 0.5322\n",
      "Epoch 9/20\n",
      "5463/5463 [==============================] - 0s 62us/step - loss: 0.8464 - acc: 0.7025 - val_loss: 1.4326 - val_acc: 0.5220\n",
      "Epoch 10/20\n",
      "5463/5463 [==============================] - 0s 60us/step - loss: 0.7591 - acc: 0.7338 - val_loss: 1.4973 - val_acc: 0.5300\n",
      "Epoch 11/20\n",
      "5463/5463 [==============================] - 0s 62us/step - loss: 0.6905 - acc: 0.7571 - val_loss: 1.5747 - val_acc: 0.5293\n",
      "Epoch 12/20\n",
      "5463/5463 [==============================] - 0s 61us/step - loss: 0.6331 - acc: 0.7780 - val_loss: 1.6505 - val_acc: 0.5322\n",
      "Epoch 13/20\n",
      "5463/5463 [==============================] - 0s 60us/step - loss: 0.5874 - acc: 0.7946 - val_loss: 1.7437 - val_acc: 0.5264\n",
      "Epoch 14/20\n",
      "5463/5463 [==============================] - 0s 61us/step - loss: 0.5501 - acc: 0.8034 - val_loss: 1.8253 - val_acc: 0.5256\n",
      "Epoch 15/20\n",
      "5463/5463 [==============================] - 0s 62us/step - loss: 0.5212 - acc: 0.8137 - val_loss: 1.8893 - val_acc: 0.5256\n",
      "Epoch 16/20\n",
      "5463/5463 [==============================] - 0s 62us/step - loss: 0.5015 - acc: 0.8166 - val_loss: 1.9849 - val_acc: 0.5256\n",
      "Epoch 17/20\n",
      "5463/5463 [==============================] - 0s 62us/step - loss: 0.4827 - acc: 0.8215 - val_loss: 2.0476 - val_acc: 0.5190\n",
      "Epoch 18/20\n",
      "5463/5463 [==============================] - 0s 62us/step - loss: 0.4710 - acc: 0.8237 - val_loss: 2.1388 - val_acc: 0.5168\n",
      "Epoch 19/20\n",
      "5463/5463 [==============================] - 0s 62us/step - loss: 0.4600 - acc: 0.8224 - val_loss: 2.1944 - val_acc: 0.5139\n",
      "Epoch 20/20\n",
      "5463/5463 [==============================] - 0s 60us/step - loss: 0.4528 - acc: 0.8246 - val_loss: 2.2304 - val_acc: 0.5146\n"
     ]
    }
   ],
   "source": [
    "history = model.fit(x_train, y_train,\\\n",
    "                    epochs= 20, batch_size = 512,validation_split=0.2)"
   ]
  },
  {
   "cell_type": "code",
   "execution_count": 27,
   "metadata": {},
   "outputs": [
    {
     "name": "stdout",
     "output_type": "stream",
     "text": [
      "1708/1708 [==============================] - 0s 74us/step\n"
     ]
    },
    {
     "data": {
      "text/plain": [
       "[2.260447194760521, 0.5046838408192091]"
      ]
     },
     "execution_count": 27,
     "metadata": {},
     "output_type": "execute_result"
    }
   ],
   "source": [
    "model.evaluate(x_test,y_test)"
   ]
  },
  {
   "cell_type": "code",
   "execution_count": 28,
   "metadata": {},
   "outputs": [
    {
     "name": "stdout",
     "output_type": "stream",
     "text": [
      "Model: \"sequential_1\"\n",
      "_________________________________________________________________\n",
      "Layer (type)                 Output Shape              Param #   \n",
      "=================================================================\n",
      "dense_1 (Dense)              (None, 512)               512512    \n",
      "_________________________________________________________________\n",
      "dense_2 (Dense)              (None, 512)               262656    \n",
      "_________________________________________________________________\n",
      "dense_3 (Dense)              (None, 7)                 3591      \n",
      "=================================================================\n",
      "Total params: 778,759\n",
      "Trainable params: 778,759\n",
      "Non-trainable params: 0\n",
      "_________________________________________________________________\n"
     ]
    }
   ],
   "source": [
    "model.summary()"
   ]
  },
  {
   "cell_type": "code",
   "execution_count": null,
   "metadata": {},
   "outputs": [],
   "source": [
    "# 테스트할 데이터를 () 안에 넣으세요\n",
    "# model.predict(token.texts_to_matrix()"
   ]
  },
  {
   "cell_type": "code",
   "execution_count": null,
   "metadata": {},
   "outputs": [],
   "source": [
    "y_train[0].shape"
   ]
  },
  {
   "cell_type": "code",
   "execution_count": 32,
   "metadata": {},
   "outputs": [],
   "source": [
    "from keras.models import Sequential\n",
    "from keras.layers import Embedding, SimpleRNN, Dense\n",
    "\n",
    "model2 = Sequential()\n",
    "model2.add(Embedding(1000,32))\n",
    "model2.add(SimpleRNN(64,return_sequences= True))\n",
    "model2.add(SimpleRNN(32,return_sequences= True))\n",
    "model2.add(Dense(7, activation=\"softmax\"))\n",
    "model2.compile(loss='categorical_crossentropy',batch_size=128, optimizer='adam',metrics=['acc'])"
   ]
  },
  {
   "cell_type": "code",
   "execution_count": null,
   "metadata": {},
   "outputs": [],
   "source": [
    "history2 = model2.fit(x_train, y_train, epochs=10, validation_split=0.2)"
   ]
  },
  {
   "cell_type": "code",
   "execution_count": null,
   "metadata": {},
   "outputs": [],
   "source": [
    "model2.evaluate(x_test,y_test)"
   ]
  },
  {
   "cell_type": "code",
   "execution_count": null,
   "metadata": {},
   "outputs": [],
   "source": [
    "model2.summary()"
   ]
  },
  {
   "cell_type": "code",
   "execution_count": null,
   "metadata": {},
   "outputs": [],
   "source": []
  },
  {
   "cell_type": "code",
   "execution_count": 33,
   "metadata": {},
   "outputs": [],
   "source": [
    "from keras.layers import LSTM\n",
    "model3 = Sequential()\n",
    "model3.add(Embedding(1000, 32,input_length=1000))\n",
    "model3.add(LSTM(64, return_sequences= True))\n",
    "model3.add(LSTM(64))\n",
    "model3.add(Dense(7, activation=\"softmax\"))"
   ]
  },
  {
   "cell_type": "code",
   "execution_count": 34,
   "metadata": {},
   "outputs": [
    {
     "name": "stdout",
     "output_type": "stream",
     "text": [
      "Train on 5463 samples, validate on 1366 samples\n",
      "Epoch 1/10\n",
      "5463/5463 [==============================] - 89s 16ms/step - loss: 1.5696 - acc: 0.5138 - val_loss: 1.4393 - val_acc: 0.5395\n",
      "Epoch 2/10\n",
      "5463/5463 [==============================] - 93s 17ms/step - loss: 1.4529 - acc: 0.5255 - val_loss: 1.4360 - val_acc: 0.5395\n",
      "Epoch 3/10\n",
      "5463/5463 [==============================] - 96s 18ms/step - loss: 1.4509 - acc: 0.5255 - val_loss: 1.4394 - val_acc: 0.5395\n",
      "Epoch 4/10\n",
      "5463/5463 [==============================] - 97s 18ms/step - loss: 1.4522 - acc: 0.5255 - val_loss: 1.4396 - val_acc: 0.5395\n",
      "Epoch 5/10\n",
      "5463/5463 [==============================] - 95s 17ms/step - loss: 1.4514 - acc: 0.5255 - val_loss: 1.4391 - val_acc: 0.5395\n",
      "Epoch 6/10\n",
      "5463/5463 [==============================] - 94s 17ms/step - loss: 1.4503 - acc: 0.5255 - val_loss: 1.4376 - val_acc: 0.5395\n",
      "Epoch 7/10\n",
      "5463/5463 [==============================] - 96s 18ms/step - loss: 1.4507 - acc: 0.5255 - val_loss: 1.4408 - val_acc: 0.5395\n",
      "Epoch 8/10\n",
      "5463/5463 [==============================] - 97s 18ms/step - loss: 1.4508 - acc: 0.5255 - val_loss: 1.4381 - val_acc: 0.5395\n",
      "Epoch 9/10\n",
      "5463/5463 [==============================] - 95s 17ms/step - loss: 1.4516 - acc: 0.5255 - val_loss: 1.4402 - val_acc: 0.5395\n",
      "Epoch 10/10\n",
      "5463/5463 [==============================] - 98s 18ms/step - loss: 1.4504 - acc: 0.5255 - val_loss: 1.4419 - val_acc: 0.5395\n"
     ]
    }
   ],
   "source": [
    "model3.compile(loss='categorical_crossentropy', optimizer='adam', metrics=['accuracy'])\n",
    "history3 = model3.fit(x_train, y_train, epochs=10, batch_size=128, validation_split=0.2)"
   ]
  },
  {
   "cell_type": "code",
   "execution_count": 35,
   "metadata": {},
   "outputs": [
    {
     "name": "stdout",
     "output_type": "stream",
     "text": [
      "1708/1708 [==============================] - 7s 4ms/step\n"
     ]
    },
    {
     "data": {
      "text/plain": [
       "[1.4587318726948328, 0.5163934424833615]"
      ]
     },
     "execution_count": 35,
     "metadata": {},
     "output_type": "execute_result"
    }
   ],
   "source": [
    "model3.evaluate(x_test,y_test)"
   ]
  },
  {
   "cell_type": "code",
   "execution_count": 36,
   "metadata": {},
   "outputs": [],
   "source": [
    "from keras.layers import LSTM, Bidirectional\n",
    "model4 = Sequential()\n",
    "model4.add(Embedding(1000, 32))\n",
    "model4.add(Bidirectional(LSTM(32)))\n",
    "model4.add(Dense(7, activation='softmax'))"
   ]
  },
  {
   "cell_type": "code",
   "execution_count": 37,
   "metadata": {},
   "outputs": [
    {
     "name": "stdout",
     "output_type": "stream",
     "text": [
      "Model: \"sequential_4\"\n",
      "_________________________________________________________________\n",
      "Layer (type)                 Output Shape              Param #   \n",
      "=================================================================\n",
      "embedding_3 (Embedding)      (None, None, 32)          32000     \n",
      "_________________________________________________________________\n",
      "bidirectional_1 (Bidirection (None, 64)                16640     \n",
      "_________________________________________________________________\n",
      "dense_6 (Dense)              (None, 7)                 455       \n",
      "=================================================================\n",
      "Total params: 49,095\n",
      "Trainable params: 49,095\n",
      "Non-trainable params: 0\n",
      "_________________________________________________________________\n"
     ]
    }
   ],
   "source": [
    "model4.summary()"
   ]
  },
  {
   "cell_type": "code",
   "execution_count": 38,
   "metadata": {},
   "outputs": [
    {
     "name": "stdout",
     "output_type": "stream",
     "text": [
      "Train on 5463 samples, validate on 1366 samples\n",
      "Epoch 1/10\n",
      "5463/5463 [==============================] - 133s 24ms/step - loss: 1.6350 - acc: 0.4961 - val_loss: 1.4528 - val_acc: 0.5395\n",
      "Epoch 2/10\n",
      "5463/5463 [==============================] - 115s 21ms/step - loss: 1.4570 - acc: 0.5255 - val_loss: 1.4400 - val_acc: 0.5395\n",
      "Epoch 3/10\n",
      "5463/5463 [==============================] - 114s 21ms/step - loss: 1.4504 - acc: 0.5255 - val_loss: 1.4380 - val_acc: 0.5395\n",
      "Epoch 4/10\n",
      "5463/5463 [==============================] - 117s 21ms/step - loss: 1.4513 - acc: 0.5255 - val_loss: 1.4365 - val_acc: 0.5395\n",
      "Epoch 5/10\n",
      "5463/5463 [==============================] - 118s 22ms/step - loss: 1.4510 - acc: 0.5255 - val_loss: 1.4362 - val_acc: 0.5395\n",
      "Epoch 6/10\n",
      "5463/5463 [==============================] - 120s 22ms/step - loss: 1.4503 - acc: 0.5255 - val_loss: 1.4407 - val_acc: 0.5395\n",
      "Epoch 7/10\n",
      "5463/5463 [==============================] - 119s 22ms/step - loss: 1.4516 - acc: 0.5255 - val_loss: 1.4370 - val_acc: 0.5395\n",
      "Epoch 8/10\n",
      "5463/5463 [==============================] - 118s 22ms/step - loss: 1.4502 - acc: 0.5255 - val_loss: 1.4375 - val_acc: 0.5395\n",
      "Epoch 9/10\n",
      "5463/5463 [==============================] - 120s 22ms/step - loss: 1.4503 - acc: 0.5255 - val_loss: 1.4368 - val_acc: 0.5395\n",
      "Epoch 10/10\n",
      "5463/5463 [==============================] - 120s 22ms/step - loss: 1.4515 - acc: 0.5255 - val_loss: 1.4363 - val_acc: 0.5395\n"
     ]
    }
   ],
   "source": [
    "model4.compile(loss='categorical_crossentropy', optimizer='adam', metrics=['acc'])\n",
    "history4 = model4.fit(x_train, y_train, epochs=10, batch_size=128, validation_split=0.2)"
   ]
  },
  {
   "cell_type": "code",
   "execution_count": 39,
   "metadata": {},
   "outputs": [
    {
     "name": "stdout",
     "output_type": "stream",
     "text": [
      "1708/1708 [==============================] - 4s 2ms/step\n"
     ]
    },
    {
     "data": {
      "text/plain": [
       "[1.456253648083439, 0.5163934424833615]"
      ]
     },
     "execution_count": 39,
     "metadata": {},
     "output_type": "execute_result"
    }
   ],
   "source": [
    "model4.evaluate(x_test,y_test)"
   ]
  },
  {
   "cell_type": "code",
   "execution_count": null,
   "metadata": {},
   "outputs": [],
   "source": []
  }
 ],
 "metadata": {
  "kernelspec": {
   "display_name": "Python 3",
   "language": "python",
   "name": "python3"
  },
  "language_info": {
   "codemirror_mode": {
    "name": "ipython",
    "version": 3
   },
   "file_extension": ".py",
   "mimetype": "text/x-python",
   "name": "python",
   "nbconvert_exporter": "python",
   "pygments_lexer": "ipython3",
   "version": "3.7.4"
  }
 },
 "nbformat": 4,
 "nbformat_minor": 2
}

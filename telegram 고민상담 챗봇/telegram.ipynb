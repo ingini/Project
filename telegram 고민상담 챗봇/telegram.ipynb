{
 "cells": [
  {
   "cell_type": "code",
   "execution_count": 1,
   "metadata": {},
   "outputs": [],
   "source": [
    "import telegram\n",
    "bot = telegram.Bot('828880114:AAH8QqsYI2YpciUi4R77O92kupkPukWKj_g')\n",
    "import emoji\n",
    "\n",
    "print(emoji.emojize('Python is :thumbs_up:'))\n",
    "from telegram.ext import Updater, MessageHandler, Filters\n",
    "from emoji import emojize\n",
    "\n",
    "updater = Updater(token='828880114:AAH8QqsYI2YpciUi4R77O92kupkPukWKj_g')\n",
    "dispatcher = updater.dispatcher\n",
    "updater.start_polling()\n",
    "\n",
    "def message(self):\n",
    "    bot.send_message('@daegeon',self)\n",
    "\n",
    "def handler(bot, update):\n",
    "  text = update.message.text\n",
    "  chat_id = update.message.chat_id\n",
    "\n",
    "  if '모해' in text:\n",
    "    bot.send_message(chat_id=chat_id, text='오빠 생각 ㅎㅎ')\n",
    "  elif '아잉' in text:\n",
    "    bot.send_message(chat_id=chat_id, text=emojize('아잉:heart_eyes:', use_aliases=True))\n",
    "  elif '몇시에' in text:\n",
    "    bot.send_message(chat_id=chat_id, text='7시에 보자')\n",
    "  elif '사진' in text:\n",
    "    bot.send_photo(chat_id=chat_id, photo=open('1.jpg', 'rb'))\n",
    "  else:\n",
    "    bot.send_message(chat_id=chat_id, text='몰라')\n",
    "\n",
    "echo_handler = MessageHandler(Filters.text, handler)\n",
    "dispatcher.add_handler(echo_handler)"
   ]
  },
  {
   "cell_type": "code",
   "execution_count": 2,
   "metadata": {},
   "outputs": [],
   "source": [
    "bot = telegram.Bot('828880114:AAH8QqsYI2YpciUi4R77O92kupkPukWKj_g')"
   ]
  },
  {
   "cell_type": "code",
   "execution_count": 38,
   "metadata": {},
   "outputs": [
    {
     "data": {
      "text/plain": [
       "<telegram.message.Message at 0x2826544d4c8>"
      ]
     },
     "execution_count": 38,
     "metadata": {},
     "output_type": "execute_result"
    }
   ],
   "source": [
    "bot.send_message('@daegeon', 'My first test message')"
   ]
  },
  {
   "cell_type": "code",
   "execution_count": 14,
   "metadata": {},
   "outputs": [],
   "source": [
    "def message(self):\n",
    "    bot.send_message('@daegeon',self)"
   ]
  },
  {
   "cell_type": "code",
   "execution_count": 15,
   "metadata": {},
   "outputs": [],
   "source": [
    "message('hi')"
   ]
  },
  {
   "cell_type": "code",
   "execution_count": null,
   "metadata": {},
   "outputs": [],
   "source": [
    "def broadcast(text):\n",
    "    u\"\"\"broadcast: 봇이 켜져 있는 모든 채팅에 메시지 발송\n",
    "    text:       (string)  메시지 내용\n",
    "    \"\"\"\n",
    "    for chat in get_enabled_chats():\n",
    "        send_msg(chat.key.string_id(), text)"
   ]
  },
  {
   "cell_type": "code",
   "execution_count": 36,
   "metadata": {},
   "outputs": [],
   "source": [
    "TOKEN = '828880114:AAH8QqsYI2YpciUi4R77O92kupkPukWKj_g'"
   ]
  },
  {
   "cell_type": "code",
   "execution_count": 16,
   "metadata": {},
   "outputs": [],
   "source": [
    "api_key = '828880114:AAH8QqsYI2YpciUi4R77O92kupkPukWKj_g'"
   ]
  },
  {
   "cell_type": "code",
   "execution_count": 17,
   "metadata": {},
   "outputs": [],
   "source": [
    "bot = telegram.Bot(token=api_key)"
   ]
  },
  {
   "cell_type": "code",
   "execution_count": 25,
   "metadata": {},
   "outputs": [],
   "source": [
    "chat_id = -1001410230036"
   ]
  },
  {
   "cell_type": "code",
   "execution_count": 26,
   "metadata": {},
   "outputs": [
    {
     "data": {
      "text/plain": [
       "<telegram.message.Message at 0x282650d9d48>"
      ]
     },
     "execution_count": 26,
     "metadata": {},
     "output_type": "execute_result"
    }
   ],
   "source": [
    "bot.sendMessage(chat_id= chat_id, text = '안녕?')"
   ]
  },
  {
   "cell_type": "code",
   "execution_count": 27,
   "metadata": {},
   "outputs": [
    {
     "name": "stdout",
     "output_type": "stream",
     "text": [
      "Collecting emoji\n",
      "  Downloading https://files.pythonhosted.org/packages/40/8d/521be7f0091fe0f2ae690cc044faf43e3445e0ff33c574eae752dd7e39fa/emoji-0.5.4.tar.gz (43kB)\n",
      "Building wheels for collected packages: emoji\n",
      "  Building wheel for emoji (setup.py): started\n",
      "  Building wheel for emoji (setup.py): finished with status 'done'\n",
      "  Created wheel for emoji: filename=emoji-0.5.4-cp37-none-any.whl size=42180 sha256=a46a131107d35ebbff3317428e8927ad527c595f2372788dbb2dfccace359e89\n",
      "  Stored in directory: C:\\Users\\multicampus\\AppData\\Local\\pip\\Cache\\wheels\\2a\\a9\\0a\\4f8e8cce8074232aba240caca3fade315bb49fac68808d1a9c\n",
      "Successfully built emoji\n",
      "Installing collected packages: emoji\n",
      "Successfully installed emoji-0.5.4\n",
      "Note: you may need to restart the kernel to use updated packages.\n"
     ]
    }
   ],
   "source": [
    "pip install emoji --upgrade"
   ]
  },
  {
   "cell_type": "code",
   "execution_count": 50,
   "metadata": {},
   "outputs": [
    {
     "name": "stdout",
     "output_type": "stream",
     "text": [
      "Python is 👍\n"
     ]
    },
    {
     "name": "stderr",
     "output_type": "stream",
     "text": [
      "C:\\Users\\multicampus\\Anaconda3\\lib\\site-packages\\ipykernel_launcher.py:6: TelegramDeprecationWarning: Old Handler API is deprecated - see https://git.io/fxJuV for details\n",
      "  \n"
     ]
    }
   ],
   "source": [
    "import emoji\n",
    "print(emoji.emojize('Python is :thumbs_up:'))\n",
    "from telegram.ext import Updater, MessageHandler, Filters\n",
    "from emoji import emojize\n",
    "\n",
    "updater = Updater(token='828880114:AAH8QqsYI2YpciUi4R77O92kupkPukWKj_g')\n",
    "dispatcher = updater.dispatcher\n",
    "updater.start_polling()\n",
    "\n",
    "def handler(bot, update):\n",
    "    text = update.message.text\n",
    "    chat_id = update.message.chat_id\n",
    "    text\n",
    "\n",
    "'''  if '모해' in text:\n",
    "    bot.send_message(chat_id=chat_id, text='오빠 생각 ㅎㅎ')\n",
    "  elif '아잉' in text:\n",
    "    bot.send_message(chat_id=chat_id, text=emojize('아잉:heart_eyes:', use_aliases=True))\n",
    "  elif '몇시에' in text:\n",
    "    bot.send_message(chat_id=chat_id, text='7시에 보자')\n",
    "  elif '사진' in text:\n",
    "    bot.send_photo(chat_id=chat_id, photo=open('1.jpg', 'rb'))\n",
    "  else:\n",
    "    bot.send_message(chat_id=chat_id, text='몰라')\n",
    "'''\n",
    "echo_handler = MessageHandler(Filters.text, handler)\n",
    "dispatcher.add_handler(echo_handler)"
   ]
  },
  {
   "cell_type": "code",
   "execution_count": 47,
   "metadata": {},
   "outputs": [
    {
     "name": "stdout",
     "output_type": "stream",
     "text": [
      "Python is 👍\n"
     ]
    }
   ],
   "source": [
    "import emoji\n",
    "print(emoji.emojize('Python is :thumbs_up:'))"
   ]
  },
  {
   "cell_type": "code",
   "execution_count": 51,
   "metadata": {},
   "outputs": [
    {
     "ename": "NameError",
     "evalue": "name 'text' is not defined",
     "output_type": "error",
     "traceback": [
      "\u001b[1;31m---------------------------------------------------------------------------\u001b[0m",
      "\u001b[1;31mNameError\u001b[0m                                 Traceback (most recent call last)",
      "\u001b[1;32m<ipython-input-51-aa785adca3fc>\u001b[0m in \u001b[0;36m<module>\u001b[1;34m\u001b[0m\n\u001b[1;32m----> 1\u001b[1;33m \u001b[0mtext\u001b[0m\u001b[1;33m\u001b[0m\u001b[1;33m\u001b[0m\u001b[0m\n\u001b[0m",
      "\u001b[1;31mNameError\u001b[0m: name 'text' is not defined"
     ]
    }
   ],
   "source": [
    "text"
   ]
  },
  {
   "cell_type": "code",
   "execution_count": 48,
   "metadata": {},
   "outputs": [],
   "source": [
    "import urllib.request\n",
    ">>> def request(url):\n",
    "...     \"\"\"지정한 url의 웹 문서를 요청하여, 본문을 반환한다.\"\"\"\n",
    "...     response = urllib.request.urlopen(url)\n",
    "...     byte_data = response.read()\n",
    "...     text_data = byte_data.decode()\n",
    "...     return text_data"
   ]
  },
  {
   "cell_type": "code",
   "execution_count": 37,
   "metadata": {},
   "outputs": [],
   "source": [
    "def build_url(method, query):\n",
    "...     \"\"\"텔레그램 챗봇 웹 API에 요청을 보내기 위한 URL을 만들어 반환한다.\"\"\"\n",
    "...     return f'https://api.telegram.org/bot{TOKEN}/{method}?{query}'"
   ]
  },
  {
   "cell_type": "code",
   "execution_count": 39,
   "metadata": {},
   "outputs": [
    {
     "ename": "TypeError",
     "evalue": "build_url() missing 1 required positional argument: 'query'",
     "output_type": "error",
     "traceback": [
      "\u001b[1;31m---------------------------------------------------------------------------\u001b[0m",
      "\u001b[1;31mTypeError\u001b[0m                                 Traceback (most recent call last)",
      "\u001b[1;32m<ipython-input-39-30eb082c72f8>\u001b[0m in \u001b[0;36m<module>\u001b[1;34m\u001b[0m\n\u001b[1;32m----> 1\u001b[1;33m \u001b[0mrequest\u001b[0m\u001b[1;33m(\u001b[0m\u001b[0mbuild_url\u001b[0m\u001b[1;33m(\u001b[0m\u001b[1;34m'getMe'\u001b[0m\u001b[1;33m)\u001b[0m\u001b[1;33m)\u001b[0m\u001b[1;33m\u001b[0m\u001b[1;33m\u001b[0m\u001b[0m\n\u001b[0m\u001b[0;32m      2\u001b[0m \u001b[1;34m'{\"ok\":true,\"result\":{\"id\":718342091,\"is_bot\":true,\"first_name\":\"\\\\ucc57\\\\ubd07\\\\uc5f0\\\\uc2b5\\\\ubd07\",\"username\":\"chatbot_practice_bot\"}}'\u001b[0m\u001b[1;33m\u001b[0m\u001b[1;33m\u001b[0m\u001b[0m\n",
      "\u001b[1;31mTypeError\u001b[0m: build_url() missing 1 required positional argument: 'query'"
     ]
    }
   ],
   "source": [
    "request(build_url('getMe'))\n",
    "'{\"ok\":true,\"result\":{\"id\":718342091,\"is_bot\":true,\"first_name\":\"\\\\ucc57\\\\ubd07\\\\uc5f0\\\\uc2b5\\\\ubd07\",\"username\":\"chatbot_practice_bot\"}}'"
   ]
  },
  {
   "cell_type": "code",
   "execution_count": 40,
   "metadata": {},
   "outputs": [
    {
     "ename": "TypeError",
     "evalue": "build_url() missing 1 required positional argument: 'query'",
     "output_type": "error",
     "traceback": [
      "\u001b[1;31m---------------------------------------------------------------------------\u001b[0m",
      "\u001b[1;31mTypeError\u001b[0m                                 Traceback (most recent call last)",
      "\u001b[1;32m<ipython-input-40-657895b06b70>\u001b[0m in \u001b[0;36m<module>\u001b[1;34m\u001b[0m\n\u001b[0;32m      1\u001b[0m \u001b[1;32mimport\u001b[0m \u001b[0mjson\u001b[0m\u001b[1;33m\u001b[0m\u001b[1;33m\u001b[0m\u001b[0m\n\u001b[1;32m----> 2\u001b[1;33m \u001b[0mresponse\u001b[0m \u001b[1;33m=\u001b[0m \u001b[0mrequest\u001b[0m\u001b[1;33m(\u001b[0m\u001b[0mbuild_url\u001b[0m\u001b[1;33m(\u001b[0m\u001b[1;34m'getMe'\u001b[0m\u001b[1;33m)\u001b[0m\u001b[1;33m)\u001b[0m\u001b[1;33m\u001b[0m\u001b[1;33m\u001b[0m\u001b[0m\n\u001b[0m\u001b[0;32m      3\u001b[0m \u001b[0mjson\u001b[0m\u001b[1;33m.\u001b[0m\u001b[0mloads\u001b[0m\u001b[1;33m(\u001b[0m\u001b[0mresponse\u001b[0m\u001b[1;33m)\u001b[0m\u001b[1;33m\u001b[0m\u001b[1;33m\u001b[0m\u001b[0m\n\u001b[0;32m      4\u001b[0m {'ok': True, 'result': {'id': 718342091, 'is_bot': True, 'first_name': '챗봇연습봇',\n\u001b[0;32m      5\u001b[0m 'username': 'chatbot_practice_bot'}}\n",
      "\u001b[1;31mTypeError\u001b[0m: build_url() missing 1 required positional argument: 'query'"
     ]
    }
   ],
   "source": [
    "import json\n",
    ">>> response = request(build_url('getMe'))\n",
    ">>> json.loads(response)\n",
    "{'ok': True, 'result': {'id': 718342091, 'is_bot': True, 'first_name': '챗봇연습봇',\n",
    "'username': 'chatbot_practice_bot'}}"
   ]
  },
  {
   "cell_type": "code",
   "execution_count": 41,
   "metadata": {},
   "outputs": [],
   "source": [
    " def request_to_chatbot_api(method, query):\n",
    "...     \"\"\"메서드(method)와 질의조건(query)을 전달받아 텔레그램 챗봇 웹 API에 요청을 보내고,\n",
    "...        응답 결과를 사전 객체로 해석해 반환한다.\"\"\"\n",
    "...     url = build_url(method, query)\n",
    "...     response = request(url)\n",
    "...     return json.loads(response)\n",
    "..."
   ]
  },
  {
   "cell_type": "code",
   "execution_count": 42,
   "metadata": {},
   "outputs": [],
   "source": [
    "from pprint import pprint"
   ]
  },
  {
   "cell_type": "code",
   "execution_count": 44,
   "metadata": {},
   "outputs": [],
   "source": [
    "response = request_to_chatbot_api('getUpdates', 'offset=0')"
   ]
  },
  {
   "cell_type": "code",
   "execution_count": 45,
   "metadata": {},
   "outputs": [
    {
     "name": "stdout",
     "output_type": "stream",
     "text": [
      "{'ok': True, 'result': []}\n"
     ]
    }
   ],
   "source": [
    "pprint(response)"
   ]
  },
  {
   "cell_type": "code",
   "execution_count": 46,
   "metadata": {},
   "outputs": [],
   "source": [
    "def send_message(chat_id, text):\n",
    "...     \"\"\"챗봇 API로 메시지를 chat_id 사용자에게 text 메시지를 발신한다.\"\"\"\n",
    "...     text = urllib.parse.quote(text)\n",
    "...     query = f'chat_id={chat_id}&text={text}'\n",
    "...     response = request_to_chatbot_api(method='sendMessage', query=query)\n",
    "...     return response"
   ]
  },
  {
   "cell_type": "code",
   "execution_count": null,
   "metadata": {},
   "outputs": [],
   "source": [
    "send_message(chat_id,'반갑다 대거나')"
   ]
  }
 ],
 "metadata": {
  "kernelspec": {
   "display_name": "Python 3",
   "language": "python",
   "name": "python3"
  },
  "language_info": {
   "codemirror_mode": {
    "name": "ipython",
    "version": 3
   },
   "file_extension": ".py",
   "mimetype": "text/x-python",
   "name": "python",
   "nbconvert_exporter": "python",
   "pygments_lexer": "ipython3",
   "version": "3.7.4"
  }
 },
 "nbformat": 4,
 "nbformat_minor": 2
}

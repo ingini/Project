{
 "cells": [
  {
   "cell_type": "code",
   "execution_count": 1,
   "metadata": {
    "scrolled": true
   },
   "outputs": [
    {
     "name": "stderr",
     "output_type": "stream",
     "text": [
      "C:\\Users\\multicampus\\Anaconda3\\lib\\site-packages\\jpype\\_core.py:210: UserWarning: \n",
      "-------------------------------------------------------------------------------\n",
      "Deprecated: convertStrings was not specified when starting the JVM. The default\n",
      "behavior in JPype will be False starting in JPype 0.8. The recommended setting\n",
      "for new code is convertStrings=False.  The legacy value of True was assumed for\n",
      "this session. If you are a user of an application that reported this warning,\n",
      "please file a ticket with the developer.\n",
      "-------------------------------------------------------------------------------\n",
      "\n",
      "  \"\"\")\n"
     ]
    }
   ],
   "source": [
    "import konlpy\n",
    "from konlpy.tag import Kkma\n",
    "from konlpy.tag import Okt\n",
    "import pandas as pd\n",
    "import numpy as np\n",
    "from nltk.corpus import stopwords\n",
    "from nltk.stem.porter import PorterStemmer\n",
    "from gensim import corpora, models\n",
    "import gensim\n",
    "from nltk.tokenize import RegexpTokenizer\n",
    "import nltk\n",
    "import dill\n",
    "import time\n",
    "import os\n",
    "\n",
    "okt = Okt()"
   ]
  },
  {
   "cell_type": "code",
   "execution_count": 2,
   "metadata": {},
   "outputs": [],
   "source": [
    "import urllib.request"
   ]
  },
  {
   "cell_type": "code",
   "execution_count": 3,
   "metadata": {},
   "outputs": [],
   "source": [
    "def request(url):\n",
    "    '''지정한 url의 웹문서를 요청하여, 본문을 반환한다.'''\n",
    "    response = urllib.request.urlopen(url)\n",
    "    byte_data = response.read()\n",
    "    text_data = byte_data.decode()\n",
    "    return text_data"
   ]
  },
  {
   "cell_type": "code",
   "execution_count": 4,
   "metadata": {},
   "outputs": [],
   "source": [
    "TOKEN = '987614280:AAEm2rKQ2n3bIi2PBk-0-1Uwip_JRxF-3n8'"
   ]
  },
  {
   "cell_type": "code",
   "execution_count": 5,
   "metadata": {},
   "outputs": [],
   "source": [
    "chat_id = 978041012"
   ]
  },
  {
   "cell_type": "code",
   "execution_count": 6,
   "metadata": {},
   "outputs": [],
   "source": [
    "import telepot\n",
    "import numpy as np"
   ]
  },
  {
   "cell_type": "code",
   "execution_count": 7,
   "metadata": {},
   "outputs": [],
   "source": [
    "bot = telepot.Bot('987614280:AAEm2rKQ2n3bIi2PBk-0-1Uwip_JRxF-3n8')"
   ]
  },
  {
   "cell_type": "code",
   "execution_count": 8,
   "metadata": {},
   "outputs": [
    {
     "data": {
      "text/plain": [
       "{'id': 987614280,\n",
       " 'is_bot': True,\n",
       " 'first_name': 'hasoyeon',\n",
       " 'username': 'hasoyeon_bot'}"
      ]
     },
     "execution_count": 8,
     "metadata": {},
     "output_type": "execute_result"
    }
   ],
   "source": [
    "bot.getMe()"
   ]
  },
  {
   "cell_type": "code",
   "execution_count": 9,
   "metadata": {},
   "outputs": [],
   "source": [
    "InfoMsg = '안녕! 나는 고민을 들어주는 하소연봇이야!\\n'\\\n",
    "          '너의 고민이나 하소연거리를 말해봐'"
   ]
  },
  {
   "cell_type": "code",
   "execution_count": 10,
   "metadata": {},
   "outputs": [
    {
     "data": {
      "text/plain": [
       "{'message_id': 35,\n",
       " 'from': {'id': 987614280,\n",
       "  'is_bot': True,\n",
       "  'first_name': 'hasoyeon',\n",
       "  'username': 'hasoyeon_bot'},\n",
       " 'chat': {'id': 978041012,\n",
       "  'first_name': 'Byoung Kyu',\n",
       "  'last_name': 'Park',\n",
       "  'type': 'private'},\n",
       " 'date': 1571214233,\n",
       " 'text': '안녕! 나는 고민을 들어주는 하소연봇이야!\\n너의 고민이나 하소연거리를 말해봐'}"
      ]
     },
     "execution_count": 10,
     "metadata": {},
     "output_type": "execute_result"
    }
   ],
   "source": [
    "bot.sendMessage(chat_id, InfoMsg)"
   ]
  },
  {
   "cell_type": "code",
   "execution_count": 11,
   "metadata": {
    "scrolled": true
   },
   "outputs": [],
   "source": [
    "import dill\n",
    "model1 = dill.load(open('CP_classif_RF.obj','rb'))"
   ]
  },
  {
   "cell_type": "code",
   "execution_count": 12,
   "metadata": {},
   "outputs": [],
   "source": [
    "model2 = dill.load(open('CP_classif_tfidf.obj','rb'))"
   ]
  },
  {
   "cell_type": "code",
   "execution_count": 13,
   "metadata": {},
   "outputs": [],
   "source": [
    "model3 = dill.load(open('gomin_classif_tfidf.obj','rb'))"
   ]
  },
  {
   "cell_type": "code",
   "execution_count": 14,
   "metadata": {},
   "outputs": [],
   "source": [
    "model4 = dill.load(open('gomin_classif_RF.obj','rb'))"
   ]
  },
  {
   "cell_type": "code",
   "execution_count": 15,
   "metadata": {},
   "outputs": [
    {
     "name": "stderr",
     "output_type": "stream",
     "text": [
      "Using TensorFlow backend.\n"
     ]
    }
   ],
   "source": [
    "from keras.models import load_model\n",
    "# model = load_model('classification_model.h5')"
   ]
  },
  {
   "cell_type": "code",
   "execution_count": 16,
   "metadata": {},
   "outputs": [],
   "source": [
    "from telegram.ext import Updater, MessageHandler, Filters\n",
    "from emoji import emojize"
   ]
  },
  {
   "cell_type": "code",
   "execution_count": 17,
   "metadata": {
    "scrolled": true
   },
   "outputs": [],
   "source": [
    "text = []"
   ]
  },
  {
   "cell_type": "code",
   "execution_count": 18,
   "metadata": {},
   "outputs": [],
   "source": [
    "answers = ['아~ 그래요?', '진짜?', 'flex 하넹','아~', '그래서요~?']"
   ]
  },
  {
   "cell_type": "code",
   "execution_count": 19,
   "metadata": {},
   "outputs": [],
   "source": [
    "# 운동몸매 :1 , 부부 :2 , 연애 :3 , 외모 : 4 , 진로 :5 ,직장 :6, 이별 7 , 친구 :8, 심리 : 9"
   ]
  },
  {
   "cell_type": "code",
   "execution_count": 20,
   "metadata": {},
   "outputs": [],
   "source": [
    "def pos_tag2(text):\n",
    "    # KoNLPy 형태소분석기 설정\n",
    "    tagger = Okt()\n",
    "    \n",
    "    # 문장 품사 변수 초기화\n",
    "    sentences_pos = []\n",
    "    sentence = \" \".join(tagger.morphs(text))\n",
    "    sentences_pos.append(text)\n",
    "    \n",
    "  \n",
    "    return sentences_pos"
   ]
  },
  {
   "cell_type": "code",
   "execution_count": 21,
   "metadata": {},
   "outputs": [],
   "source": [
    "def sentense_classfication(hiyo):\n",
    "    \n",
    "    sentence = pos_tag2(hiyo)\n",
    "    test_sen = CP_tfidf_model.transform(sentence).toarray()\n",
    "    predict_CP = CP_RF_model.predict(test_sen)\n",
    "    predict_label = predict_CP[0]\n",
    "    \n",
    "    return(predict_label)"
   ]
  },
  {
   "cell_type": "code",
   "execution_count": 22,
   "metadata": {},
   "outputs": [],
   "source": [
    "def gomin_classfication(hiyo2):\n",
    "    \n",
    "    sentences = pos_tag2(hiyo2)\n",
    "    test_sens = model3.transform(sentences).toarray()\n",
    "    predict_GM = model4.predict(test_sens)\n",
    "    self = predict_GM[0]\n",
    "    \n",
    "    return(self)"
   ]
  },
  {
   "cell_type": "code",
   "execution_count": null,
   "metadata": {},
   "outputs": [],
   "source": []
  },
  {
   "cell_type": "code",
   "execution_count": 23,
   "metadata": {},
   "outputs": [],
   "source": [
    "hiyo = []\n",
    "hiyo2 = []"
   ]
  },
  {
   "cell_type": "code",
   "execution_count": 24,
   "metadata": {},
   "outputs": [],
   "source": [
    "InfoMsg = '안녕! 나는 고민을 들어주는 하소연봇이야!\\n'\\\n",
    "          '너의 고민이나 하소연거리를 말해봐'\n",
    "\n",
    "status = True\n",
    "\n",
    "def handle(msg):\n",
    "    content_type, chat_type, chat_id = telepot.glance(msg)\n",
    "    print(content_type, chat_type, chat_id)\n",
    "    print('-'*15)\n",
    "    print(msg['text'])\n",
    "    hiyo = pos_tag2(msg['text'])\n",
    "    hiyo2.append(msg['text']) \n",
    "    test_sen = model2.transform(hiyo).toarray()\n",
    "    predict_CP = model1.predict(test_sen)\n",
    "    pice = predict_CP[0]\n",
    "\n",
    "    if  pice == 0:\n",
    "        bot.sendMessage(chat_id, answers[np.random.randint(5)])\n",
    "    elif pice == 1:\n",
    "        text2 = str(hiyo2)\n",
    "        self = gomin_classfication(text2)                \n",
    "        if self == 1:\n",
    "            bot.sendMessage(chat_id, '몸매고민중이시네요 이사이트로 가봐요~ 해결이 안되면 전문가를 찾아가세요')\n",
    "            cod =  'https://m.blog.naver.com/PostView.nhn?blogId=yseun89&logNo=221562212539&proxyReferer=https%3A%2F%2Fwww.google.com%2F'\n",
    "            bot.sendMessage(chat_id, cod)\n",
    "        elif self == 2:\n",
    "            bot.sendMessage(chat_id, '부부고민중이시네요 이 사이트로 가봐요~ 해결이 안되면 전문가를 찾아가세요')\n",
    "            cod1 = 'http://www.bami.kr/news/view.html?section=9&category=173&no=482'\n",
    "            bot.sendMessage(chat_id, cod1)\n",
    "        elif self == 3:\n",
    "            bot.sendMessage(chat_id, '연애고민중이시네요 이 사이트로 가봐요~ 해결이 안되면 전문가를 찾아가세요') \n",
    "            cod2 = 'http://blog.naver.com/PostView.nhn?blogId=papervore&logNo=220851171008&parentCategoryNo=&categoryNo=13&viewDate=&isShowPopularPosts=true&from=search'\n",
    "            bot.sendMessage(chat_id, cod2)\n",
    "        elif self == 4: \n",
    "            bot.sendMessage(chat_id, '외모고민중이시네요 이 사이트로 가봐요~ 해결이 안되면 전문가를 찾아가세요')\n",
    "            cod3 = 'https://post.naver.com/viewer/postView.nhn?volumeNo=17137619&memberNo=32927668'\n",
    "            bot.sendMessage(chat_id, cod3)\n",
    "        elif self == 5:\n",
    "            bot.sendMessage(chat_id, '진로고민중이시네요 이 사이트로 가봐요~ 해결이 안되면 전문가를 찾아가세요')\n",
    "            cod4 = 'https://post.naver.com/viewer/postView.nhn?volumeNo=13232979&memberNo=16432281'\n",
    "            bot.sendMessage(chat_id, cod4)\n",
    "        elif self == 6:\n",
    "            bot.sendMessage(chat_id, '직장고민중이시네요 이 사이트로 가봐요~ 해결이 안되면 전문가를 찾아가세요')\n",
    "            cod5 = 'http://www.yes24.com/Product/Goods/9294267'\n",
    "            bot.sendMessage(chat_id, cod5)\n",
    "        elif self == 7:\n",
    "            bot.sendMessage(chat_id, '이별고민중이시네요 이 사이트로 가봐요~ 해결이 안되면 전문가를 찾아가세요')\n",
    "            cod6 = 'https://www.youtube.com/watch?v=eeO6Gx4JkKQ'\n",
    "            bot.sendMessage(chat_id, cod6)\n",
    "        elif self == 8:\n",
    "            bot.sendMessage(chat_id, '친구고민중이시네요 이 사이트로 가봐요~ 해결이 안되면 전문가를 찾아가세요')\n",
    "            cod7 = 'https://m.blog.naver.com/PostView.nhn?blogId=rohmplay&logNo=220022080041&proxyReferer=https%3A%2F%2Fwww.google.com%2F'\n",
    "            bot.sendMessage(chat_id, cod7)\n",
    "        else:\n",
    "            bot.sendMessage(chat_id, '심리고민중이네요 이사이트로 가보세요~ 해결이 안되면 전문가를 찾아가세요')\n",
    "            cod8 = 'https://www.youtube.com/channel/UC5FrwbjA_vjmU9nGbjpbwyg'\n",
    "            bot.sendMessage(chat_id, cod8)\n",
    "    else:                                                                                     ##value == 해결책\n",
    "        bot.sendMessage(chat_id, InfoMsg)"
   ]
  },
  {
   "cell_type": "code",
   "execution_count": null,
   "metadata": {},
   "outputs": [
    {
     "name": "stdout",
     "output_type": "stream",
     "text": [
      "text private 978041012\n",
      "---------------\n",
      "살이 엄청 쪘는데 어떡하죠\n",
      "text private 978041012\n",
      "---------------\n",
      "응 진짜 다이어트하고 싶은데 원푸드 다이어트같은건 어때?\n",
      "text private 978041012\n",
      "---------------\n",
      "조언좀\n"
     ]
    }
   ],
   "source": [
    "bot.message_loop(handle)        \n",
    "            \n",
    "while status == True:\n",
    "    time.sleep(5)"
   ]
  },
  {
   "cell_type": "code",
   "execution_count": null,
   "metadata": {},
   "outputs": [],
   "source": [
    "# 운동몸매 :1 , 부부 :2 , 연애 :3 , 외모 : 4 , 진로 :5 ,직장 :6, 이별 7 , 친구 :8, 심리 : 9"
   ]
  },
  {
   "cell_type": "code",
   "execution_count": null,
   "metadata": {},
   "outputs": [],
   "source": [
    "text"
   ]
  },
  {
   "cell_type": "markdown",
   "metadata": {},
   "source": [
    "msg['text'] 내용\n",
    "\n",
    "if문에 어떤 문장인지 분류한 것을 주고\n",
    "\n",
    "elif에 해결책으로 분류된 부분 중에 또 if를 주고?!\n",
    "\n",
    "else에는 그냥 몰라로 주는걸로?"
   ]
  },
  {
   "cell_type": "code",
   "execution_count": null,
   "metadata": {},
   "outputs": [],
   "source": []
  },
  {
   "cell_type": "code",
   "execution_count": null,
   "metadata": {},
   "outputs": [],
   "source": [
    "# text = '직장 상사가 야릇한 섹드립을 오지게 치는데 ㅈㄴ 열받네요'\n",
    "\n",
    "# text = pos_tag2(text)"
   ]
  },
  {
   "cell_type": "code",
   "execution_count": null,
   "metadata": {},
   "outputs": [],
   "source": [
    "# test_sen = model2.transform(text).toarray()\n",
    "\n",
    "# a = model1.predict(test_sen)\n",
    "\n",
    "# print(a[0])"
   ]
  },
  {
   "cell_type": "code",
   "execution_count": null,
   "metadata": {},
   "outputs": [],
   "source": [
    "# test_sen2 = model3.transform(text).toarray()\n",
    "# a2 = model4.predict(test_sen2)\n",
    "# self = print(a2[0])"
   ]
  },
  {
   "cell_type": "code",
   "execution_count": null,
   "metadata": {},
   "outputs": [],
   "source": []
  },
  {
   "cell_type": "code",
   "execution_count": null,
   "metadata": {},
   "outputs": [],
   "source": []
  },
  {
   "cell_type": "code",
   "execution_count": null,
   "metadata": {},
   "outputs": [],
   "source": []
  },
  {
   "cell_type": "markdown",
   "metadata": {},
   "source": [
    "## 마지막 분류기 추출"
   ]
  },
  {
   "cell_type": "code",
   "execution_count": null,
   "metadata": {},
   "outputs": [],
   "source": []
  },
  {
   "cell_type": "code",
   "execution_count": null,
   "metadata": {},
   "outputs": [],
   "source": [
    "# bot.sendMessage(chat_id, qs2.text + '<<< 이 고민이 맞나요~?')"
   ]
  },
  {
   "cell_type": "code",
   "execution_count": null,
   "metadata": {},
   "outputs": [],
   "source": []
  },
  {
   "cell_type": "code",
   "execution_count": null,
   "metadata": {},
   "outputs": [],
   "source": []
  },
  {
   "cell_type": "code",
   "execution_count": null,
   "metadata": {},
   "outputs": [],
   "source": []
  }
 ],
 "metadata": {
  "kernelspec": {
   "display_name": "Python 3",
   "language": "python",
   "name": "python3"
  },
  "language_info": {
   "codemirror_mode": {
    "name": "ipython",
    "version": 3
   },
   "file_extension": ".py",
   "mimetype": "text/x-python",
   "name": "python",
   "nbconvert_exporter": "python",
   "pygments_lexer": "ipython3",
   "version": "3.7.4"
  }
 },
 "nbformat": 4,
 "nbformat_minor": 2
}

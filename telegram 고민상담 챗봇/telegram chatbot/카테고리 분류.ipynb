{
 "cells": [
  {
   "cell_type": "code",
   "execution_count": 1,
   "metadata": {},
   "outputs": [],
   "source": [
    "import numpy as np\n",
    "import pandas as pd\n",
    "import matplotlib.pyplot as plt\n",
    "import os\n",
    "import re\n",
    "\n",
    "from konlpy.tag import Okt"
   ]
  },
  {
   "cell_type": "code",
   "execution_count": 2,
   "metadata": {},
   "outputs": [],
   "source": [
    "df1 = pd.read_csv('고민상담.csv', encoding ='utf-8')\n",
    "df2 = pd.read_csv('공황장애고민.csv', encoding ='utf-8')\n",
    "df3 = pd.read_csv('군입대고민.csv', encoding ='utf-8')\n",
    "df4 = pd.read_csv('다이어트고민.csv', encoding ='utf-8')\n",
    "df5 = pd.read_csv('대학생활고민.csv', encoding ='utf-8')\n",
    "df6 = pd.read_csv('몸매고민.csv', encoding ='utf-8')\n",
    "df7 = pd.read_csv('부부고민.csv', encoding ='utf-8')\n",
    "df8 = pd.read_csv('불안장애고민.csv', encoding ='utf-8')\n",
    "df9 = pd.read_csv('사랑고민.csv', encoding ='utf-8')\n",
    "df10 = pd.read_csv('심리상담.csv', encoding ='utf-8')\n",
    "df11 = pd.read_csv('연상고민.csv', encoding ='utf-8')\n",
    "df12 = pd.read_csv('연애고민.csv', encoding ='utf-8')\n",
    "df13 = pd.read_csv('연인관계고민.csv', encoding ='utf-8')\n",
    "df14 = pd.read_csv('연하고민.csv', encoding ='utf-8')\n",
    "df15 = pd.read_csv('외모고민.csv', encoding ='utf-8')\n",
    "df16 = pd.read_csv('우울증고민.csv', encoding ='utf-8')\n",
    "df17 = pd.read_csv('이별고민.csv', encoding ='utf-8')\n",
    "df18 = pd.read_csv('이혼고민.csv', encoding ='utf-8')\n",
    "df19 = pd.read_csv('입시고민.csv', encoding ='utf-8')\n",
    "df20 = pd.read_csv('직장고민.csv', encoding ='utf-8')\n",
    "df21 = pd.read_csv('직장생활고민.csv', encoding ='utf-8')\n",
    "df22 = pd.read_csv('진로고민.csv', encoding ='utf-8')\n",
    "df23 = pd.read_csv('취업고민.csv', encoding ='utf-8')\n",
    "df24 = pd.read_csv('친구관계고민.csv', encoding ='utf-8')\n",
    "df25 = pd.read_csv('퇴사고민.csv', encoding ='utf-8')\n",
    "df26 = pd.read_csv('피부고민.csv', encoding ='utf-8')\n",
    "df27 = pd.read_csv('학업고민.csv', encoding ='utf-8')"
   ]
  },
  {
   "cell_type": "code",
   "execution_count": 3,
   "metadata": {},
   "outputs": [],
   "source": [
    "# 운동몸매 :1 , 부부 :2 , 연애 :3 , 외모 : 4 , 진로 :5 ,직장 :6, 이별 7 , 친구 :8, 심리 : 9"
   ]
  },
  {
   "cell_type": "code",
   "execution_count": 4,
   "metadata": {},
   "outputs": [],
   "source": [
    "def test(s):\n",
    "    hangul = re.compile('[^ ㄱ-ㅣ가-힣]+') # 한글과 띄어쓰기를 제외한 모든 글자\n",
    "    result = hangul.sub('', s) # 한글과 띄어쓰기를 제외한 모든 부분을 제거\n",
    "    return result"
   ]
  },
  {
   "cell_type": "code",
   "execution_count": 5,
   "metadata": {},
   "outputs": [],
   "source": [
    "def make_label(df):\n",
    "    df= df.drop(['Unnamed: 0','index'], axis =1)\n",
    "    df.columns = ['text']\n",
    "    df['label'] = 0\n",
    "    for i in range(len(df['text'])):\n",
    "        if df['text'][i] == '\\n':\n",
    "            df['label'][i-1] = 1\n",
    "            df = df.drop([i])\n",
    "            \n",
    "    df['text'] = df['text'].apply(lambda x : test(x))\n",
    "\n",
    "    return df"
   ]
  },
  {
   "cell_type": "code",
   "execution_count": 6,
   "metadata": {},
   "outputs": [],
   "source": [
    "df1 = make_label(df1)\n",
    "df2 = make_label(df2)\n",
    "df3 = make_label(df3)\n",
    "df4 = make_label(df4)\n",
    "df5 = make_label(df5)\n",
    "df6 = make_label(df6)\n",
    "df7 = make_label(df7)\n",
    "df8 = make_label(df8)\n",
    "df9 = make_label(df9)\n",
    "df10 = make_label(df10)\n",
    "df11 = make_label(df11)\n",
    "df12 = make_label(df12)\n",
    "df13 = make_label(df13)\n",
    "df14 = make_label(df14)\n",
    "df15 = make_label(df15)\n",
    "df16 = make_label(df16)\n",
    "df17 = make_label(df17)\n",
    "df18 = make_label(df18)\n",
    "df19 = make_label(df19)\n",
    "df20 = make_label(df20)\n",
    "df21 = make_label(df21)\n",
    "df22 = make_label(df22)\n",
    "df23 = make_label(df23)\n",
    "df24 = make_label(df24)\n",
    "df25 = make_label(df25)\n",
    "df26 = make_label(df26)\n",
    "df27 = make_label(df27)\n"
   ]
  },
  {
   "cell_type": "code",
   "execution_count": 7,
   "metadata": {},
   "outputs": [],
   "source": [
    "# 운동몸매 :1 , 부부 :2 , 연애 :3 , 외모 : 4 , 진로 :5 ,직장 :6, 이별 7 , 친구 :8, 심리 : 9"
   ]
  },
  {
   "cell_type": "code",
   "execution_count": 8,
   "metadata": {},
   "outputs": [],
   "source": [
    "df1.label = 9\n",
    "df2.label = 9\n",
    "df3.label = 5\n",
    "df4.label = 1\n",
    "df5.label = 8\n",
    "df6.label = 1\n",
    "df7.label = 2\n",
    "df8.label = 9\n",
    "df9.label = 3\n",
    "df10.label = 3\n",
    "df11.label = 3\n",
    "df12.label = 3\n",
    "df13.label = 3\n",
    "df14.label = 3\n",
    "df15.label = 4\n",
    "df16.label = 9\n",
    "df17.label = 7\n",
    "df18.label = 2\n",
    "df19.label = 5\n",
    "df20.label = 6\n",
    "df21.label = 6\n",
    "df22.label = 5\n",
    "df23.label = 5\n",
    "df24.label = 8\n",
    "df25.label = 6\n",
    "df26.label = 4\n",
    "df27.label = 5"
   ]
  },
  {
   "cell_type": "code",
   "execution_count": 9,
   "metadata": {},
   "outputs": [],
   "source": [
    "f_df=pd.concat([df1,df2,df3,df4,df5,df6,df7,df8,df9,df10,df11,df12,df13,df14,df15,df16,df17,df18,df19,df20,\\\n",
    "          df21,df22,df23,df24,df25,df26,df27], axis=0)"
   ]
  },
  {
   "cell_type": "code",
   "execution_count": 10,
   "metadata": {},
   "outputs": [],
   "source": [
    "f_df.index = list(range(len(f_df)))"
   ]
  },
  {
   "cell_type": "code",
   "execution_count": 11,
   "metadata": {},
   "outputs": [],
   "source": [
    "from tqdm import tqdm_notebook\n",
    "from konlpy.tag import Okt\n",
    "\n",
    "RE_FILTER = re.compile(\"[.,!?\\\"':;~()]\")\n",
    "\n",
    "def pos_tag(sentences):\n",
    "    from tqdm import tqdm_notebook\n",
    "    # KoNLPy 형태소분석기 설정\n",
    "    tagger = Okt()\n",
    "    \n",
    "    # 문장 품사 변수 초기화\n",
    "    sentences_pos = []\n",
    "    \n",
    "    # 모든 문장 반복\n",
    "    for sentence in tqdm_notebook(sentences):\n",
    "        # 특수기호 제거\n",
    "        sentence = re.sub(RE_FILTER, \"\", sentence)\n",
    "        \n",
    "        # 배열인 형태소분석의 출력을 띄어쓰기로 구분하여 붙임\n",
    "        sentence = \" \".join(tagger.morphs(sentence))\n",
    "        sentences_pos.append(sentence)\n",
    "        \n",
    "    return sentences_pos"
   ]
  },
  {
   "cell_type": "code",
   "execution_count": 12,
   "metadata": {},
   "outputs": [
    {
     "name": "stderr",
     "output_type": "stream",
     "text": [
      "C:\\Users\\user\\Anaconda3\\lib\\site-packages\\jpype\\_core.py:210: UserWarning: \n",
      "-------------------------------------------------------------------------------\n",
      "Deprecated: convertStrings was not specified when starting the JVM. The default\n",
      "behavior in JPype will be False starting in JPype 0.8. The recommended setting\n",
      "for new code is convertStrings=False.  The legacy value of True was assumed for\n",
      "this session. If you are a user of an application that reported this warning,\n",
      "please file a ticket with the developer.\n",
      "-------------------------------------------------------------------------------\n",
      "\n",
      "  \"\"\")\n"
     ]
    },
    {
     "data": {
      "application/vnd.jupyter.widget-view+json": {
       "model_id": "cc545aa9fe374ff7815fc7bc7c62e0bf",
       "version_major": 2,
       "version_minor": 0
      },
      "text/plain": [
       "HBox(children=(IntProgress(value=0, max=24642), HTML(value='')))"
      ]
     },
     "metadata": {},
     "output_type": "display_data"
    },
    {
     "name": "stdout",
     "output_type": "stream",
     "text": [
      "\n"
     ]
    }
   ],
   "source": [
    "data= pos_tag(f_df.text)"
   ]
  },
  {
   "cell_type": "code",
   "execution_count": 13,
   "metadata": {},
   "outputs": [],
   "source": [
    "df = pd.DataFrame(data)\n",
    "df.columns= ['text']\n",
    "df['label']= f_df.label"
   ]
  },
  {
   "cell_type": "code",
   "execution_count": 14,
   "metadata": {},
   "outputs": [],
   "source": [
    "df.to_csv('고민카테고리.csv', encoding= 'utf-8')"
   ]
  },
  {
   "cell_type": "code",
   "execution_count": null,
   "metadata": {},
   "outputs": [],
   "source": []
  },
  {
   "cell_type": "code",
   "execution_count": 14,
   "metadata": {
    "scrolled": true
   },
   "outputs": [
    {
     "data": {
      "text/plain": [
       "0        None\n",
       "1        None\n",
       "2        None\n",
       "3        None\n",
       "4        None\n",
       "5        None\n",
       "6        None\n",
       "7        None\n",
       "8        None\n",
       "9        None\n",
       "10       None\n",
       "11       None\n",
       "12       None\n",
       "13       None\n",
       "14       None\n",
       "15       None\n",
       "16       None\n",
       "17       None\n",
       "18       None\n",
       "19       None\n",
       "20       None\n",
       "21       None\n",
       "22       None\n",
       "23       None\n",
       "24       None\n",
       "25       None\n",
       "26       None\n",
       "27       None\n",
       "28       None\n",
       "29       None\n",
       "         ... \n",
       "24612    None\n",
       "24613    None\n",
       "24614    None\n",
       "24615    None\n",
       "24616    None\n",
       "24617    None\n",
       "24618    None\n",
       "24619    None\n",
       "24620    None\n",
       "24621    None\n",
       "24622    None\n",
       "24623    None\n",
       "24624    None\n",
       "24625    None\n",
       "24626    None\n",
       "24627    None\n",
       "24628    None\n",
       "24629    None\n",
       "24630    None\n",
       "24631    None\n",
       "24632    None\n",
       "24633    None\n",
       "24634    None\n",
       "24635    None\n",
       "24636    None\n",
       "24637    None\n",
       "24638    None\n",
       "24639    None\n",
       "24640    None\n",
       "24641    None\n",
       "Name: text, Length: 24642, dtype: object"
      ]
     },
     "execution_count": 14,
     "metadata": {},
     "output_type": "execute_result"
    }
   ],
   "source": [
    "data = []\n",
    "df.text.apply(lambda x: data.append(x))"
   ]
  },
  {
   "cell_type": "code",
   "execution_count": 15,
   "metadata": {
    "scrolled": true
   },
   "outputs": [
    {
     "data": {
      "text/html": [
       "<div>\n",
       "<style scoped>\n",
       "    .dataframe tbody tr th:only-of-type {\n",
       "        vertical-align: middle;\n",
       "    }\n",
       "\n",
       "    .dataframe tbody tr th {\n",
       "        vertical-align: top;\n",
       "    }\n",
       "\n",
       "    .dataframe thead th {\n",
       "        text-align: right;\n",
       "    }\n",
       "</style>\n",
       "<table border=\"1\" class=\"dataframe\">\n",
       "  <thead>\n",
       "    <tr style=\"text-align: right;\">\n",
       "      <th></th>\n",
       "      <th>text</th>\n",
       "      <th>label</th>\n",
       "    </tr>\n",
       "  </thead>\n",
       "  <tbody>\n",
       "    <tr>\n",
       "      <th>0</th>\n",
       "      <td>저 직업 고민 상담 쫌 해주세요 ㅜㅜㅜㅜㅜ 제발</td>\n",
       "      <td>9</td>\n",
       "    </tr>\n",
       "    <tr>\n",
       "      <th>1</th>\n",
       "      <td>실시간 으로 고민 상담 해주는 사이트 좀 알려줘요 실시간 으로 고민 상담 해주는 사...</td>\n",
       "      <td>9</td>\n",
       "    </tr>\n",
       "    <tr>\n",
       "      <th>2</th>\n",
       "      <td>고민 상담 전화 개인정보 고민 상담 전화 하려는데요 친구 관계 거든요 애 들 이랑 ...</td>\n",
       "      <td>9</td>\n",
       "    </tr>\n",
       "    <tr>\n",
       "      <th>3</th>\n",
       "      <td>입 시생 고민 상담 안녕하세요 고 남학생 인데 요 이러는 시간 이 없는거 알 지만 ...</td>\n",
       "      <td>9</td>\n",
       "    </tr>\n",
       "    <tr>\n",
       "      <th>4</th>\n",
       "      <td>고민 상담 은 삼촌</td>\n",
       "      <td>9</td>\n",
       "    </tr>\n",
       "    <tr>\n",
       "      <th>5</th>\n",
       "      <td>고민 상담 할 만 한 곳 저 는 살 학생 입니다 오늘 따라 더 우울하고 슬프고 외로...</td>\n",
       "      <td>9</td>\n",
       "    </tr>\n",
       "    <tr>\n",
       "      <th>6</th>\n",
       "      <td>고민 상담 좀 해주세요 현재 공장 다니면서 하루 시간 씩 일 하고 교대 근무 하면서...</td>\n",
       "      <td>9</td>\n",
       "    </tr>\n",
       "    <tr>\n",
       "      <th>7</th>\n",
       "      <td>진로 진학 고민 상담 이제 고 됐는데요 동아리 며 봉사활동 이며 다 진로 와 연결 ...</td>\n",
       "      <td>9</td>\n",
       "    </tr>\n",
       "    <tr>\n",
       "      <th>8</th>\n",
       "      <td>학과 고민 상담 저 는 살 이고 현재 년제 대학교 에서 호텔 관광 계열 을 공부 하...</td>\n",
       "      <td>9</td>\n",
       "    </tr>\n",
       "    <tr>\n",
       "      <th>9</th>\n",
       "      <td>고민 상담 사이트 고민 상담 사이트 중 에 친구 한테 들었는데 빅 시스터즈 라는 게...</td>\n",
       "      <td>9</td>\n",
       "    </tr>\n",
       "    <tr>\n",
       "      <th>10</th>\n",
       "      <td>고민 상담 안녕하세요 학년 여고생 인데 요 제 가 결정 한 길 에 대해 서 고민 이...</td>\n",
       "      <td>9</td>\n",
       "    </tr>\n",
       "    <tr>\n",
       "      <th>11</th>\n",
       "      <td>고민 상담 이 요 저 는 친구 들 과 잘 지내고 있는 평범한 중이 에요 근데 제 가...</td>\n",
       "      <td>9</td>\n",
       "    </tr>\n",
       "    <tr>\n",
       "      <th>12</th>\n",
       "      <td>고민 상담 해 주세요 안녕하세요 저 는 동생 둘 이 있는 초 학생 입니다 둘째 는 ...</td>\n",
       "      <td>9</td>\n",
       "    </tr>\n",
       "    <tr>\n",
       "      <th>13</th>\n",
       "      <td>고 고민 상담 이 요 급합니다 고등학생 고민 상담 이 요 제발 저 좀 도와주세요 급...</td>\n",
       "      <td>9</td>\n",
       "    </tr>\n",
       "    <tr>\n",
       "      <th>14</th>\n",
       "      <td>고민 상담 제 가 친구 명 이 약간 사이 가 나빠져서 이럴 때 고민 상담 을 누구 ...</td>\n",
       "      <td>9</td>\n",
       "    </tr>\n",
       "    <tr>\n",
       "      <th>15</th>\n",
       "      <td>친구 고민 상담 친구 들 이 고민 상담 을 해올 때 뭐라고 생각 하고 답 해줘 야할...</td>\n",
       "      <td>9</td>\n",
       "    </tr>\n",
       "    <tr>\n",
       "      <th>16</th>\n",
       "      <td>고민 상담 해주세요 자퇴 경험 잇으시거나 인간관계 아무나 고민 상담 진지하게 잘 들...</td>\n",
       "      <td>9</td>\n",
       "    </tr>\n",
       "    <tr>\n",
       "      <th>17</th>\n",
       "      <td>친구 관계 고민 상담 일단 저 는 고 여학생 이고 제 친구 도 고이 에요 초등학생 ...</td>\n",
       "      <td>9</td>\n",
       "    </tr>\n",
       "    <tr>\n",
       "      <th>18</th>\n",
       "      <td>연애 고민 상담 좀 안녕하세요 고 여학생 입니다 제 가 남친 이랑 사귄지 일이 되었...</td>\n",
       "      <td>9</td>\n",
       "    </tr>\n",
       "    <tr>\n",
       "      <th>19</th>\n",
       "      <td>코 성형 고민 상담 의사 분 만 남겨주세요 현재 코 성형 한지 는 개월 밖에 안되었...</td>\n",
       "      <td>9</td>\n",
       "    </tr>\n",
       "    <tr>\n",
       "      <th>20</th>\n",
       "      <td>심리 고민 상담 성향 성격 태도 등 때문 에 동생 이 진짜 싫습니다 동생 과 저 는...</td>\n",
       "      <td>9</td>\n",
       "    </tr>\n",
       "    <tr>\n",
       "      <th>21</th>\n",
       "      <td>고민 상담 부탁드려요 ㅠㅠ 저 는 지금 고등학교 를 졸업 했고 남자친구 는 고 입니...</td>\n",
       "      <td>9</td>\n",
       "    </tr>\n",
       "    <tr>\n",
       "      <th>22</th>\n",
       "      <td>고민 상담 좀 해주세요 ㅠ 학교폭력 땜시 힘들어여 ㅠ 원래 우리 반 저 와 같은 성...</td>\n",
       "      <td>9</td>\n",
       "    </tr>\n",
       "    <tr>\n",
       "      <th>23</th>\n",
       "      <td>고등학교 자퇴 고민 상담 안녕하세요 현재 학교 에서 자퇴 를 고민 중 인 학생 입니...</td>\n",
       "      <td>9</td>\n",
       "    </tr>\n",
       "    <tr>\n",
       "      <th>24</th>\n",
       "      <td>여러분 들 제 고민 상담 좀 해주세 요전 중 여자아이 구 요 고등학교 진학 을 앞뒀...</td>\n",
       "      <td>9</td>\n",
       "    </tr>\n",
       "    <tr>\n",
       "      <th>25</th>\n",
       "      <td>친구 고민 상담 문제 입니다 저 랑 제일 친한 친구 가 있습니다 그 친구 랑 저 는...</td>\n",
       "      <td>9</td>\n",
       "    </tr>\n",
       "    <tr>\n",
       "      <th>26</th>\n",
       "      <td>고 졸 대학 졸업장 고민 상담 부탁드립니다 내공 전문대 다니고 있는 살 남자 입니다...</td>\n",
       "      <td>9</td>\n",
       "    </tr>\n",
       "    <tr>\n",
       "      <th>27</th>\n",
       "      <td>여 잔데요 연애 고민 상담 할 때 여자 한테 하는게 낫나요 아님 남자 한테 하는게 낫나요</td>\n",
       "      <td>9</td>\n",
       "    </tr>\n",
       "    <tr>\n",
       "      <th>28</th>\n",
       "      <td>고민 상담 잘 하는 법좀 알려주세요 ㅜㅜ 안녕하세요 올해 고 되는 남학생 입니다 제...</td>\n",
       "      <td>9</td>\n",
       "    </tr>\n",
       "    <tr>\n",
       "      <th>29</th>\n",
       "      <td>고민 상담 입니다 제 가 학교 에서 짝사랑 하는 귀여운 남자 애가 있어요 근데 제 ...</td>\n",
       "      <td>9</td>\n",
       "    </tr>\n",
       "    <tr>\n",
       "      <th>...</th>\n",
       "      <td>...</td>\n",
       "      <td>...</td>\n",
       "    </tr>\n",
       "    <tr>\n",
       "      <th>24612</th>\n",
       "      <td>자살 고민 중 입니다 최근 삶 의 의욕 을 잃은 것 같습니다 대학 올라온 이후 로 ...</td>\n",
       "      <td>5</td>\n",
       "    </tr>\n",
       "    <tr>\n",
       "      <th>24613</th>\n",
       "      <td>고민 이 있어요 저 는 서울 에 거주 하는 중학생 입니다 제 가 옛날 에 복싱 을 ...</td>\n",
       "      <td>5</td>\n",
       "    </tr>\n",
       "    <tr>\n",
       "      <th>24614</th>\n",
       "      <td>죽고싶어요 이제 겨우 고등학생 밖에 안된 학생 인데 죽고싶어요 친한친구 랑 다 떨어...</td>\n",
       "      <td>5</td>\n",
       "    </tr>\n",
       "    <tr>\n",
       "      <th>24615</th>\n",
       "      <td>동성애 관련 고민 년 정도 고민 했다가 최근 에서야 확실해진 친구 가 있습니다 저 ...</td>\n",
       "      <td>5</td>\n",
       "    </tr>\n",
       "    <tr>\n",
       "      <th>24616</th>\n",
       "      <td>고 인데 학과 고민 상담 좀 부탁드릴께요 정말 고민 입니 다중 부터 현재 까지 건축...</td>\n",
       "      <td>5</td>\n",
       "    </tr>\n",
       "    <tr>\n",
       "      <th>24617</th>\n",
       "      <td>고민 상담 해주세요 많이 힘들어요 안녕하세요 저 는 중 입니다 요즘 부모님 이랑 학...</td>\n",
       "      <td>5</td>\n",
       "    </tr>\n",
       "    <tr>\n",
       "      <th>24618</th>\n",
       "      <td>유학 고민 고민 이 많음 안녕하세요 저 는 인문 계 고 여학생 입니다 제 가 고 겨...</td>\n",
       "      <td>5</td>\n",
       "    </tr>\n",
       "    <tr>\n",
       "      <th>24619</th>\n",
       "      <td>현재 자퇴 를 심각하게 고민 하고 있는 고 입니다 자퇴 를 하는 이유 는 지금 학교...</td>\n",
       "      <td>5</td>\n",
       "    </tr>\n",
       "    <tr>\n",
       "      <th>24620</th>\n",
       "      <td>학년 막 학기 전 공 학점 을 더 들을지 말 지 고민 입니다 전문대 지거국 공대 로...</td>\n",
       "      <td>5</td>\n",
       "    </tr>\n",
       "    <tr>\n",
       "      <th>24621</th>\n",
       "      <td>계열 취업 과 학업 학원 광고 하지 마세요 제발 학점은행제 광고 하지 마세요 살 인...</td>\n",
       "      <td>5</td>\n",
       "    </tr>\n",
       "    <tr>\n",
       "      <th>24622</th>\n",
       "      <td>한심한 나삶 의 고민 질문 하기 앞서 저 는 고 남학생 이고 내 성적 인 성격 을 ...</td>\n",
       "      <td>5</td>\n",
       "    </tr>\n",
       "    <tr>\n",
       "      <th>24623</th>\n",
       "      <td>임상심리사 급 응시 자격 을 충족 할 수 있는 방법 을 고민 하고 있어요 지방 년 ...</td>\n",
       "      <td>5</td>\n",
       "    </tr>\n",
       "    <tr>\n",
       "      <th>24624</th>\n",
       "      <td>사주 제 사주 좋은 편 인가요 미래 생각 에 너무 많은 고민 중 에 있습니다 양력 ...</td>\n",
       "      <td>5</td>\n",
       "    </tr>\n",
       "    <tr>\n",
       "      <th>24625</th>\n",
       "      <td>진로 고민 안녕하세요 저 는 예체능 특성화고 에 다니는 고 입니다 저 는 현재 일반...</td>\n",
       "      <td>5</td>\n",
       "    </tr>\n",
       "    <tr>\n",
       "      <th>24626</th>\n",
       "      <td>진로 고민 ㅠㅠ 고 여학생 인데 요 진로 때문 에 정말 많이 고민 하고 있습니다 하...</td>\n",
       "      <td>5</td>\n",
       "    </tr>\n",
       "    <tr>\n",
       "      <th>24627</th>\n",
       "      <td>진로 에 고민 이 많아 질문 올립니다 요즘 진로 에 고민 이 많습니다 현재 미국 에...</td>\n",
       "      <td>5</td>\n",
       "    </tr>\n",
       "    <tr>\n",
       "      <th>24628</th>\n",
       "      <td>학업 과 시험 점수 올리기에 대한 고민 중 제 가 중 남학생 인데 고민 이 랄 까 ...</td>\n",
       "      <td>5</td>\n",
       "    </tr>\n",
       "    <tr>\n",
       "      <th>24629</th>\n",
       "      <td>영어 고민 이여 ㅠㅠ 제 가 ㅠㅠ 영어 를 그렇게 잘하는건 아니예요 ㅜㅠ 학교 에서...</td>\n",
       "      <td>5</td>\n",
       "    </tr>\n",
       "    <tr>\n",
       "      <th>24630</th>\n",
       "      <td>순천대 사학 과 학업 우수 자전 형 예비 번호 번 받았는데 이 거 합격 가능한가요 ...</td>\n",
       "      <td>5</td>\n",
       "    </tr>\n",
       "    <tr>\n",
       "      <th>24631</th>\n",
       "      <td>초등학교 학년 여자아이 자존감 이 너무 낮아 고민 입니다 초등학교 학년 여자아이 입...</td>\n",
       "      <td>5</td>\n",
       "    </tr>\n",
       "    <tr>\n",
       "      <th>24632</th>\n",
       "      <td>복학 시기 고민 중 입니다 공 시 때문 에 휴학 했는데 이번 해 학기 때 복학 할까...</td>\n",
       "      <td>5</td>\n",
       "    </tr>\n",
       "    <tr>\n",
       "      <th>24633</th>\n",
       "      <td>살의 고민 안녕하세요 저 는 올해 살 입니다 현재 학점은행제 와 독학사 병행 해서 ...</td>\n",
       "      <td>5</td>\n",
       "    </tr>\n",
       "    <tr>\n",
       "      <th>24634</th>\n",
       "      <td>년 제 간호학 과로 편입학 할건데 어떤 전형 을 선택 할지 고민 입니다 전문대 에서...</td>\n",
       "      <td>5</td>\n",
       "    </tr>\n",
       "    <tr>\n",
       "      <th>24635</th>\n",
       "      <td>진로 고민 하 는고 입니다 현 제 저 는 인문 계 를 다니고 있는데요 현 제 상황 ...</td>\n",
       "      <td>5</td>\n",
       "    </tr>\n",
       "    <tr>\n",
       "      <th>24636</th>\n",
       "      <td>고민 상 담해주세요 ㅜ 요즘 에 자살 충 동 들고 살기 시른데 죽기도 싫어요 ㅠㅜ ...</td>\n",
       "      <td>5</td>\n",
       "    </tr>\n",
       "    <tr>\n",
       "      <th>24637</th>\n",
       "      <td>대학 에 대한 고민 이 있습니다 저 는 인문 계 고등학교 에 다니고 있는 고 학생 ...</td>\n",
       "      <td>5</td>\n",
       "    </tr>\n",
       "    <tr>\n",
       "      <th>24638</th>\n",
       "      <td>고민 있어요 중 남학생 입니다 요즘 밤 만 되면 여러 생각 이 들어요 오늘 도 생각...</td>\n",
       "      <td>5</td>\n",
       "    </tr>\n",
       "    <tr>\n",
       "      <th>24639</th>\n",
       "      <td>요즘 들어 학업 으로 인한 스트레스 가 너무 심해 요 압박 감도 너무 들고 제 가 ...</td>\n",
       "      <td>5</td>\n",
       "    </tr>\n",
       "    <tr>\n",
       "      <th>24640</th>\n",
       "      <td>직장인 야간 대학교 고민 인데 현재 고 졸 학력 이라서 학력 부분 에서 직장 에서 ...</td>\n",
       "      <td>5</td>\n",
       "    </tr>\n",
       "    <tr>\n",
       "      <th>24641</th>\n",
       "      <td>중 학업 중단 숙려 제 안녕하세요 중학교 학년 여학생 입니다 제 가 학교 가 너무 ...</td>\n",
       "      <td>5</td>\n",
       "    </tr>\n",
       "  </tbody>\n",
       "</table>\n",
       "<p>24642 rows × 2 columns</p>\n",
       "</div>"
      ],
      "text/plain": [
       "                                                    text  label\n",
       "0                             저 직업 고민 상담 쫌 해주세요 ㅜㅜㅜㅜㅜ 제발      9\n",
       "1      실시간 으로 고민 상담 해주는 사이트 좀 알려줘요 실시간 으로 고민 상담 해주는 사...      9\n",
       "2      고민 상담 전화 개인정보 고민 상담 전화 하려는데요 친구 관계 거든요 애 들 이랑 ...      9\n",
       "3      입 시생 고민 상담 안녕하세요 고 남학생 인데 요 이러는 시간 이 없는거 알 지만 ...      9\n",
       "4                                             고민 상담 은 삼촌      9\n",
       "5      고민 상담 할 만 한 곳 저 는 살 학생 입니다 오늘 따라 더 우울하고 슬프고 외로...      9\n",
       "6      고민 상담 좀 해주세요 현재 공장 다니면서 하루 시간 씩 일 하고 교대 근무 하면서...      9\n",
       "7      진로 진학 고민 상담 이제 고 됐는데요 동아리 며 봉사활동 이며 다 진로 와 연결 ...      9\n",
       "8      학과 고민 상담 저 는 살 이고 현재 년제 대학교 에서 호텔 관광 계열 을 공부 하...      9\n",
       "9      고민 상담 사이트 고민 상담 사이트 중 에 친구 한테 들었는데 빅 시스터즈 라는 게...      9\n",
       "10     고민 상담 안녕하세요 학년 여고생 인데 요 제 가 결정 한 길 에 대해 서 고민 이...      9\n",
       "11     고민 상담 이 요 저 는 친구 들 과 잘 지내고 있는 평범한 중이 에요 근데 제 가...      9\n",
       "12     고민 상담 해 주세요 안녕하세요 저 는 동생 둘 이 있는 초 학생 입니다 둘째 는 ...      9\n",
       "13     고 고민 상담 이 요 급합니다 고등학생 고민 상담 이 요 제발 저 좀 도와주세요 급...      9\n",
       "14     고민 상담 제 가 친구 명 이 약간 사이 가 나빠져서 이럴 때 고민 상담 을 누구 ...      9\n",
       "15     친구 고민 상담 친구 들 이 고민 상담 을 해올 때 뭐라고 생각 하고 답 해줘 야할...      9\n",
       "16     고민 상담 해주세요 자퇴 경험 잇으시거나 인간관계 아무나 고민 상담 진지하게 잘 들...      9\n",
       "17     친구 관계 고민 상담 일단 저 는 고 여학생 이고 제 친구 도 고이 에요 초등학생 ...      9\n",
       "18     연애 고민 상담 좀 안녕하세요 고 여학생 입니다 제 가 남친 이랑 사귄지 일이 되었...      9\n",
       "19     코 성형 고민 상담 의사 분 만 남겨주세요 현재 코 성형 한지 는 개월 밖에 안되었...      9\n",
       "20     심리 고민 상담 성향 성격 태도 등 때문 에 동생 이 진짜 싫습니다 동생 과 저 는...      9\n",
       "21     고민 상담 부탁드려요 ㅠㅠ 저 는 지금 고등학교 를 졸업 했고 남자친구 는 고 입니...      9\n",
       "22     고민 상담 좀 해주세요 ㅠ 학교폭력 땜시 힘들어여 ㅠ 원래 우리 반 저 와 같은 성...      9\n",
       "23     고등학교 자퇴 고민 상담 안녕하세요 현재 학교 에서 자퇴 를 고민 중 인 학생 입니...      9\n",
       "24     여러분 들 제 고민 상담 좀 해주세 요전 중 여자아이 구 요 고등학교 진학 을 앞뒀...      9\n",
       "25     친구 고민 상담 문제 입니다 저 랑 제일 친한 친구 가 있습니다 그 친구 랑 저 는...      9\n",
       "26     고 졸 대학 졸업장 고민 상담 부탁드립니다 내공 전문대 다니고 있는 살 남자 입니다...      9\n",
       "27     여 잔데요 연애 고민 상담 할 때 여자 한테 하는게 낫나요 아님 남자 한테 하는게 낫나요      9\n",
       "28     고민 상담 잘 하는 법좀 알려주세요 ㅜㅜ 안녕하세요 올해 고 되는 남학생 입니다 제...      9\n",
       "29     고민 상담 입니다 제 가 학교 에서 짝사랑 하는 귀여운 남자 애가 있어요 근데 제 ...      9\n",
       "...                                                  ...    ...\n",
       "24612  자살 고민 중 입니다 최근 삶 의 의욕 을 잃은 것 같습니다 대학 올라온 이후 로 ...      5\n",
       "24613  고민 이 있어요 저 는 서울 에 거주 하는 중학생 입니다 제 가 옛날 에 복싱 을 ...      5\n",
       "24614  죽고싶어요 이제 겨우 고등학생 밖에 안된 학생 인데 죽고싶어요 친한친구 랑 다 떨어...      5\n",
       "24615  동성애 관련 고민 년 정도 고민 했다가 최근 에서야 확실해진 친구 가 있습니다 저 ...      5\n",
       "24616  고 인데 학과 고민 상담 좀 부탁드릴께요 정말 고민 입니 다중 부터 현재 까지 건축...      5\n",
       "24617  고민 상담 해주세요 많이 힘들어요 안녕하세요 저 는 중 입니다 요즘 부모님 이랑 학...      5\n",
       "24618  유학 고민 고민 이 많음 안녕하세요 저 는 인문 계 고 여학생 입니다 제 가 고 겨...      5\n",
       "24619  현재 자퇴 를 심각하게 고민 하고 있는 고 입니다 자퇴 를 하는 이유 는 지금 학교...      5\n",
       "24620  학년 막 학기 전 공 학점 을 더 들을지 말 지 고민 입니다 전문대 지거국 공대 로...      5\n",
       "24621  계열 취업 과 학업 학원 광고 하지 마세요 제발 학점은행제 광고 하지 마세요 살 인...      5\n",
       "24622  한심한 나삶 의 고민 질문 하기 앞서 저 는 고 남학생 이고 내 성적 인 성격 을 ...      5\n",
       "24623  임상심리사 급 응시 자격 을 충족 할 수 있는 방법 을 고민 하고 있어요 지방 년 ...      5\n",
       "24624  사주 제 사주 좋은 편 인가요 미래 생각 에 너무 많은 고민 중 에 있습니다 양력 ...      5\n",
       "24625  진로 고민 안녕하세요 저 는 예체능 특성화고 에 다니는 고 입니다 저 는 현재 일반...      5\n",
       "24626  진로 고민 ㅠㅠ 고 여학생 인데 요 진로 때문 에 정말 많이 고민 하고 있습니다 하...      5\n",
       "24627  진로 에 고민 이 많아 질문 올립니다 요즘 진로 에 고민 이 많습니다 현재 미국 에...      5\n",
       "24628  학업 과 시험 점수 올리기에 대한 고민 중 제 가 중 남학생 인데 고민 이 랄 까 ...      5\n",
       "24629  영어 고민 이여 ㅠㅠ 제 가 ㅠㅠ 영어 를 그렇게 잘하는건 아니예요 ㅜㅠ 학교 에서...      5\n",
       "24630  순천대 사학 과 학업 우수 자전 형 예비 번호 번 받았는데 이 거 합격 가능한가요 ...      5\n",
       "24631  초등학교 학년 여자아이 자존감 이 너무 낮아 고민 입니다 초등학교 학년 여자아이 입...      5\n",
       "24632  복학 시기 고민 중 입니다 공 시 때문 에 휴학 했는데 이번 해 학기 때 복학 할까...      5\n",
       "24633  살의 고민 안녕하세요 저 는 올해 살 입니다 현재 학점은행제 와 독학사 병행 해서 ...      5\n",
       "24634  년 제 간호학 과로 편입학 할건데 어떤 전형 을 선택 할지 고민 입니다 전문대 에서...      5\n",
       "24635  진로 고민 하 는고 입니다 현 제 저 는 인문 계 를 다니고 있는데요 현 제 상황 ...      5\n",
       "24636  고민 상 담해주세요 ㅜ 요즘 에 자살 충 동 들고 살기 시른데 죽기도 싫어요 ㅠㅜ ...      5\n",
       "24637  대학 에 대한 고민 이 있습니다 저 는 인문 계 고등학교 에 다니고 있는 고 학생 ...      5\n",
       "24638  고민 있어요 중 남학생 입니다 요즘 밤 만 되면 여러 생각 이 들어요 오늘 도 생각...      5\n",
       "24639  요즘 들어 학업 으로 인한 스트레스 가 너무 심해 요 압박 감도 너무 들고 제 가 ...      5\n",
       "24640  직장인 야간 대학교 고민 인데 현재 고 졸 학력 이라서 학력 부분 에서 직장 에서 ...      5\n",
       "24641  중 학업 중단 숙려 제 안녕하세요 중학교 학년 여학생 입니다 제 가 학교 가 너무 ...      5\n",
       "\n",
       "[24642 rows x 2 columns]"
      ]
     },
     "execution_count": 15,
     "metadata": {},
     "output_type": "execute_result"
    }
   ],
   "source": [
    "df"
   ]
  },
  {
   "cell_type": "code",
   "execution_count": 16,
   "metadata": {},
   "outputs": [],
   "source": [
    "from sklearn.feature_extraction.text import TfidfVectorizer"
   ]
  },
  {
   "cell_type": "code",
   "execution_count": 17,
   "metadata": {},
   "outputs": [],
   "source": [
    "tfidf = TfidfVectorizer(max_features= 3000)"
   ]
  },
  {
   "cell_type": "code",
   "execution_count": 18,
   "metadata": {},
   "outputs": [
    {
     "data": {
      "text/plain": [
       "TfidfVectorizer(analyzer='word', binary=False, decode_error='strict',\n",
       "                dtype=<class 'numpy.float64'>, encoding='utf-8',\n",
       "                input='content', lowercase=True, max_df=1.0, max_features=3000,\n",
       "                min_df=1, ngram_range=(1, 1), norm='l2', preprocessor=None,\n",
       "                smooth_idf=True, stop_words=None, strip_accents=None,\n",
       "                sublinear_tf=False, token_pattern='(?u)\\\\b\\\\w\\\\w+\\\\b',\n",
       "                tokenizer=None, use_idf=True, vocabulary=None)"
      ]
     },
     "execution_count": 18,
     "metadata": {},
     "output_type": "execute_result"
    }
   ],
   "source": [
    "tfidf.fit(data)"
   ]
  },
  {
   "cell_type": "code",
   "execution_count": 19,
   "metadata": {},
   "outputs": [],
   "source": [
    "data = tfidf.transform(data).toarray()"
   ]
  },
  {
   "cell_type": "code",
   "execution_count": 20,
   "metadata": {},
   "outputs": [
    {
     "data": {
      "text/plain": [
       "(24642, 3000)"
      ]
     },
     "execution_count": 20,
     "metadata": {},
     "output_type": "execute_result"
    }
   ],
   "source": [
    "data.shape"
   ]
  },
  {
   "cell_type": "code",
   "execution_count": 21,
   "metadata": {},
   "outputs": [],
   "source": [
    "from sklearn.model_selection import train_test_split\n",
    "\n",
    "x_train, x_test, y_train, y_test = train_test_split(data, df['label'], test_size = 0.2, random_state = 77)"
   ]
  },
  {
   "cell_type": "code",
   "execution_count": 22,
   "metadata": {},
   "outputs": [
    {
     "name": "stderr",
     "output_type": "stream",
     "text": [
      "Using TensorFlow backend.\n"
     ]
    }
   ],
   "source": [
    "from keras.utils import to_categorical\n",
    "\n",
    "y_train = to_categorical(y_train)\n",
    "y_test = to_categorical(y_test)"
   ]
  },
  {
   "cell_type": "code",
   "execution_count": 23,
   "metadata": {},
   "outputs": [
    {
     "data": {
      "text/plain": [
       "(19713, 3000)"
      ]
     },
     "execution_count": 23,
     "metadata": {},
     "output_type": "execute_result"
    }
   ],
   "source": [
    "x_train.shape"
   ]
  },
  {
   "cell_type": "code",
   "execution_count": 24,
   "metadata": {},
   "outputs": [
    {
     "data": {
      "text/plain": [
       "(19713, 10)"
      ]
     },
     "execution_count": 24,
     "metadata": {},
     "output_type": "execute_result"
    }
   ],
   "source": [
    "y_train.shape"
   ]
  },
  {
   "cell_type": "code",
   "execution_count": 25,
   "metadata": {},
   "outputs": [
    {
     "name": "stderr",
     "output_type": "stream",
     "text": [
      "WARNING: Logging before flag parsing goes to stderr.\n",
      "W1016 01:33:19.687854  7380 deprecation_wrapper.py:119] From C:\\Users\\user\\Anaconda3\\lib\\site-packages\\keras\\backend\\tensorflow_backend.py:74: The name tf.get_default_graph is deprecated. Please use tf.compat.v1.get_default_graph instead.\n",
      "\n",
      "W1016 01:33:19.714781  7380 deprecation_wrapper.py:119] From C:\\Users\\user\\Anaconda3\\lib\\site-packages\\keras\\backend\\tensorflow_backend.py:517: The name tf.placeholder is deprecated. Please use tf.compat.v1.placeholder instead.\n",
      "\n",
      "W1016 01:33:19.721761  7380 deprecation_wrapper.py:119] From C:\\Users\\user\\Anaconda3\\lib\\site-packages\\keras\\backend\\tensorflow_backend.py:4138: The name tf.random_uniform is deprecated. Please use tf.random.uniform instead.\n",
      "\n"
     ]
    }
   ],
   "source": [
    "from keras import models\n",
    "from keras import layers\n",
    "\n",
    "model = models.Sequential()\n",
    "model.add(layers.Dense(512, activation ='relu', input_shape=(3000,)))\n",
    "model.add(layers.Dense(256, activation= 'relu'))\n",
    "model.add(layers.Dense(256, activation= 'relu'))\n",
    "model.add(layers.Dense(64, activation= 'relu'))\n",
    "model.add(layers.Dense(10, activation='softmax'))"
   ]
  },
  {
   "cell_type": "code",
   "execution_count": 26,
   "metadata": {},
   "outputs": [
    {
     "name": "stderr",
     "output_type": "stream",
     "text": [
      "W1016 01:33:22.277081  7380 deprecation_wrapper.py:119] From C:\\Users\\user\\Anaconda3\\lib\\site-packages\\keras\\optimizers.py:790: The name tf.train.Optimizer is deprecated. Please use tf.compat.v1.train.Optimizer instead.\n",
      "\n",
      "W1016 01:33:22.292041  7380 deprecation_wrapper.py:119] From C:\\Users\\user\\Anaconda3\\lib\\site-packages\\keras\\backend\\tensorflow_backend.py:3295: The name tf.log is deprecated. Please use tf.math.log instead.\n",
      "\n"
     ]
    }
   ],
   "source": [
    "model.compile(optimizer='adam',\\\n",
    "              loss='categorical_crossentropy',\\\n",
    "              metrics=['accuracy'])"
   ]
  },
  {
   "cell_type": "code",
   "execution_count": 27,
   "metadata": {},
   "outputs": [
    {
     "name": "stderr",
     "output_type": "stream",
     "text": [
      "W1016 01:33:22.547738  7380 deprecation.py:323] From C:\\Users\\user\\Anaconda3\\lib\\site-packages\\tensorflow\\python\\ops\\math_grad.py:1250: add_dispatch_support.<locals>.wrapper (from tensorflow.python.ops.array_ops) is deprecated and will be removed in a future version.\n",
      "Instructions for updating:\n",
      "Use tf.where in 2.0, which has the same broadcast rule as np.where\n",
      "W1016 01:33:22.584639  7380 deprecation_wrapper.py:119] From C:\\Users\\user\\Anaconda3\\lib\\site-packages\\keras\\backend\\tensorflow_backend.py:986: The name tf.assign_add is deprecated. Please use tf.compat.v1.assign_add instead.\n",
      "\n"
     ]
    },
    {
     "name": "stdout",
     "output_type": "stream",
     "text": [
      "Train on 15770 samples, validate on 3943 samples\n",
      "Epoch 1/5\n",
      "15770/15770 [==============================] - ETA: 42s - loss: 2.3029 - acc: 0.07 - ETA: 12s - loss: 2.2930 - acc: 0.21 - ETA: 7s - loss: 2.2761 - acc: 0.3013 - ETA: 5s - loss: 2.2455 - acc: 0.334 - ETA: 4s - loss: 2.1967 - acc: 0.357 - ETA: 4s - loss: 2.1385 - acc: 0.360 - ETA: 3s - loss: 2.0612 - acc: 0.375 - ETA: 3s - loss: 1.9720 - acc: 0.398 - ETA: 3s - loss: 1.8967 - acc: 0.420 - ETA: 3s - loss: 1.8270 - acc: 0.438 - ETA: 2s - loss: 1.7580 - acc: 0.461 - ETA: 2s - loss: 1.6944 - acc: 0.482 - ETA: 2s - loss: 1.6313 - acc: 0.504 - ETA: 2s - loss: 1.5721 - acc: 0.522 - ETA: 2s - loss: 1.5153 - acc: 0.540 - ETA: 2s - loss: 1.4556 - acc: 0.562 - ETA: 1s - loss: 1.4077 - acc: 0.579 - ETA: 1s - loss: 1.3581 - acc: 0.595 - ETA: 1s - loss: 1.3116 - acc: 0.608 - ETA: 1s - loss: 1.2714 - acc: 0.621 - ETA: 1s - loss: 1.2292 - acc: 0.634 - ETA: 1s - loss: 1.1939 - acc: 0.645 - ETA: 1s - loss: 1.1592 - acc: 0.655 - ETA: 1s - loss: 1.1270 - acc: 0.665 - ETA: 1s - loss: 1.1002 - acc: 0.673 - ETA: 1s - loss: 1.0738 - acc: 0.681 - ETA: 1s - loss: 1.0499 - acc: 0.689 - ETA: 0s - loss: 1.0260 - acc: 0.696 - ETA: 0s - loss: 1.0079 - acc: 0.702 - ETA: 0s - loss: 0.9877 - acc: 0.708 - ETA: 0s - loss: 0.9678 - acc: 0.715 - ETA: 0s - loss: 0.9480 - acc: 0.721 - ETA: 0s - loss: 0.9288 - acc: 0.726 - ETA: 0s - loss: 0.9116 - acc: 0.732 - ETA: 0s - loss: 0.8955 - acc: 0.737 - ETA: 0s - loss: 0.8800 - acc: 0.741 - ETA: 0s - loss: 0.8628 - acc: 0.746 - ETA: 0s - loss: 0.8477 - acc: 0.751 - ETA: 0s - loss: 0.8339 - acc: 0.755 - ETA: 0s - loss: 0.8188 - acc: 0.759 - ETA: 0s - loss: 0.8057 - acc: 0.764 - 3s 185us/step - loss: 0.7973 - acc: 0.7666 - val_loss: 0.3588 - val_acc: 0.8950\n",
      "Epoch 2/5\n",
      "15770/15770 [==============================] - ETA: 2s - loss: 0.2106 - acc: 0.945 - ETA: 2s - loss: 0.2030 - acc: 0.947 - ETA: 2s - loss: 0.1918 - acc: 0.943 - ETA: 2s - loss: 0.1781 - acc: 0.950 - ETA: 2s - loss: 0.1879 - acc: 0.945 - ETA: 2s - loss: 0.1799 - acc: 0.946 - ETA: 2s - loss: 0.1712 - acc: 0.949 - ETA: 2s - loss: 0.1662 - acc: 0.952 - ETA: 1s - loss: 0.1606 - acc: 0.953 - ETA: 1s - loss: 0.1626 - acc: 0.952 - ETA: 1s - loss: 0.1683 - acc: 0.951 - ETA: 1s - loss: 0.1669 - acc: 0.952 - ETA: 1s - loss: 0.1685 - acc: 0.952 - ETA: 1s - loss: 0.1688 - acc: 0.951 - ETA: 1s - loss: 0.1679 - acc: 0.952 - ETA: 1s - loss: 0.1664 - acc: 0.953 - ETA: 1s - loss: 0.1640 - acc: 0.953 - ETA: 1s - loss: 0.1629 - acc: 0.954 - ETA: 1s - loss: 0.1632 - acc: 0.954 - ETA: 1s - loss: 0.1636 - acc: 0.954 - ETA: 1s - loss: 0.1683 - acc: 0.952 - ETA: 1s - loss: 0.1709 - acc: 0.951 - ETA: 1s - loss: 0.1684 - acc: 0.952 - ETA: 1s - loss: 0.1689 - acc: 0.952 - ETA: 1s - loss: 0.1715 - acc: 0.951 - ETA: 0s - loss: 0.1730 - acc: 0.951 - ETA: 0s - loss: 0.1714 - acc: 0.952 - ETA: 0s - loss: 0.1683 - acc: 0.952 - ETA: 0s - loss: 0.1680 - acc: 0.953 - ETA: 0s - loss: 0.1712 - acc: 0.952 - ETA: 0s - loss: 0.1741 - acc: 0.952 - ETA: 0s - loss: 0.1754 - acc: 0.952 - ETA: 0s - loss: 0.1768 - acc: 0.951 - ETA: 0s - loss: 0.1773 - acc: 0.951 - ETA: 0s - loss: 0.1781 - acc: 0.951 - ETA: 0s - loss: 0.1793 - acc: 0.951 - ETA: 0s - loss: 0.1804 - acc: 0.950 - ETA: 0s - loss: 0.1821 - acc: 0.950 - ETA: 0s - loss: 0.1826 - acc: 0.950 - ETA: 0s - loss: 0.1820 - acc: 0.950 - ETA: 0s - loss: 0.1815 - acc: 0.950 - 3s 164us/step - loss: 0.1805 - acc: 0.9512 - val_loss: 0.2914 - val_acc: 0.9201\n",
      "Epoch 3/5\n",
      "15770/15770 [==============================] - ETA: 2s - loss: 0.0493 - acc: 0.992 - ETA: 2s - loss: 0.0761 - acc: 0.990 - ETA: 2s - loss: 0.0774 - acc: 0.985 - ETA: 2s - loss: 0.0920 - acc: 0.980 - ETA: 2s - loss: 0.0896 - acc: 0.980 - ETA: 2s - loss: 0.0827 - acc: 0.981 - ETA: 2s - loss: 0.0845 - acc: 0.981 - ETA: 2s - loss: 0.0810 - acc: 0.981 - ETA: 1s - loss: 0.0816 - acc: 0.981 - ETA: 1s - loss: 0.0843 - acc: 0.979 - ETA: 1s - loss: 0.0835 - acc: 0.979 - ETA: 1s - loss: 0.0858 - acc: 0.978 - ETA: 1s - loss: 0.0836 - acc: 0.979 - ETA: 1s - loss: 0.0851 - acc: 0.978 - ETA: 1s - loss: 0.0829 - acc: 0.979 - ETA: 1s - loss: 0.0871 - acc: 0.978 - ETA: 1s - loss: 0.0861 - acc: 0.978 - ETA: 1s - loss: 0.0872 - acc: 0.978 - ETA: 1s - loss: 0.0891 - acc: 0.977 - ETA: 1s - loss: 0.0890 - acc: 0.977 - ETA: 1s - loss: 0.0871 - acc: 0.978 - ETA: 1s - loss: 0.0869 - acc: 0.977 - ETA: 1s - loss: 0.0902 - acc: 0.976 - ETA: 1s - loss: 0.0918 - acc: 0.976 - ETA: 1s - loss: 0.0919 - acc: 0.976 - ETA: 0s - loss: 0.0915 - acc: 0.976 - ETA: 0s - loss: 0.0916 - acc: 0.976 - ETA: 0s - loss: 0.0921 - acc: 0.975 - ETA: 0s - loss: 0.0931 - acc: 0.975 - ETA: 0s - loss: 0.0941 - acc: 0.975 - ETA: 0s - loss: 0.0948 - acc: 0.974 - ETA: 0s - loss: 0.0955 - acc: 0.974 - ETA: 0s - loss: 0.0963 - acc: 0.974 - ETA: 0s - loss: 0.0975 - acc: 0.974 - ETA: 0s - loss: 0.0970 - acc: 0.974 - ETA: 0s - loss: 0.0965 - acc: 0.974 - ETA: 0s - loss: 0.0962 - acc: 0.974 - ETA: 0s - loss: 0.0955 - acc: 0.974 - ETA: 0s - loss: 0.0950 - acc: 0.974 - ETA: 0s - loss: 0.0943 - acc: 0.974 - ETA: 0s - loss: 0.0945 - acc: 0.974 - 3s 164us/step - loss: 0.0938 - acc: 0.9748 - val_loss: 0.3117 - val_acc: 0.9206\n",
      "Epoch 4/5\n",
      "15770/15770 [==============================] - ETA: 2s - loss: 0.0476 - acc: 0.992 - ETA: 2s - loss: 0.0426 - acc: 0.984 - ETA: 2s - loss: 0.0441 - acc: 0.984 - ETA: 2s - loss: 0.0455 - acc: 0.985 - ETA: 2s - loss: 0.0458 - acc: 0.985 - ETA: 2s - loss: 0.0443 - acc: 0.985 - ETA: 2s - loss: 0.0490 - acc: 0.984 - ETA: 2s - loss: 0.0496 - acc: 0.985 - ETA: 1s - loss: 0.0485 - acc: 0.985 - ETA: 1s - loss: 0.0497 - acc: 0.984 - ETA: 1s - loss: 0.0498 - acc: 0.985 - ETA: 1s - loss: 0.0531 - acc: 0.984 - ETA: 1s - loss: 0.0533 - acc: 0.984 - ETA: 1s - loss: 0.0539 - acc: 0.984 - ETA: 1s - loss: 0.0538 - acc: 0.984 - ETA: 1s - loss: 0.0560 - acc: 0.984 - ETA: 1s - loss: 0.0608 - acc: 0.983 - ETA: 1s - loss: 0.0602 - acc: 0.983 - ETA: 1s - loss: 0.0594 - acc: 0.983 - ETA: 1s - loss: 0.0602 - acc: 0.982 - ETA: 1s - loss: 0.0619 - acc: 0.982 - ETA: 1s - loss: 0.0624 - acc: 0.982 - ETA: 1s - loss: 0.0632 - acc: 0.982 - ETA: 1s - loss: 0.0622 - acc: 0.982 - ETA: 1s - loss: 0.0623 - acc: 0.982 - ETA: 0s - loss: 0.0606 - acc: 0.983 - ETA: 0s - loss: 0.0607 - acc: 0.982 - ETA: 0s - loss: 0.0619 - acc: 0.982 - ETA: 0s - loss: 0.0620 - acc: 0.982 - ETA: 0s - loss: 0.0645 - acc: 0.982 - ETA: 0s - loss: 0.0644 - acc: 0.982 - ETA: 0s - loss: 0.0652 - acc: 0.982 - ETA: 0s - loss: 0.0657 - acc: 0.982 - ETA: 0s - loss: 0.0669 - acc: 0.981 - ETA: 0s - loss: 0.0679 - acc: 0.981 - ETA: 0s - loss: 0.0685 - acc: 0.981 - ETA: 0s - loss: 0.0696 - acc: 0.981 - ETA: 0s - loss: 0.0699 - acc: 0.981 - ETA: 0s - loss: 0.0710 - acc: 0.980 - ETA: 0s - loss: 0.0708 - acc: 0.981 - ETA: 0s - loss: 0.0706 - acc: 0.981 - 3s 164us/step - loss: 0.0704 - acc: 0.9808 - val_loss: 0.3077 - val_acc: 0.9206\n",
      "Epoch 5/5\n",
      "15770/15770 [==============================] - ETA: 2s - loss: 0.0232 - acc: 0.992 - ETA: 2s - loss: 0.0341 - acc: 0.988 - ETA: 2s - loss: 0.0446 - acc: 0.983 - ETA: 2s - loss: 0.0372 - acc: 0.986 - ETA: 2s - loss: 0.0404 - acc: 0.985 - ETA: 2s - loss: 0.0445 - acc: 0.985 - ETA: 2s - loss: 0.0445 - acc: 0.986 - ETA: 2s - loss: 0.0459 - acc: 0.986 - ETA: 1s - loss: 0.0499 - acc: 0.985 - ETA: 1s - loss: 0.0488 - acc: 0.984 - ETA: 1s - loss: 0.0493 - acc: 0.984 - ETA: 1s - loss: 0.0509 - acc: 0.983 - ETA: 1s - loss: 0.0507 - acc: 0.984 - ETA: 1s - loss: 0.0503 - acc: 0.984 - ETA: 1s - loss: 0.0501 - acc: 0.984 - ETA: 1s - loss: 0.0517 - acc: 0.984 - ETA: 1s - loss: 0.0511 - acc: 0.984 - ETA: 1s - loss: 0.0505 - acc: 0.984 - ETA: 1s - loss: 0.0499 - acc: 0.984 - ETA: 1s - loss: 0.0503 - acc: 0.984 - ETA: 1s - loss: 0.0500 - acc: 0.984 - ETA: 1s - loss: 0.0524 - acc: 0.984 - ETA: 1s - loss: 0.0525 - acc: 0.983 - ETA: 1s - loss: 0.0532 - acc: 0.983 - ETA: 1s - loss: 0.0530 - acc: 0.983 - ETA: 0s - loss: 0.0532 - acc: 0.983 - ETA: 0s - loss: 0.0535 - acc: 0.983 - ETA: 0s - loss: 0.0535 - acc: 0.983 - ETA: 0s - loss: 0.0533 - acc: 0.983 - ETA: 0s - loss: 0.0529 - acc: 0.983 - ETA: 0s - loss: 0.0536 - acc: 0.983 - ETA: 0s - loss: 0.0524 - acc: 0.984 - ETA: 0s - loss: 0.0524 - acc: 0.984 - ETA: 0s - loss: 0.0527 - acc: 0.984 - ETA: 0s - loss: 0.0536 - acc: 0.983 - ETA: 0s - loss: 0.0540 - acc: 0.983 - ETA: 0s - loss: 0.0547 - acc: 0.983 - ETA: 0s - loss: 0.0546 - acc: 0.983 - ETA: 0s - loss: 0.0553 - acc: 0.983 - ETA: 0s - loss: 0.0553 - acc: 0.983 - ETA: 0s - loss: 0.0557 - acc: 0.983 - 3s 165us/step - loss: 0.0556 - acc: 0.9830 - val_loss: 0.3494 - val_acc: 0.9138\n"
     ]
    }
   ],
   "source": [
    "history = model.fit(x_train, y_train,\\\n",
    "                    epochs=5, batch_size = 128,validation_split=0.2)"
   ]
  },
  {
   "cell_type": "code",
   "execution_count": 28,
   "metadata": {},
   "outputs": [
    {
     "name": "stdout",
     "output_type": "stream",
     "text": [
      "4929/4929 [==============================] - ETA:  - ETA:  - ETA:  - ETA:  - 0s 40us/step\n"
     ]
    },
    {
     "data": {
      "text/plain": [
       "[0.3763947985169974, 0.9153986609860012]"
      ]
     },
     "execution_count": 28,
     "metadata": {},
     "output_type": "execute_result"
    }
   ],
   "source": [
    "model.evaluate(x_test,y_test)"
   ]
  },
  {
   "cell_type": "code",
   "execution_count": 29,
   "metadata": {},
   "outputs": [
    {
     "data": {
      "text/plain": [
       "array([[0., 0., 0., ..., 0., 0., 0.]])"
      ]
     },
     "execution_count": 29,
     "metadata": {},
     "output_type": "execute_result"
    }
   ],
   "source": [
    "sentence ='와이프가 저 몰래 연애를 합니다 '\n",
    "test_sen = tfidf.transform([sentence]).toarray()\n",
    "test_sen"
   ]
  },
  {
   "cell_type": "code",
   "execution_count": 30,
   "metadata": {},
   "outputs": [],
   "source": [
    "from keras.models import load_model\n",
    "\n",
    "model.save('고민분류_kerasmodel.h5')"
   ]
  },
  {
   "cell_type": "code",
   "execution_count": 31,
   "metadata": {},
   "outputs": [],
   "source": [
    "from sklearn.ensemble import AdaBoostClassifier\n",
    "clf = AdaBoostClassifier(n_estimators=100, random_state=0)"
   ]
  },
  {
   "cell_type": "code",
   "execution_count": 32,
   "metadata": {},
   "outputs": [
    {
     "data": {
      "text/plain": [
       "(19713, 3000)"
      ]
     },
     "execution_count": 32,
     "metadata": {},
     "output_type": "execute_result"
    }
   ],
   "source": [
    "x_train.shape"
   ]
  },
  {
   "cell_type": "code",
   "execution_count": 34,
   "metadata": {},
   "outputs": [
    {
     "data": {
      "text/plain": [
       "(19713, 10)"
      ]
     },
     "execution_count": 34,
     "metadata": {},
     "output_type": "execute_result"
    }
   ],
   "source": [
    "y_train.shape"
   ]
  },
  {
   "cell_type": "code",
   "execution_count": 33,
   "metadata": {},
   "outputs": [
    {
     "ename": "ValueError",
     "evalue": "bad input shape (19713, 10)",
     "output_type": "error",
     "traceback": [
      "\u001b[1;31m---------------------------------------------------------------------------\u001b[0m",
      "\u001b[1;31mValueError\u001b[0m                                Traceback (most recent call last)",
      "\u001b[1;32m<ipython-input-33-5c93c534242c>\u001b[0m in \u001b[0;36m<module>\u001b[1;34m\u001b[0m\n\u001b[1;32m----> 1\u001b[1;33m \u001b[0mclf\u001b[0m\u001b[1;33m.\u001b[0m\u001b[0mfit\u001b[0m\u001b[1;33m(\u001b[0m\u001b[0mx_train\u001b[0m\u001b[1;33m,\u001b[0m \u001b[0my_train\u001b[0m\u001b[1;33m)\u001b[0m\u001b[1;33m\u001b[0m\u001b[1;33m\u001b[0m\u001b[0m\n\u001b[0m",
      "\u001b[1;32m~\\Anaconda3\\lib\\site-packages\\sklearn\\ensemble\\weight_boosting.py\u001b[0m in \u001b[0;36mfit\u001b[1;34m(self, X, y, sample_weight)\u001b[0m\n\u001b[0;32m    425\u001b[0m \u001b[1;33m\u001b[0m\u001b[0m\n\u001b[0;32m    426\u001b[0m         \u001b[1;31m# Fit\u001b[0m\u001b[1;33m\u001b[0m\u001b[1;33m\u001b[0m\u001b[1;33m\u001b[0m\u001b[0m\n\u001b[1;32m--> 427\u001b[1;33m         \u001b[1;32mreturn\u001b[0m \u001b[0msuper\u001b[0m\u001b[1;33m(\u001b[0m\u001b[1;33m)\u001b[0m\u001b[1;33m.\u001b[0m\u001b[0mfit\u001b[0m\u001b[1;33m(\u001b[0m\u001b[0mX\u001b[0m\u001b[1;33m,\u001b[0m \u001b[0my\u001b[0m\u001b[1;33m,\u001b[0m \u001b[0msample_weight\u001b[0m\u001b[1;33m)\u001b[0m\u001b[1;33m\u001b[0m\u001b[1;33m\u001b[0m\u001b[0m\n\u001b[0m\u001b[0;32m    428\u001b[0m \u001b[1;33m\u001b[0m\u001b[0m\n\u001b[0;32m    429\u001b[0m     \u001b[1;32mdef\u001b[0m \u001b[0m_validate_estimator\u001b[0m\u001b[1;33m(\u001b[0m\u001b[0mself\u001b[0m\u001b[1;33m)\u001b[0m\u001b[1;33m:\u001b[0m\u001b[1;33m\u001b[0m\u001b[1;33m\u001b[0m\u001b[0m\n",
      "\u001b[1;32m~\\Anaconda3\\lib\\site-packages\\sklearn\\ensemble\\weight_boosting.py\u001b[0m in \u001b[0;36mfit\u001b[1;34m(self, X, y, sample_weight)\u001b[0m\n\u001b[0;32m    115\u001b[0m             \u001b[1;32mraise\u001b[0m \u001b[0mValueError\u001b[0m\u001b[1;33m(\u001b[0m\u001b[1;34m\"learning_rate must be greater than zero\"\u001b[0m\u001b[1;33m)\u001b[0m\u001b[1;33m\u001b[0m\u001b[1;33m\u001b[0m\u001b[0m\n\u001b[0;32m    116\u001b[0m \u001b[1;33m\u001b[0m\u001b[0m\n\u001b[1;32m--> 117\u001b[1;33m         \u001b[0mX\u001b[0m\u001b[1;33m,\u001b[0m \u001b[0my\u001b[0m \u001b[1;33m=\u001b[0m \u001b[0mself\u001b[0m\u001b[1;33m.\u001b[0m\u001b[0m_validate_data\u001b[0m\u001b[1;33m(\u001b[0m\u001b[0mX\u001b[0m\u001b[1;33m,\u001b[0m \u001b[0my\u001b[0m\u001b[1;33m)\u001b[0m\u001b[1;33m\u001b[0m\u001b[1;33m\u001b[0m\u001b[0m\n\u001b[0m\u001b[0;32m    118\u001b[0m \u001b[1;33m\u001b[0m\u001b[0m\n\u001b[0;32m    119\u001b[0m         \u001b[1;32mif\u001b[0m \u001b[0msample_weight\u001b[0m \u001b[1;32mis\u001b[0m \u001b[1;32mNone\u001b[0m\u001b[1;33m:\u001b[0m\u001b[1;33m\u001b[0m\u001b[1;33m\u001b[0m\u001b[0m\n",
      "\u001b[1;32m~\\Anaconda3\\lib\\site-packages\\sklearn\\ensemble\\weight_boosting.py\u001b[0m in \u001b[0;36m_validate_data\u001b[1;34m(self, X, y)\u001b[0m\n\u001b[0;32m     87\u001b[0m                             \u001b[0mallow_nd\u001b[0m\u001b[1;33m=\u001b[0m\u001b[1;32mTrue\u001b[0m\u001b[1;33m,\u001b[0m\u001b[1;33m\u001b[0m\u001b[1;33m\u001b[0m\u001b[0m\n\u001b[0;32m     88\u001b[0m                             \u001b[0mdtype\u001b[0m\u001b[1;33m=\u001b[0m\u001b[1;32mNone\u001b[0m\u001b[1;33m,\u001b[0m\u001b[1;33m\u001b[0m\u001b[1;33m\u001b[0m\u001b[0m\n\u001b[1;32m---> 89\u001b[1;33m                             y_numeric=is_regressor(self))\n\u001b[0m\u001b[0;32m     90\u001b[0m         \u001b[1;32mreturn\u001b[0m \u001b[0mret\u001b[0m\u001b[1;33m\u001b[0m\u001b[1;33m\u001b[0m\u001b[0m\n\u001b[0;32m     91\u001b[0m \u001b[1;33m\u001b[0m\u001b[0m\n",
      "\u001b[1;32m~\\Anaconda3\\lib\\site-packages\\sklearn\\utils\\validation.py\u001b[0m in \u001b[0;36mcheck_X_y\u001b[1;34m(X, y, accept_sparse, accept_large_sparse, dtype, order, copy, force_all_finite, ensure_2d, allow_nd, multi_output, ensure_min_samples, ensure_min_features, y_numeric, warn_on_dtype, estimator)\u001b[0m\n\u001b[0;32m    722\u001b[0m                         dtype=None)\n\u001b[0;32m    723\u001b[0m     \u001b[1;32melse\u001b[0m\u001b[1;33m:\u001b[0m\u001b[1;33m\u001b[0m\u001b[1;33m\u001b[0m\u001b[0m\n\u001b[1;32m--> 724\u001b[1;33m         \u001b[0my\u001b[0m \u001b[1;33m=\u001b[0m \u001b[0mcolumn_or_1d\u001b[0m\u001b[1;33m(\u001b[0m\u001b[0my\u001b[0m\u001b[1;33m,\u001b[0m \u001b[0mwarn\u001b[0m\u001b[1;33m=\u001b[0m\u001b[1;32mTrue\u001b[0m\u001b[1;33m)\u001b[0m\u001b[1;33m\u001b[0m\u001b[1;33m\u001b[0m\u001b[0m\n\u001b[0m\u001b[0;32m    725\u001b[0m         \u001b[0m_assert_all_finite\u001b[0m\u001b[1;33m(\u001b[0m\u001b[0my\u001b[0m\u001b[1;33m)\u001b[0m\u001b[1;33m\u001b[0m\u001b[1;33m\u001b[0m\u001b[0m\n\u001b[0;32m    726\u001b[0m     \u001b[1;32mif\u001b[0m \u001b[0my_numeric\u001b[0m \u001b[1;32mand\u001b[0m \u001b[0my\u001b[0m\u001b[1;33m.\u001b[0m\u001b[0mdtype\u001b[0m\u001b[1;33m.\u001b[0m\u001b[0mkind\u001b[0m \u001b[1;33m==\u001b[0m \u001b[1;34m'O'\u001b[0m\u001b[1;33m:\u001b[0m\u001b[1;33m\u001b[0m\u001b[1;33m\u001b[0m\u001b[0m\n",
      "\u001b[1;32m~\\Anaconda3\\lib\\site-packages\\sklearn\\utils\\validation.py\u001b[0m in \u001b[0;36mcolumn_or_1d\u001b[1;34m(y, warn)\u001b[0m\n\u001b[0;32m    758\u001b[0m         \u001b[1;32mreturn\u001b[0m \u001b[0mnp\u001b[0m\u001b[1;33m.\u001b[0m\u001b[0mravel\u001b[0m\u001b[1;33m(\u001b[0m\u001b[0my\u001b[0m\u001b[1;33m)\u001b[0m\u001b[1;33m\u001b[0m\u001b[1;33m\u001b[0m\u001b[0m\n\u001b[0;32m    759\u001b[0m \u001b[1;33m\u001b[0m\u001b[0m\n\u001b[1;32m--> 760\u001b[1;33m     \u001b[1;32mraise\u001b[0m \u001b[0mValueError\u001b[0m\u001b[1;33m(\u001b[0m\u001b[1;34m\"bad input shape {0}\"\u001b[0m\u001b[1;33m.\u001b[0m\u001b[0mformat\u001b[0m\u001b[1;33m(\u001b[0m\u001b[0mshape\u001b[0m\u001b[1;33m)\u001b[0m\u001b[1;33m)\u001b[0m\u001b[1;33m\u001b[0m\u001b[1;33m\u001b[0m\u001b[0m\n\u001b[0m\u001b[0;32m    761\u001b[0m \u001b[1;33m\u001b[0m\u001b[0m\n\u001b[0;32m    762\u001b[0m \u001b[1;33m\u001b[0m\u001b[0m\n",
      "\u001b[1;31mValueError\u001b[0m: bad input shape (19713, 10)"
     ]
    }
   ],
   "source": [
    "clf.fit(x_train, y_train)"
   ]
  },
  {
   "cell_type": "code",
   "execution_count": 37,
   "metadata": {},
   "outputs": [],
   "source": [
    "from sklearn.ensemble import RandomForestClassifier\n",
    "\n",
    "forest = RandomForestClassifier(n_estimators=100)"
   ]
  },
  {
   "cell_type": "code",
   "execution_count": 38,
   "metadata": {},
   "outputs": [
    {
     "data": {
      "text/plain": [
       "RandomForestClassifier(bootstrap=True, class_weight=None, criterion='gini',\n",
       "                       max_depth=None, max_features='auto', max_leaf_nodes=None,\n",
       "                       min_impurity_decrease=0.0, min_impurity_split=None,\n",
       "                       min_samples_leaf=1, min_samples_split=2,\n",
       "                       min_weight_fraction_leaf=0.0, n_estimators=100,\n",
       "                       n_jobs=None, oob_score=False, random_state=None,\n",
       "                       verbose=0, warm_start=False)"
      ]
     },
     "execution_count": 38,
     "metadata": {},
     "output_type": "execute_result"
    }
   ],
   "source": [
    "forest.fit(x_train, y_train)"
   ]
  },
  {
   "cell_type": "code",
   "execution_count": 39,
   "metadata": {},
   "outputs": [
    {
     "ename": "AttributeError",
     "evalue": "'numpy.ndarray' object has no attribute 'values'",
     "output_type": "error",
     "traceback": [
      "\u001b[1;31m---------------------------------------------------------------------------\u001b[0m",
      "\u001b[1;31mAttributeError\u001b[0m                            Traceback (most recent call last)",
      "\u001b[1;32m<ipython-input-39-8f9f4dece3ba>\u001b[0m in \u001b[0;36m<module>\u001b[1;34m\u001b[0m\n\u001b[1;32m----> 1\u001b[1;33m \u001b[0my_train\u001b[0m\u001b[1;33m=\u001b[0m \u001b[0my_train\u001b[0m\u001b[1;33m.\u001b[0m\u001b[0mvalues\u001b[0m\u001b[1;33m\u001b[0m\u001b[1;33m\u001b[0m\u001b[0m\n\u001b[0m",
      "\u001b[1;31mAttributeError\u001b[0m: 'numpy.ndarray' object has no attribute 'values'"
     ]
    }
   ],
   "source": [
    "y_train= y_train.values"
   ]
  },
  {
   "cell_type": "code",
   "execution_count": null,
   "metadata": {},
   "outputs": [],
   "source": [
    "y_train.shape"
   ]
  },
  {
   "cell_type": "code",
   "execution_count": null,
   "metadata": {},
   "outputs": [],
   "source": [
    "y_pred = forest.predict(x_test)"
   ]
  },
  {
   "cell_type": "code",
   "execution_count": null,
   "metadata": {},
   "outputs": [],
   "source": [
    "from sklearn import metrics "
   ]
  },
  {
   "cell_type": "code",
   "execution_count": null,
   "metadata": {},
   "outputs": [],
   "source": [
    "print('정확도 :', metrics.accuracy_score(y_test, y_pred))"
   ]
  },
  {
   "cell_type": "code",
   "execution_count": null,
   "metadata": {},
   "outputs": [],
   "source": [
    "sentence ='요새 취업걱정 때문에 고민이에요'\n",
    "\n",
    "test_sen = tfidf.transform([sentence]).toarray()"
   ]
  },
  {
   "cell_type": "code",
   "execution_count": null,
   "metadata": {},
   "outputs": [],
   "source": [
    "forest.predict(test_sen)"
   ]
  },
  {
   "cell_type": "code",
   "execution_count": null,
   "metadata": {},
   "outputs": [],
   "source": [
    "model.save('고민분류_forestmodel.h5')"
   ]
  }
 ],
 "metadata": {
  "kernelspec": {
   "display_name": "Python 3",
   "language": "python",
   "name": "python3"
  },
  "language_info": {
   "codemirror_mode": {
    "name": "ipython",
    "version": 3
   },
   "file_extension": ".py",
   "mimetype": "text/x-python",
   "name": "python",
   "nbconvert_exporter": "python",
   "pygments_lexer": "ipython3",
   "version": "3.7.3"
  }
 },
 "nbformat": 4,
 "nbformat_minor": 2
}

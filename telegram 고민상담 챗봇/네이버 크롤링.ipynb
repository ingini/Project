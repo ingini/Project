{
 "cells": [
  {
   "cell_type": "code",
   "execution_count": null,
   "metadata": {},
   "outputs": [],
   "source": [
    "# config.py 파일에 아이디 패스워드 가 있어야한다."
   ]
  },
  {
   "cell_type": "code",
   "execution_count": 1,
   "metadata": {},
   "outputs": [
    {
     "data": {
      "text/plain": [
       "'%EA%B3%A0%EB%AF%BC%EC%83%81%EB%8B%B4'"
      ]
     },
     "execution_count": 1,
     "metadata": {},
     "output_type": "execute_result"
    }
   ],
   "source": [
    "import urllib.request\n",
    "import config\n",
    "\n",
    "urllib.parse.quote('고민상담')"
   ]
  },
  {
   "cell_type": "code",
   "execution_count": 2,
   "metadata": {},
   "outputs": [],
   "source": [
    "def makeURL(search_text):\n",
    "    base = \"https://openapi.naver.com/v1/search/kin.json\"\n",
    "    parameters = \"?query=%s\" % urllib.parse.quote(search_text)\n",
    "    display = \"&display=100\"\n",
    "    url = base + parameters + display\n",
    "    return url\n"
   ]
  },
  {
   "cell_type": "code",
   "execution_count": 3,
   "metadata": {},
   "outputs": [
    {
     "data": {
      "text/plain": [
       "'https://openapi.naver.com/v1/search/kin.json?query=%EA%B3%A0%EB%AF%BC%EC%83%81%EB%8B%B4&display=100'"
      ]
     },
     "execution_count": 3,
     "metadata": {},
     "output_type": "execute_result"
    }
   ],
   "source": [
    "makeURL('고민상담')"
   ]
  },
  {
   "cell_type": "code",
   "execution_count": 4,
   "metadata": {},
   "outputs": [],
   "source": [
    "def requestURL(url):  # 매개인자로 url(http://www.naver.com.... ) 이 오면   open api 키를 header에 추가한 후, 크롤링\n",
    "    req = urllib.request.Request(url)\n",
    "    req.add_header(\"X-Naver-Client-Id\", config.client_id)  # open api 키를 header에 추가\n",
    "    req.add_header(\"X-Naver-Client-Secret\", config.client_secret)  # open api 키를 header에 추가\n",
    "    try:\n",
    "        response = urllib.request.urlopen(req)  # 크롤링\n",
    "        if response.status == 200:  # 200이면 정상 응답\n",
    "            print(\"Url Request Success\")\n",
    "            data = response.read().decode('utf-8')\n",
    "            return data  # 크롤링 결과 반환\n",
    "    except Exception as e:  # url로 요청 중 오류가 발생시 실행\n",
    "        print(e)\n",
    "        print(\"Error for URL : %s\" %url)\n",
    "        return None\n"
   ]
  },
  {
   "cell_type": "code",
   "execution_count": 5,
   "metadata": {},
   "outputs": [],
   "source": [
    "result = 'hhhh'\n",
    "filename = \"hahaha.txt\"\n",
    "with open(filename, 'w', encoding='utf8') as outfile:\n",
    "        outfile.write(result)"
   ]
  },
  {
   "cell_type": "code",
   "execution_count": 6,
   "metadata": {},
   "outputs": [],
   "source": [
    "import json\n",
    "\n",
    "def main():\n",
    "    print(\"네이버 검색 프로그램입니다.\")\n",
    "    search_text = input(\">검색할 키워드를 입력하세요.\")\n",
    "      \n",
    "    \n",
    "    for i in range(1,1000,100):\n",
    "        targetURL = makeURL(search_text)    #1. URL 만들기\n",
    "        targetURL += \"&start=%d\" %i\n",
    "        result = requestURL(targetURL)              #2. URL로 크롤링\n",
    "        #print(result)                              #3. 크롤링 결과 출력\n",
    "        \n",
    "        filename = '%s_naver_to_%s_all.json' % (search_text, i)\n",
    "        \n",
    "        with open(filename, 'w', encoding='utf8') as outfile:\n",
    "            outfile.write(result)\n",
    "        print(filename +' 저장 완료' )\n",
    "\n"
   ]
  },
  {
   "cell_type": "code",
   "execution_count": 7,
   "metadata": {},
   "outputs": [
    {
     "name": "stdout",
     "output_type": "stream",
     "text": [
      "네이버 검색 프로그램입니다.\n",
      ">검색할 키워드를 입력하세요.친구고민\n",
      "Url Request Success\n",
      "친구고민_naver_to_1_all.json 저장 완료\n",
      "Url Request Success\n",
      "친구고민_naver_to_101_all.json 저장 완료\n",
      "Url Request Success\n",
      "친구고민_naver_to_201_all.json 저장 완료\n",
      "Url Request Success\n",
      "친구고민_naver_to_301_all.json 저장 완료\n",
      "Url Request Success\n",
      "친구고민_naver_to_401_all.json 저장 완료\n",
      "Url Request Success\n",
      "친구고민_naver_to_501_all.json 저장 완료\n",
      "Url Request Success\n",
      "친구고민_naver_to_601_all.json 저장 완료\n",
      "Url Request Success\n",
      "친구고민_naver_to_701_all.json 저장 완료\n",
      "Url Request Success\n",
      "친구고민_naver_to_801_all.json 저장 완료\n",
      "Url Request Success\n",
      "친구고민_naver_to_901_all.json 저장 완료\n"
     ]
    }
   ],
   "source": [
    "main()"
   ]
  },
  {
   "cell_type": "code",
   "execution_count": 8,
   "metadata": {},
   "outputs": [],
   "source": [
    "import pandas as pd"
   ]
  },
  {
   "cell_type": "code",
   "execution_count": 10,
   "metadata": {},
   "outputs": [],
   "source": [
    "data = pd.read_json('친구고민_naver_to_1_all.json',encoding='utf-8')"
   ]
  },
  {
   "cell_type": "code",
   "execution_count": 11,
   "metadata": {},
   "outputs": [
    {
     "data": {
      "text/html": [
       "<div>\n",
       "<style scoped>\n",
       "    .dataframe tbody tr th:only-of-type {\n",
       "        vertical-align: middle;\n",
       "    }\n",
       "\n",
       "    .dataframe tbody tr th {\n",
       "        vertical-align: top;\n",
       "    }\n",
       "\n",
       "    .dataframe thead th {\n",
       "        text-align: right;\n",
       "    }\n",
       "</style>\n",
       "<table border=\"1\" class=\"dataframe\">\n",
       "  <thead>\n",
       "    <tr style=\"text-align: right;\">\n",
       "      <th></th>\n",
       "      <th>lastBuildDate</th>\n",
       "      <th>total</th>\n",
       "      <th>start</th>\n",
       "      <th>display</th>\n",
       "      <th>items</th>\n",
       "    </tr>\n",
       "  </thead>\n",
       "  <tbody>\n",
       "    <tr>\n",
       "      <td>0</td>\n",
       "      <td>Thu, 26 Sep 2019 16:56:35 +0900</td>\n",
       "      <td>2425694</td>\n",
       "      <td>1</td>\n",
       "      <td>100</td>\n",
       "      <td>{'title': '&lt;b&gt;친구 고민&lt;/b&gt; 제가 학교 애들이랑 두루두', 'link...</td>\n",
       "    </tr>\n",
       "    <tr>\n",
       "      <td>1</td>\n",
       "      <td>Thu, 26 Sep 2019 16:56:35 +0900</td>\n",
       "      <td>2425694</td>\n",
       "      <td>1</td>\n",
       "      <td>100</td>\n",
       "      <td>{'title': '중1여자 &lt;b&gt;친구 고민&lt;/b&gt;', 'link': 'https:...</td>\n",
       "    </tr>\n",
       "    <tr>\n",
       "      <td>2</td>\n",
       "      <td>Thu, 26 Sep 2019 16:56:35 +0900</td>\n",
       "      <td>2425694</td>\n",
       "      <td>1</td>\n",
       "      <td>100</td>\n",
       "      <td>{'title': '&lt;b&gt;친구 고민&lt;/b&gt;', 'link': 'https://kin...</td>\n",
       "    </tr>\n",
       "    <tr>\n",
       "      <td>3</td>\n",
       "      <td>Thu, 26 Sep 2019 16:56:35 +0900</td>\n",
       "      <td>2425694</td>\n",
       "      <td>1</td>\n",
       "      <td>100</td>\n",
       "      <td>{'title': '&lt;b&gt;친구 고민&lt;/b&gt; 상담', 'link': 'https://...</td>\n",
       "    </tr>\n",
       "    <tr>\n",
       "      <td>4</td>\n",
       "      <td>Thu, 26 Sep 2019 16:56:35 +0900</td>\n",
       "      <td>2425694</td>\n",
       "      <td>1</td>\n",
       "      <td>100</td>\n",
       "      <td>{'title': '&lt;b&gt;친구 고민&lt;/b&gt; 어색한 친구랑 대화할 때', 'link'...</td>\n",
       "    </tr>\n",
       "  </tbody>\n",
       "</table>\n",
       "</div>"
      ],
      "text/plain": [
       "                     lastBuildDate    total  start  display  \\\n",
       "0  Thu, 26 Sep 2019 16:56:35 +0900  2425694      1      100   \n",
       "1  Thu, 26 Sep 2019 16:56:35 +0900  2425694      1      100   \n",
       "2  Thu, 26 Sep 2019 16:56:35 +0900  2425694      1      100   \n",
       "3  Thu, 26 Sep 2019 16:56:35 +0900  2425694      1      100   \n",
       "4  Thu, 26 Sep 2019 16:56:35 +0900  2425694      1      100   \n",
       "\n",
       "                                               items  \n",
       "0  {'title': '<b>친구 고민</b> 제가 학교 애들이랑 두루두', 'link...  \n",
       "1  {'title': '중1여자 <b>친구 고민</b>', 'link': 'https:...  \n",
       "2  {'title': '<b>친구 고민</b>', 'link': 'https://kin...  \n",
       "3  {'title': '<b>친구 고민</b> 상담', 'link': 'https://...  \n",
       "4  {'title': '<b>친구 고민</b> 어색한 친구랑 대화할 때', 'link'...  "
      ]
     },
     "execution_count": 11,
     "metadata": {},
     "output_type": "execute_result"
    }
   ],
   "source": [
    "data.head()"
   ]
  },
  {
   "cell_type": "code",
   "execution_count": 12,
   "metadata": {},
   "outputs": [],
   "source": [
    "df = data['items']"
   ]
  },
  {
   "cell_type": "code",
   "execution_count": 13,
   "metadata": {},
   "outputs": [
    {
     "data": {
      "text/plain": [
       "0     {'title': '<b>친구 고민</b> 제가 학교 애들이랑 두루두', 'link...\n",
       "1     {'title': '중1여자 <b>친구 고민</b>', 'link': 'https:...\n",
       "2     {'title': '<b>친구 고민</b>', 'link': 'https://kin...\n",
       "3     {'title': '<b>친구 고민</b> 상담', 'link': 'https://...\n",
       "4     {'title': '<b>친구 고민</b> 어색한 친구랑 대화할 때', 'link'...\n",
       "                            ...                        \n",
       "95    {'title': '학교에서 <b>친구</b>관계(?)때문에 <b>고민</b>입니'...\n",
       "96    {'title': '<b>친구</b>관계에 <b>고민</b>이 있어요...', 'l...\n",
       "97    {'title': '저 <b>고민</b>이 있는데요..제 <b>친구</b>들이 담'...\n",
       "98    {'title': '<b>친구</b> 때문에 <b>고민</b>입니다.', 'link...\n",
       "99    {'title': '중3 <b>친구</b>관계 <b>고민</b>', 'link': ...\n",
       "Name: items, Length: 100, dtype: object"
      ]
     },
     "execution_count": 13,
     "metadata": {},
     "output_type": "execute_result"
    }
   ],
   "source": [
    "df"
   ]
  },
  {
   "cell_type": "code",
   "execution_count": 26,
   "metadata": {},
   "outputs": [],
   "source": [
    "df = pd.DataFrame(df)"
   ]
  },
  {
   "cell_type": "code",
   "execution_count": 27,
   "metadata": {},
   "outputs": [
    {
     "data": {
      "text/html": [
       "<div>\n",
       "<style scoped>\n",
       "    .dataframe tbody tr th:only-of-type {\n",
       "        vertical-align: middle;\n",
       "    }\n",
       "\n",
       "    .dataframe tbody tr th {\n",
       "        vertical-align: top;\n",
       "    }\n",
       "\n",
       "    .dataframe thead th {\n",
       "        text-align: right;\n",
       "    }\n",
       "</style>\n",
       "<table border=\"1\" class=\"dataframe\">\n",
       "  <thead>\n",
       "    <tr style=\"text-align: right;\">\n",
       "      <th></th>\n",
       "      <th>items</th>\n",
       "    </tr>\n",
       "  </thead>\n",
       "  <tbody>\n",
       "    <tr>\n",
       "      <td>0</td>\n",
       "      <td>{'title': '&lt;b&gt;친구 고민&lt;/b&gt; 제가 학교 애들이랑 두루두', 'link...</td>\n",
       "    </tr>\n",
       "    <tr>\n",
       "      <td>1</td>\n",
       "      <td>{'title': '중1여자 &lt;b&gt;친구 고민&lt;/b&gt;', 'link': 'https:...</td>\n",
       "    </tr>\n",
       "    <tr>\n",
       "      <td>2</td>\n",
       "      <td>{'title': '&lt;b&gt;친구 고민&lt;/b&gt;', 'link': 'https://kin...</td>\n",
       "    </tr>\n",
       "    <tr>\n",
       "      <td>3</td>\n",
       "      <td>{'title': '&lt;b&gt;친구 고민&lt;/b&gt; 상담', 'link': 'https://...</td>\n",
       "    </tr>\n",
       "    <tr>\n",
       "      <td>4</td>\n",
       "      <td>{'title': '&lt;b&gt;친구 고민&lt;/b&gt; 어색한 친구랑 대화할 때', 'link'...</td>\n",
       "    </tr>\n",
       "    <tr>\n",
       "      <td>...</td>\n",
       "      <td>...</td>\n",
       "    </tr>\n",
       "    <tr>\n",
       "      <td>95</td>\n",
       "      <td>{'title': '학교에서 &lt;b&gt;친구&lt;/b&gt;관계(?)때문에 &lt;b&gt;고민&lt;/b&gt;입니'...</td>\n",
       "    </tr>\n",
       "    <tr>\n",
       "      <td>96</td>\n",
       "      <td>{'title': '&lt;b&gt;친구&lt;/b&gt;관계에 &lt;b&gt;고민&lt;/b&gt;이 있어요...', 'l...</td>\n",
       "    </tr>\n",
       "    <tr>\n",
       "      <td>97</td>\n",
       "      <td>{'title': '저 &lt;b&gt;고민&lt;/b&gt;이 있는데요..제 &lt;b&gt;친구&lt;/b&gt;들이 담'...</td>\n",
       "    </tr>\n",
       "    <tr>\n",
       "      <td>98</td>\n",
       "      <td>{'title': '&lt;b&gt;친구&lt;/b&gt; 때문에 &lt;b&gt;고민&lt;/b&gt;입니다.', 'link...</td>\n",
       "    </tr>\n",
       "    <tr>\n",
       "      <td>99</td>\n",
       "      <td>{'title': '중3 &lt;b&gt;친구&lt;/b&gt;관계 &lt;b&gt;고민&lt;/b&gt;', 'link': ...</td>\n",
       "    </tr>\n",
       "  </tbody>\n",
       "</table>\n",
       "<p>100 rows × 1 columns</p>\n",
       "</div>"
      ],
      "text/plain": [
       "                                                items\n",
       "0   {'title': '<b>친구 고민</b> 제가 학교 애들이랑 두루두', 'link...\n",
       "1   {'title': '중1여자 <b>친구 고민</b>', 'link': 'https:...\n",
       "2   {'title': '<b>친구 고민</b>', 'link': 'https://kin...\n",
       "3   {'title': '<b>친구 고민</b> 상담', 'link': 'https://...\n",
       "4   {'title': '<b>친구 고민</b> 어색한 친구랑 대화할 때', 'link'...\n",
       "..                                                ...\n",
       "95  {'title': '학교에서 <b>친구</b>관계(?)때문에 <b>고민</b>입니'...\n",
       "96  {'title': '<b>친구</b>관계에 <b>고민</b>이 있어요...', 'l...\n",
       "97  {'title': '저 <b>고민</b>이 있는데요..제 <b>친구</b>들이 담'...\n",
       "98  {'title': '<b>친구</b> 때문에 <b>고민</b>입니다.', 'link...\n",
       "99  {'title': '중3 <b>친구</b>관계 <b>고민</b>', 'link': ...\n",
       "\n",
       "[100 rows x 1 columns]"
      ]
     },
     "execution_count": 27,
     "metadata": {},
     "output_type": "execute_result"
    }
   ],
   "source": [
    "df"
   ]
  },
  {
   "cell_type": "code",
   "execution_count": 28,
   "metadata": {},
   "outputs": [],
   "source": [
    "df = df.replace(\"{'title':\", '')"
   ]
  },
  {
   "cell_type": "code",
   "execution_count": 29,
   "metadata": {},
   "outputs": [
    {
     "data": {
      "text/html": [
       "<div>\n",
       "<style scoped>\n",
       "    .dataframe tbody tr th:only-of-type {\n",
       "        vertical-align: middle;\n",
       "    }\n",
       "\n",
       "    .dataframe tbody tr th {\n",
       "        vertical-align: top;\n",
       "    }\n",
       "\n",
       "    .dataframe thead th {\n",
       "        text-align: right;\n",
       "    }\n",
       "</style>\n",
       "<table border=\"1\" class=\"dataframe\">\n",
       "  <thead>\n",
       "    <tr style=\"text-align: right;\">\n",
       "      <th></th>\n",
       "      <th>items</th>\n",
       "    </tr>\n",
       "  </thead>\n",
       "  <tbody>\n",
       "    <tr>\n",
       "      <td>0</td>\n",
       "      <td>{'title': '&lt;b&gt;친구 고민&lt;/b&gt; 제가 학교 애들이랑 두루두', 'link...</td>\n",
       "    </tr>\n",
       "    <tr>\n",
       "      <td>1</td>\n",
       "      <td>{'title': '중1여자 &lt;b&gt;친구 고민&lt;/b&gt;', 'link': 'https:...</td>\n",
       "    </tr>\n",
       "    <tr>\n",
       "      <td>2</td>\n",
       "      <td>{'title': '&lt;b&gt;친구 고민&lt;/b&gt;', 'link': 'https://kin...</td>\n",
       "    </tr>\n",
       "    <tr>\n",
       "      <td>3</td>\n",
       "      <td>{'title': '&lt;b&gt;친구 고민&lt;/b&gt; 상담', 'link': 'https://...</td>\n",
       "    </tr>\n",
       "    <tr>\n",
       "      <td>4</td>\n",
       "      <td>{'title': '&lt;b&gt;친구 고민&lt;/b&gt; 어색한 친구랑 대화할 때', 'link'...</td>\n",
       "    </tr>\n",
       "    <tr>\n",
       "      <td>...</td>\n",
       "      <td>...</td>\n",
       "    </tr>\n",
       "    <tr>\n",
       "      <td>95</td>\n",
       "      <td>{'title': '학교에서 &lt;b&gt;친구&lt;/b&gt;관계(?)때문에 &lt;b&gt;고민&lt;/b&gt;입니'...</td>\n",
       "    </tr>\n",
       "    <tr>\n",
       "      <td>96</td>\n",
       "      <td>{'title': '&lt;b&gt;친구&lt;/b&gt;관계에 &lt;b&gt;고민&lt;/b&gt;이 있어요...', 'l...</td>\n",
       "    </tr>\n",
       "    <tr>\n",
       "      <td>97</td>\n",
       "      <td>{'title': '저 &lt;b&gt;고민&lt;/b&gt;이 있는데요..제 &lt;b&gt;친구&lt;/b&gt;들이 담'...</td>\n",
       "    </tr>\n",
       "    <tr>\n",
       "      <td>98</td>\n",
       "      <td>{'title': '&lt;b&gt;친구&lt;/b&gt; 때문에 &lt;b&gt;고민&lt;/b&gt;입니다.', 'link...</td>\n",
       "    </tr>\n",
       "    <tr>\n",
       "      <td>99</td>\n",
       "      <td>{'title': '중3 &lt;b&gt;친구&lt;/b&gt;관계 &lt;b&gt;고민&lt;/b&gt;', 'link': ...</td>\n",
       "    </tr>\n",
       "  </tbody>\n",
       "</table>\n",
       "<p>100 rows × 1 columns</p>\n",
       "</div>"
      ],
      "text/plain": [
       "                                                items\n",
       "0   {'title': '<b>친구 고민</b> 제가 학교 애들이랑 두루두', 'link...\n",
       "1   {'title': '중1여자 <b>친구 고민</b>', 'link': 'https:...\n",
       "2   {'title': '<b>친구 고민</b>', 'link': 'https://kin...\n",
       "3   {'title': '<b>친구 고민</b> 상담', 'link': 'https://...\n",
       "4   {'title': '<b>친구 고민</b> 어색한 친구랑 대화할 때', 'link'...\n",
       "..                                                ...\n",
       "95  {'title': '학교에서 <b>친구</b>관계(?)때문에 <b>고민</b>입니'...\n",
       "96  {'title': '<b>친구</b>관계에 <b>고민</b>이 있어요...', 'l...\n",
       "97  {'title': '저 <b>고민</b>이 있는데요..제 <b>친구</b>들이 담'...\n",
       "98  {'title': '<b>친구</b> 때문에 <b>고민</b>입니다.', 'link...\n",
       "99  {'title': '중3 <b>친구</b>관계 <b>고민</b>', 'link': ...\n",
       "\n",
       "[100 rows x 1 columns]"
      ]
     },
     "execution_count": 29,
     "metadata": {},
     "output_type": "execute_result"
    }
   ],
   "source": [
    "df"
   ]
  },
  {
   "cell_type": "code",
   "execution_count": 30,
   "metadata": {},
   "outputs": [],
   "source": [
    "df['label'] = 1"
   ]
  },
  {
   "cell_type": "code",
   "execution_count": 31,
   "metadata": {},
   "outputs": [
    {
     "data": {
      "text/html": [
       "<div>\n",
       "<style scoped>\n",
       "    .dataframe tbody tr th:only-of-type {\n",
       "        vertical-align: middle;\n",
       "    }\n",
       "\n",
       "    .dataframe tbody tr th {\n",
       "        vertical-align: top;\n",
       "    }\n",
       "\n",
       "    .dataframe thead th {\n",
       "        text-align: right;\n",
       "    }\n",
       "</style>\n",
       "<table border=\"1\" class=\"dataframe\">\n",
       "  <thead>\n",
       "    <tr style=\"text-align: right;\">\n",
       "      <th></th>\n",
       "      <th>items</th>\n",
       "      <th>label</th>\n",
       "    </tr>\n",
       "  </thead>\n",
       "  <tbody>\n",
       "    <tr>\n",
       "      <td>0</td>\n",
       "      <td>{'title': '&lt;b&gt;친구 고민&lt;/b&gt; 제가 학교 애들이랑 두루두', 'link...</td>\n",
       "      <td>1</td>\n",
       "    </tr>\n",
       "    <tr>\n",
       "      <td>1</td>\n",
       "      <td>{'title': '중1여자 &lt;b&gt;친구 고민&lt;/b&gt;', 'link': 'https:...</td>\n",
       "      <td>1</td>\n",
       "    </tr>\n",
       "    <tr>\n",
       "      <td>2</td>\n",
       "      <td>{'title': '&lt;b&gt;친구 고민&lt;/b&gt;', 'link': 'https://kin...</td>\n",
       "      <td>1</td>\n",
       "    </tr>\n",
       "    <tr>\n",
       "      <td>3</td>\n",
       "      <td>{'title': '&lt;b&gt;친구 고민&lt;/b&gt; 상담', 'link': 'https://...</td>\n",
       "      <td>1</td>\n",
       "    </tr>\n",
       "    <tr>\n",
       "      <td>4</td>\n",
       "      <td>{'title': '&lt;b&gt;친구 고민&lt;/b&gt; 어색한 친구랑 대화할 때', 'link'...</td>\n",
       "      <td>1</td>\n",
       "    </tr>\n",
       "    <tr>\n",
       "      <td>...</td>\n",
       "      <td>...</td>\n",
       "      <td>...</td>\n",
       "    </tr>\n",
       "    <tr>\n",
       "      <td>95</td>\n",
       "      <td>{'title': '학교에서 &lt;b&gt;친구&lt;/b&gt;관계(?)때문에 &lt;b&gt;고민&lt;/b&gt;입니'...</td>\n",
       "      <td>1</td>\n",
       "    </tr>\n",
       "    <tr>\n",
       "      <td>96</td>\n",
       "      <td>{'title': '&lt;b&gt;친구&lt;/b&gt;관계에 &lt;b&gt;고민&lt;/b&gt;이 있어요...', 'l...</td>\n",
       "      <td>1</td>\n",
       "    </tr>\n",
       "    <tr>\n",
       "      <td>97</td>\n",
       "      <td>{'title': '저 &lt;b&gt;고민&lt;/b&gt;이 있는데요..제 &lt;b&gt;친구&lt;/b&gt;들이 담'...</td>\n",
       "      <td>1</td>\n",
       "    </tr>\n",
       "    <tr>\n",
       "      <td>98</td>\n",
       "      <td>{'title': '&lt;b&gt;친구&lt;/b&gt; 때문에 &lt;b&gt;고민&lt;/b&gt;입니다.', 'link...</td>\n",
       "      <td>1</td>\n",
       "    </tr>\n",
       "    <tr>\n",
       "      <td>99</td>\n",
       "      <td>{'title': '중3 &lt;b&gt;친구&lt;/b&gt;관계 &lt;b&gt;고민&lt;/b&gt;', 'link': ...</td>\n",
       "      <td>1</td>\n",
       "    </tr>\n",
       "  </tbody>\n",
       "</table>\n",
       "<p>100 rows × 2 columns</p>\n",
       "</div>"
      ],
      "text/plain": [
       "                                                items  label\n",
       "0   {'title': '<b>친구 고민</b> 제가 학교 애들이랑 두루두', 'link...      1\n",
       "1   {'title': '중1여자 <b>친구 고민</b>', 'link': 'https:...      1\n",
       "2   {'title': '<b>친구 고민</b>', 'link': 'https://kin...      1\n",
       "3   {'title': '<b>친구 고민</b> 상담', 'link': 'https://...      1\n",
       "4   {'title': '<b>친구 고민</b> 어색한 친구랑 대화할 때', 'link'...      1\n",
       "..                                                ...    ...\n",
       "95  {'title': '학교에서 <b>친구</b>관계(?)때문에 <b>고민</b>입니'...      1\n",
       "96  {'title': '<b>친구</b>관계에 <b>고민</b>이 있어요...', 'l...      1\n",
       "97  {'title': '저 <b>고민</b>이 있는데요..제 <b>친구</b>들이 담'...      1\n",
       "98  {'title': '<b>친구</b> 때문에 <b>고민</b>입니다.', 'link...      1\n",
       "99  {'title': '중3 <b>친구</b>관계 <b>고민</b>', 'link': ...      1\n",
       "\n",
       "[100 rows x 2 columns]"
      ]
     },
     "execution_count": 31,
     "metadata": {},
     "output_type": "execute_result"
    }
   ],
   "source": [
    "df"
   ]
  },
  {
   "cell_type": "code",
   "execution_count": null,
   "metadata": {},
   "outputs": [],
   "source": []
  }
 ],
 "metadata": {
  "kernelspec": {
   "display_name": "Python 3",
   "language": "python",
   "name": "python3"
  },
  "language_info": {
   "codemirror_mode": {
    "name": "ipython",
    "version": 3
   },
   "file_extension": ".py",
   "mimetype": "text/x-python",
   "name": "python",
   "nbconvert_exporter": "python",
   "pygments_lexer": "ipython3",
   "version": "3.7.4"
  }
 },
 "nbformat": 4,
 "nbformat_minor": 2
}

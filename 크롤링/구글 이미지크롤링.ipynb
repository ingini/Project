{
 "cells": [
  {
   "cell_type": "code",
   "execution_count": 1,
   "metadata": {},
   "outputs": [],
   "source": [
    "# pip install google_images_download"
   ]
  },
  {
   "cell_type": "code",
   "execution_count": 2,
   "metadata": {},
   "outputs": [],
   "source": [
    "from google_images_download import google_images_download"
   ]
  },
  {
   "cell_type": "code",
   "execution_count": 3,
   "metadata": {},
   "outputs": [],
   "source": [
    "import ssl\n",
    "ssl._create_default_https_context = ssl._create_unverified_context"
   ]
  },
  {
   "cell_type": "code",
   "execution_count": 4,
   "metadata": {},
   "outputs": [],
   "source": [
    "def imageCrawling(keyword, dir):\n",
    "    response = google_images_download.googleimagesdownload()\n",
    "    \n",
    "    arguments = {\n",
    "        \"keywords\": keyword,\n",
    "        \"limit\": 100,\n",
    "        \"print_urls\": False,\n",
    "        \"no_directory\": True,\n",
    "        \"output_directory\": dir\n",
    "    }\n",
    "    \n",
    "    paths = response.download(arguments)\n",
    "    print(paths)"
   ]
  },
  {
   "cell_type": "code",
   "execution_count": 22,
   "metadata": {
    "scrolled": true
   },
   "outputs": [
    {
     "name": "stdout",
     "output_type": "stream",
     "text": [
      "\n",
      "Item no.: 1 --> Item name = \\uc911\\uad6d 1\\uc704\\uc548 \\ub3d9\\uc804\n",
      "Evaluating...\n",
      "Starting Download...\n",
      "Completed Image ====> 1.%EC%A4%91%EA%B5%AD_%EB%8F%99%EC%A0%84_%EC%A2%85%EB%A5%98_2.jpg\n",
      "Completed Image ====> 2.htm_20161103123831875247.jpg\n",
      "Completed Image ====> 3.%EC%A4%91%EA%B5%AD_%EB%8F%99%EC%A0%84_%EC%A2%85%EB%A5%98_1.jpg\n",
      "Completed Image ====> 4.%25EC%25A4%2591%25EA%25B5%25AD%2B%25EB%258F%2599%25EC%25A0%2584.jpg\n",
      "Completed Image ====> 5.32096875-%EC%A4%91%EA%B5%AD%EC%9D%98-%EB%8F%99%EC%A0%84-%EC%A4%91%EA%B5%AD-1-%EC%9C%84%EC%95%88-%EB%8F%99%EC%A0%84%EC%97%90%EC%84%9C-%EB%AC%98%EC%82%AC%ED%95%98%EB%8A%94-%EC%A4%91%EA%B5%AD%EC%9D%98-%EA%B5%AD%EA%B0%80-%EC%83%81%EC%A7%95%EC%9E%85%EB%8B%88%EB%8B%A4-.jpg\n",
      "Completed Image ====> 6.1036351d86.jpg\n",
      "Invalid or missing image format. Skipping...\n",
      "Completed Image ====> 7.%EB%8F%99%EC%A0%84.jpg\n",
      "Completed Image ====> 8.depositphotos_7108902-stock-photo-a-chinese-one-yuan-coin.jpg\n",
      "Completed Image ====> 9.tyle-pgw-7.png\n",
      "Completed Image ====> 10.32256227-%EC%A4%91%EA%B5%AD%EC%9D%98-%EB%8F%99%EC%A0%84-%EC%A4%91%EA%B5%AD-1-%EC%9C%84%EC%95%88-%EB%B0%8F-1-jiao-%EB%8F%99%EC%A0%84%EC%9E%85%EB%8B%88%EB%8B%A4-.jpg\n",
      "Completed Image ====> 11.2016110301870_0.jpg\n",
      "Completed Image ====> 12.NISI20161103_0012354845_web.jpg\n",
      "Completed Image ====> 13.36317740-%EC%A4%91%EA%B5%AD-%EC%97%AC%EA%B6%8C%EC%9D%98-%EB%B0%B0%EA%B2%BD%EC%97%90-%EB%8C%80%ED%95%B4-%EC%A4%91%EA%B5%AD-1-%EC%9C%84%EC%95%88-%EB%8F%99%EC%A0%84.jpg\n",
      "Completed Image ====> 14.20160614_122857.jpg\n",
      "Completed Image ====> 15.depositphotos_105258184-stock-photo-chinese-one-yuan-coin-and.jpg\n",
      "Completed Image ====> 16.32098312-%EC%A4%91%EA%B5%AD%EC%9D%98-%EB%8F%99%EC%A0%84-%EC%A4%91%EA%B5%AD-5-jiao-%EB%8F%99%EC%A0%84%EA%B3%BC-%EC%A4%91%EA%B5%AD-1-%EC%9C%84%EC%95%88-%EB%8F%99%EC%A0%84%EC%97%90-%EB%AC%98%EC%82%AC-%EB%90%9C-%EC%A4%91%EA%B5%AD%EC%9D%98-%EA%B5%AD%EA%B0%80-%EC%83%81%EC%A7%95-.jpg\n",
      "Invalid or missing image format. Skipping...\n",
      "Completed Image ====> 17.36317739-%EC%A4%91%EA%B5%AD-%EC%97%AC%EA%B6%8C%EC%9D%98-%EB%B0%B0%EA%B2%BD%EC%97%90-%EB%8C%80%ED%95%B4-%EC%A4%91%EA%B5%AD-1-%EC%9C%84%EC%95%88-%EB%8F%99%EC%A0%84.jpg\n",
      "Invalid or missing image format. Skipping...\n",
      "Completed Image ====> 18.depositphotos_54962359-stock-photo-coins-of-china.jpg\n",
      "Completed Image ====> 19.AKR20161103090000089_01_i_P4.jpg\n",
      "Completed Image ====> 20.18b18a7311.jpg\n",
      "Completed Image ====> 21.38374741-%EC%A4%91%EA%B5%AD-1-%EC%9C%84%EC%95%88-%EB%8F%99%EC%A0%84-%EB%B0%8F-%EC%B1%85%EC%83%81%EC%97%90-%EA%B3%A8%EB%93%9C-%EB%8F%88-%EC%9E%91-%EC%95%BD-%EA%BD%83-%EC%A4%91%EA%B5%AD-%ED%95%98%EB%82%98-%EC%9B%90-%EB%8F%99%EC%A0%84%EC%97%90-%EB%82%98%EC%99%80-%EC%9E%88%EC%8A%B5%EB%8B%88%EB%8B%A4-.jpg\n",
      "Completed Image ====> 22.depositphotos_7108911-stock-photo-a-chinese-one-yuan-coin.jpg\n",
      "Completed Image ====> 23.depositphotos_102221882-stock-photo-chinese-one-yuan-coin.jpg\n",
      "Completed Image ====> 24.depositphotos_86613846-stock-photo-chinese-one-yuan-coin-and.jpg\n",
      "Invalid or missing image format. Skipping...\n",
      "Completed Image ====> 25.1916-China-Republic-1-Yuan-Yuan-Shikai-Warlord-Pattern-Silver-Plated-Copy-Coin.jpg\n",
      "Completed Image ====> 26.48017384-%EC%A4%91%EA%B5%AD-1-%EC%9C%84%EC%95%88-%EB%8F%99%EC%A0%84-%EB%B0%8F-%EA%B8%88-%EB%8F%88%EC%9E%85%EB%8B%88%EB%8B%A4-%EB%B9%A8%EA%B0%84%EC%83%89-%EB%B0%B0%EA%B2%BD%EC%97%90-%EB%B3%80%EB%8F%99-%EA%B7%B8%EB%9E%98%ED%94%84%EC%9E%85%EB%8B%88%EB%8B%A4-%EC%A4%91%EA%B5%AD-%EC%9C%84%EC%95%88-x28-%EC%96%95%EC%9D%80-dof-x29-%EC%9D%98-%EB%B9%84%EC%9C%A8.jpg\n",
      "Completed Image ====> 27.20160120_022934.jpg\n",
      "Completed Image ====> 28.38mm-Copy-Yuan-Shikai-3rd-Year-OF-The-Republic-Of-China-1-YUAN-Silver-Plated-Coin.jpg\n",
      "Completed Image ====> 29.1%25EC%259C%2584%25EC%2595%2588%2B%25281%2529.png\n",
      "Completed Image ====> 30.China-1-Yuan-coin-2012-Year-of-the-Dragon-12-Zodiac-Commemorative-coin-100-Real-Original.jpg\n",
      "Invalid or missing image format. Skipping...\n",
      "Completed Image ====> 31.20160614_123118.jpg\n",
      "Completed Image ====> 32.depositphotos_92672822-stock-photo-chinese-one-yuan-coin.jpg\n",
      "Completed Image ====> 33.174c286721.jpg\n",
      "Invalid or missing image format. Skipping...\n",
      "Completed Image ====> 34.3079777_WN7.jpg\n",
      "Completed Image ====> 35.China-1-Yuan-Coin-Hope-project-implementation-1994-Commemorative-Coins-Asia-100-Real-And-Original-Coin.jpg\n",
      "Completed Image ====> 36.54580571-%EC%A4%91%EA%B5%AD-1-%EC%9C%84%EC%95%88-%EB%8F%99%EC%A0%84-%EB%B0%8F-%EC%B1%85%EC%83%81%EC%97%90-%EA%B3%A8%EB%93%9C-%EB%8F%88-.jpg\n",
      "Completed Image ====> 37.1%25EC%259C%2584%25EC%2595%2588%2B%25282%2529.png\n",
      "Invalid or missing image format. Skipping...\n",
      "Completed Image ====> 38.China-Qing-Dynasty-gold-plated-silver-dollar-coin-dragon-1-Yuan-coins-commemorative-gift-XuanTong.jpg\n",
      "Completed Image ====> 39.IMG_0001.jpg\n",
      "Invalid or missing image format. Skipping...\n",
      "Completed Image ====> 40.Original-Macau-1-yuan-Coin-edition-Asia-Chinese-Rare-coins-for-collection-100-real-coins-old.jpg\n",
      "Completed Image ====> 41.20160614_122908.jpg\n",
      "Completed Image ====> 42.1482298605_00.jpg\n",
      "Invalid or missing image format. Skipping...\n",
      "Completed Image ====> 43.39394535-%EC%A4%91%EA%B5%AD-1-%EC%9C%84%EC%95%88-%EB%8F%99%EC%A0%84-%EB%B0%8F-%EC%B1%85%EC%83%81%EC%97%90-%EA%B3%A8%EB%93%9C-%EB%8F%88-%EC%9E%91-%EC%95%BD-%EA%BD%83-%EC%A4%91%EA%B5%AD-%ED%95%98%EB%82%98-%EC%9B%90-%EB%8F%99%EC%A0%84%EC%97%90-%EB%82%98%EC%99%80-%EC%9E%88%EC%8A%B5%EB%8B%88%EB%8B%A4-.jpg\n",
      "Completed Image ====> 44.20181126145845150492.jpg\n",
      "Completed Image ====> 45.1377667731m0.jpg\n",
      "Invalid or missing image format. Skipping...\n",
      "Invalid or missing image format. Skipping...\n",
      "Completed Image ====> 46.37868292-%EC%A4%91%EA%B5%AD-1-%EC%9C%84%EC%95%88-%EB%8F%99%EC%A0%84-%EB%B0%8F-%EC%B1%85%EC%83%81%EC%97%90-%EA%B3%A8%EB%93%9C-%EB%8F%88-%EC%9E%91-%EC%95%BD-%EA%BD%83-%EC%A4%91%EA%B5%AD-%ED%95%98%EB%82%98-%EC%9B%90-%EB%8F%99%EC%A0%84%EC%97%90-%EB%82%98%EC%99%80-%EC%9E%88%EC%8A%B5%EB%8B%88%EB%8B%A4-.jpg\n",
      "Invalid or missing image format. Skipping...\n",
      "Completed Image ====> 47.depositphotos_94879952-stock-photo-metal-coins-one-yuan-china.jpg\n",
      "Completed Image ====> 48.TaiWang-Island-1-Yuan-Coin-Asia-Chinese-Collection-Coins-100-Real-and-Original-used-coins-old.jpg\n",
      "Completed Image ====> 49.20160614_123031.jpg\n",
      "Invalid or missing image format. Skipping...\n",
      "Completed Image ====> 50.img_20190830144700.jpg\n",
      "Completed Image ====> 51.87198781_1_1532093620_w640.jpg\n",
      "Invalid or missing image format. Skipping...\n",
      "Completed Image ====> 52.ZK.20398112.1-1200x.jpg\n",
      "Completed Image ====> 53.20150917_221132.jpg\n",
      "Completed Image ====> 54.SSI_20190423165912_V.jpg\n",
      "Completed Image ====> 55.3326_2354602_1.jpg\n",
      "Invalid or missing image format. Skipping...\n",
      "Completed Image ====> 56.3255_2354602_1.jpg\n",
      "Completed Image ====> 57.W020160414518708061814.jpg\n",
      "Invalid or missing image format. Skipping...\n",
      "Completed Image ====> 58.kcoin.jpg\n",
      "Completed Image ====> 59.%EC%83%81%ED%95%98%EC%9D%B4_%EC%9D%BC%EB%B0%98_%EC%A4%91%EA%B5%AD%20%ED%99%94%ED%8F%90_TTP.JPG\n",
      "Completed Image ====> 60.depositphotos_101605290-stock-photo-metal-coins-one-yuan-china.jpg\n",
      "Completed Image ====> 61.28729926.jpg\n",
      "Invalid or missing image format. Skipping...\n",
      "Invalid or missing image format. Skipping...\n",
      "Invalid or missing image format. Skipping...\n",
      "Completed Image ====> 62.5745_2354602_1.jpg\n",
      "Completed Image ====> 63.%25EC%25A4%2591%25EA%25B5%25AD%25EB%258F%2588%2B%25EB%25A9%2594%25EC%259D%25B8.jpg\n",
      "Completed Image ====> 64.fb49666fe8d84ec8917b299cc824c320.jpg\n",
      "Invalid or missing image format. Skipping...\n",
      "Completed Image ====> 65.depositphotos_101605356-stock-photo-metal-coins-one-yuan-china.jpg\n",
      "Completed Image ====> 66.37333950-ten-china-yuan-coin.jpg\n",
      "Completed Image ====> 67.5%ED%8C%90_%EB%9F%B0%EB%AF%BC%EC%82%90.jpeg\n",
      "Completed Image ====> 68.%EC%9C%84%EC%95%88%ED%99%94.jpg\n",
      "Completed Image ====> 69.28729925.jpg\n",
      "Invalid or missing image format. Skipping...\n",
      "Completed Image ====> 70.%25ED%2599%2598%25EC%259C%25A8.png\n",
      "Invalid or missing image format. Skipping...\n",
      "Completed Image ====> 71.editor_15568659680.584303001556865968.jpg\n",
      "Completed Image ====> 72.28729914.jpg\n",
      "Completed Image ====> 73.img_20161104160718.JPG\n",
      "Invalid or missing image format. Skipping...\n",
      "Completed Image ====> 74.image_readtop_2019_370446_1559277744.jpg\n",
      "Completed Image ====> 75.3326_2354602_2.jpg\n",
      "Invalid or missing image format. Skipping...\n",
      "Completed Image ====> 76.2016110315150922162_1.jpg\n",
      "\n",
      "\n",
      "Unfortunately all 100 could not be downloaded because some images were not downloadable. 76 is all we got for this search filter!\n",
      "\n",
      "Errors: 24\n",
      "\n",
      "({'중국 1위안 동전': ['C:\\\\Users\\\\multicampus\\\\Downloads\\\\외화분류프로젝트\\\\위안화\\\\1위안동전\\\\1.%EC%A4%91%EA%B5%AD_%EB%8F%99%EC%A0%84_%EC%A2%85%EB%A5%98_2.jpg', 'C:\\\\Users\\\\multicampus\\\\Downloads\\\\외화분류프로젝트\\\\위안화\\\\1위안동전\\\\2.htm_20161103123831875247.jpg', 'C:\\\\Users\\\\multicampus\\\\Downloads\\\\외화분류프로젝트\\\\위안화\\\\1위안동전\\\\3.%EC%A4%91%EA%B5%AD_%EB%8F%99%EC%A0%84_%EC%A2%85%EB%A5%98_1.jpg', 'C:\\\\Users\\\\multicampus\\\\Downloads\\\\외화분류프로젝트\\\\위안화\\\\1위안동전\\\\4.%25EC%25A4%2591%25EA%25B5%25AD%2B%25EB%258F%2599%25EC%25A0%2584.jpg', '', 'C:\\\\Users\\\\multicampus\\\\Downloads\\\\외화분류프로젝트\\\\위안화\\\\1위안동전\\\\6.1036351d86.jpg', 'C:\\\\Users\\\\multicampus\\\\Downloads\\\\외화분류프로젝트\\\\위안화\\\\1위안동전\\\\7.%EB%8F%99%EC%A0%84.jpg', 'C:\\\\Users\\\\multicampus\\\\Downloads\\\\외화분류프로젝트\\\\위안화\\\\1위안동전\\\\8.depositphotos_7108902-stock-photo-a-chinese-one-yuan-coin.jpg', 'C:\\\\Users\\\\multicampus\\\\Downloads\\\\외화분류프로젝트\\\\위안화\\\\1위안동전\\\\9.tyle-pgw-7.png', 'C:\\\\Users\\\\multicampus\\\\Downloads\\\\외화분류프로젝트\\\\위안화\\\\1위안동전\\\\10.32256227-%EC%A4%91%EA%B5%AD%EC%9D%98-%EB%8F%99%EC%A0%84-%EC%A4%91%EA%B5%AD-1-%EC%9C%84%EC%95%88-%EB%B0%8F-1-jiao-%EB%8F%99%EC%A0%84%EC%9E%85%EB%8B%88%EB%8B%A4-.jpg', 'C:\\\\Users\\\\multicampus\\\\Downloads\\\\외화분류프로젝트\\\\위안화\\\\1위안동전\\\\11.2016110301870_0.jpg', 'C:\\\\Users\\\\multicampus\\\\Downloads\\\\외화분류프로젝트\\\\위안화\\\\1위안동전\\\\12.NISI20161103_0012354845_web.jpg', 'C:\\\\Users\\\\multicampus\\\\Downloads\\\\외화분류프로젝트\\\\위안화\\\\1위안동전\\\\13.36317740-%EC%A4%91%EA%B5%AD-%EC%97%AC%EA%B6%8C%EC%9D%98-%EB%B0%B0%EA%B2%BD%EC%97%90-%EB%8C%80%ED%95%B4-%EC%A4%91%EA%B5%AD-1-%EC%9C%84%EC%95%88-%EB%8F%99%EC%A0%84.jpg', 'C:\\\\Users\\\\multicampus\\\\Downloads\\\\외화분류프로젝트\\\\위안화\\\\1위안동전\\\\14.20160614_122857.jpg', 'C:\\\\Users\\\\multicampus\\\\Downloads\\\\외화분류프로젝트\\\\위안화\\\\1위안동전\\\\15.depositphotos_105258184-stock-photo-chinese-one-yuan-coin-and.jpg', '', 'C:\\\\Users\\\\multicampus\\\\Downloads\\\\외화분류프로젝트\\\\위안화\\\\1위안동전\\\\17.36317739-%EC%A4%91%EA%B5%AD-%EC%97%AC%EA%B6%8C%EC%9D%98-%EB%B0%B0%EA%B2%BD%EC%97%90-%EB%8C%80%ED%95%B4-%EC%A4%91%EA%B5%AD-1-%EC%9C%84%EC%95%88-%EB%8F%99%EC%A0%84.jpg', 'C:\\\\Users\\\\multicampus\\\\Downloads\\\\외화분류프로젝트\\\\위안화\\\\1위안동전\\\\18.depositphotos_54962359-stock-photo-coins-of-china.jpg', 'C:\\\\Users\\\\multicampus\\\\Downloads\\\\외화분류프로젝트\\\\위안화\\\\1위안동전\\\\19.AKR20161103090000089_01_i_P4.jpg', 'C:\\\\Users\\\\multicampus\\\\Downloads\\\\외화분류프로젝트\\\\위안화\\\\1위안동전\\\\20.18b18a7311.jpg', '', 'C:\\\\Users\\\\multicampus\\\\Downloads\\\\외화분류프로젝트\\\\위안화\\\\1위안동전\\\\22.depositphotos_7108911-stock-photo-a-chinese-one-yuan-coin.jpg', 'C:\\\\Users\\\\multicampus\\\\Downloads\\\\외화분류프로젝트\\\\위안화\\\\1위안동전\\\\23.depositphotos_102221882-stock-photo-chinese-one-yuan-coin.jpg', 'C:\\\\Users\\\\multicampus\\\\Downloads\\\\외화분류프로젝트\\\\위안화\\\\1위안동전\\\\24.depositphotos_86613846-stock-photo-chinese-one-yuan-coin-and.jpg', 'C:\\\\Users\\\\multicampus\\\\Downloads\\\\외화분류프로젝트\\\\위안화\\\\1위안동전\\\\25.1916-China-Republic-1-Yuan-Yuan-Shikai-Warlord-Pattern-Silver-Plated-Copy-Coin.jpg', '', 'C:\\\\Users\\\\multicampus\\\\Downloads\\\\외화분류프로젝트\\\\위안화\\\\1위안동전\\\\27.20160120_022934.jpg', 'C:\\\\Users\\\\multicampus\\\\Downloads\\\\외화분류프로젝트\\\\위안화\\\\1위안동전\\\\28.38mm-Copy-Yuan-Shikai-3rd-Year-OF-The-Republic-Of-China-1-YUAN-Silver-Plated-Coin.jpg', 'C:\\\\Users\\\\multicampus\\\\Downloads\\\\외화분류프로젝트\\\\위안화\\\\1위안동전\\\\29.1%25EC%259C%2584%25EC%2595%2588%2B%25281%2529.png', 'C:\\\\Users\\\\multicampus\\\\Downloads\\\\외화분류프로젝트\\\\위안화\\\\1위안동전\\\\30.China-1-Yuan-coin-2012-Year-of-the-Dragon-12-Zodiac-Commemorative-coin-100-Real-Original.jpg', 'C:\\\\Users\\\\multicampus\\\\Downloads\\\\외화분류프로젝트\\\\위안화\\\\1위안동전\\\\31.20160614_123118.jpg', 'C:\\\\Users\\\\multicampus\\\\Downloads\\\\외화분류프로젝트\\\\위안화\\\\1위안동전\\\\32.depositphotos_92672822-stock-photo-chinese-one-yuan-coin.jpg', 'C:\\\\Users\\\\multicampus\\\\Downloads\\\\외화분류프로젝트\\\\위안화\\\\1위안동전\\\\33.174c286721.jpg', 'C:\\\\Users\\\\multicampus\\\\Downloads\\\\외화분류프로젝트\\\\위안화\\\\1위안동전\\\\34.3079777_WN7.jpg', 'C:\\\\Users\\\\multicampus\\\\Downloads\\\\외화분류프로젝트\\\\위안화\\\\1위안동전\\\\35.China-1-Yuan-Coin-Hope-project-implementation-1994-Commemorative-Coins-Asia-100-Real-And-Original-Coin.jpg', 'C:\\\\Users\\\\multicampus\\\\Downloads\\\\외화분류프로젝트\\\\위안화\\\\1위안동전\\\\36.54580571-%EC%A4%91%EA%B5%AD-1-%EC%9C%84%EC%95%88-%EB%8F%99%EC%A0%84-%EB%B0%8F-%EC%B1%85%EC%83%81%EC%97%90-%EA%B3%A8%EB%93%9C-%EB%8F%88-.jpg', 'C:\\\\Users\\\\multicampus\\\\Downloads\\\\외화분류프로젝트\\\\위안화\\\\1위안동전\\\\37.1%25EC%259C%2584%25EC%2595%2588%2B%25282%2529.png', 'C:\\\\Users\\\\multicampus\\\\Downloads\\\\외화분류프로젝트\\\\위안화\\\\1위안동전\\\\38.China-Qing-Dynasty-gold-plated-silver-dollar-coin-dragon-1-Yuan-coins-commemorative-gift-XuanTong.jpg', 'C:\\\\Users\\\\multicampus\\\\Downloads\\\\외화분류프로젝트\\\\위안화\\\\1위안동전\\\\39.IMG_0001.jpg', 'C:\\\\Users\\\\multicampus\\\\Downloads\\\\외화분류프로젝트\\\\위안화\\\\1위안동전\\\\40.Original-Macau-1-yuan-Coin-edition-Asia-Chinese-Rare-coins-for-collection-100-real-coins-old.jpg', 'C:\\\\Users\\\\multicampus\\\\Downloads\\\\외화분류프로젝트\\\\위안화\\\\1위안동전\\\\41.20160614_122908.jpg', 'C:\\\\Users\\\\multicampus\\\\Downloads\\\\외화분류프로젝트\\\\위안화\\\\1위안동전\\\\42.1482298605_00.jpg', '', 'C:\\\\Users\\\\multicampus\\\\Downloads\\\\외화분류프로젝트\\\\위안화\\\\1위안동전\\\\44.20181126145845150492.jpg', 'C:\\\\Users\\\\multicampus\\\\Downloads\\\\외화분류프로젝트\\\\위안화\\\\1위안동전\\\\45.1377667731m0.jpg', '', 'C:\\\\Users\\\\multicampus\\\\Downloads\\\\외화분류프로젝트\\\\위안화\\\\1위안동전\\\\47.depositphotos_94879952-stock-photo-metal-coins-one-yuan-china.jpg', 'C:\\\\Users\\\\multicampus\\\\Downloads\\\\외화분류프로젝트\\\\위안화\\\\1위안동전\\\\48.TaiWang-Island-1-Yuan-Coin-Asia-Chinese-Collection-Coins-100-Real-and-Original-used-coins-old.jpg', 'C:\\\\Users\\\\multicampus\\\\Downloads\\\\외화분류프로젝트\\\\위안화\\\\1위안동전\\\\49.20160614_123031.jpg', 'C:\\\\Users\\\\multicampus\\\\Downloads\\\\외화분류프로젝트\\\\위안화\\\\1위안동전\\\\50.img_20190830144700.jpg', 'C:\\\\Users\\\\multicampus\\\\Downloads\\\\외화분류프로젝트\\\\위안화\\\\1위안동전\\\\51.87198781_1_1532093620_w640.jpg', 'C:\\\\Users\\\\multicampus\\\\Downloads\\\\외화분류프로젝트\\\\위안화\\\\1위안동전\\\\52.ZK.20398112.1-1200x.jpg', 'C:\\\\Users\\\\multicampus\\\\Downloads\\\\외화분류프로젝트\\\\위안화\\\\1위안동전\\\\53.20150917_221132.jpg', 'C:\\\\Users\\\\multicampus\\\\Downloads\\\\외화분류프로젝트\\\\위안화\\\\1위안동전\\\\54.SSI_20190423165912_V.jpg', 'C:\\\\Users\\\\multicampus\\\\Downloads\\\\외화분류프로젝트\\\\위안화\\\\1위안동전\\\\55.3326_2354602_1.jpg', 'C:\\\\Users\\\\multicampus\\\\Downloads\\\\외화분류프로젝트\\\\위안화\\\\1위안동전\\\\56.3255_2354602_1.jpg', 'C:\\\\Users\\\\multicampus\\\\Downloads\\\\외화분류프로젝트\\\\위안화\\\\1위안동전\\\\57.W020160414518708061814.jpg', 'C:\\\\Users\\\\multicampus\\\\Downloads\\\\외화분류프로젝트\\\\위안화\\\\1위안동전\\\\58.kcoin.jpg', 'C:\\\\Users\\\\multicampus\\\\Downloads\\\\외화분류프로젝트\\\\위안화\\\\1위안동전\\\\59.%EC%83%81%ED%95%98%EC%9D%B4_%EC%9D%BC%EB%B0%98_%EC%A4%91%EA%B5%AD%20%ED%99%94%ED%8F%90_TTP.JPG', 'C:\\\\Users\\\\multicampus\\\\Downloads\\\\외화분류프로젝트\\\\위안화\\\\1위안동전\\\\60.depositphotos_101605290-stock-photo-metal-coins-one-yuan-china.jpg', 'C:\\\\Users\\\\multicampus\\\\Downloads\\\\외화분류프로젝트\\\\위안화\\\\1위안동전\\\\61.28729926.jpg', 'C:\\\\Users\\\\multicampus\\\\Downloads\\\\외화분류프로젝트\\\\위안화\\\\1위안동전\\\\62.5745_2354602_1.jpg', 'C:\\\\Users\\\\multicampus\\\\Downloads\\\\외화분류프로젝트\\\\위안화\\\\1위안동전\\\\63.%25EC%25A4%2591%25EA%25B5%25AD%25EB%258F%2588%2B%25EB%25A9%2594%25EC%259D%25B8.jpg', 'C:\\\\Users\\\\multicampus\\\\Downloads\\\\외화분류프로젝트\\\\위안화\\\\1위안동전\\\\64.fb49666fe8d84ec8917b299cc824c320.jpg', 'C:\\\\Users\\\\multicampus\\\\Downloads\\\\외화분류프로젝트\\\\위안화\\\\1위안동전\\\\65.depositphotos_101605356-stock-photo-metal-coins-one-yuan-china.jpg', 'C:\\\\Users\\\\multicampus\\\\Downloads\\\\외화분류프로젝트\\\\위안화\\\\1위안동전\\\\66.37333950-ten-china-yuan-coin.jpg', 'C:\\\\Users\\\\multicampus\\\\Downloads\\\\외화분류프로젝트\\\\위안화\\\\1위안동전\\\\67.5%ED%8C%90_%EB%9F%B0%EB%AF%BC%EC%82%90.jpeg', 'C:\\\\Users\\\\multicampus\\\\Downloads\\\\외화분류프로젝트\\\\위안화\\\\1위안동전\\\\68.%EC%9C%84%EC%95%88%ED%99%94.jpg', 'C:\\\\Users\\\\multicampus\\\\Downloads\\\\외화분류프로젝트\\\\위안화\\\\1위안동전\\\\69.28729925.jpg', 'C:\\\\Users\\\\multicampus\\\\Downloads\\\\외화분류프로젝트\\\\위안화\\\\1위안동전\\\\70.%25ED%2599%2598%25EC%259C%25A8.png', 'C:\\\\Users\\\\multicampus\\\\Downloads\\\\외화분류프로젝트\\\\위안화\\\\1위안동전\\\\71.editor_15568659680.584303001556865968.jpg', 'C:\\\\Users\\\\multicampus\\\\Downloads\\\\외화분류프로젝트\\\\위안화\\\\1위안동전\\\\72.28729914.jpg', 'C:\\\\Users\\\\multicampus\\\\Downloads\\\\외화분류프로젝트\\\\위안화\\\\1위안동전\\\\73.img_20161104160718.JPG', 'C:\\\\Users\\\\multicampus\\\\Downloads\\\\외화분류프로젝트\\\\위안화\\\\1위안동전\\\\74.image_readtop_2019_370446_1559277744.jpg', 'C:\\\\Users\\\\multicampus\\\\Downloads\\\\외화분류프로젝트\\\\위안화\\\\1위안동전\\\\75.3326_2354602_2.jpg', 'C:\\\\Users\\\\multicampus\\\\Downloads\\\\외화분류프로젝트\\\\위안화\\\\1위안동전\\\\76.2016110315150922162_1.jpg']}, 24)\n"
     ]
    }
   ],
   "source": [
    "imageCrawling('5자오 동전', 'C:/Users/multicampus/Downloads/외화분류프로젝트/위안화/5자오동전/')"
   ]
  },
  {
   "cell_type": "code",
   "execution_count": null,
   "metadata": {},
   "outputs": [],
   "source": []
  }
 ],
 "metadata": {
  "kernelspec": {
   "display_name": "Python 3",
   "language": "python",
   "name": "python3"
  },
  "language_info": {
   "codemirror_mode": {
    "name": "ipython",
    "version": 3
   },
   "file_extension": ".py",
   "mimetype": "text/x-python",
   "name": "python",
   "nbconvert_exporter": "python",
   "pygments_lexer": "ipython3",
   "version": "3.7.4"
  }
 },
 "nbformat": 4,
 "nbformat_minor": 4
}

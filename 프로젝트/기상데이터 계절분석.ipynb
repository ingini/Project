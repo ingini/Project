{
 "cells": [
  {
   "cell_type": "markdown",
   "metadata": {},
   "source": [
    "# 팀 프로젝트 (8주차 과제)\n",
    "## 기상청 데이터로 계절 분석"
   ]
  },
  {
   "cell_type": "code",
   "execution_count": 95,
   "metadata": {},
   "outputs": [
    {
     "name": "stdout",
     "output_type": "stream",
     "text": [
      "Populating the interactive namespace from numpy and matplotlib\n"
     ]
    }
   ],
   "source": [
    "%pylab inline\n",
    "\n",
    "import numpy as np\n",
    "import pandas as pd\n",
    "import matplotlib.pyplot as plt"
   ]
  },
  {
   "cell_type": "code",
   "execution_count": 96,
   "metadata": {},
   "outputs": [],
   "source": [
    "df = pd.read_csv('climate_2_2.csv', parse_dates=[1], encoding='utf-8')"
   ]
  },
  {
   "cell_type": "code",
   "execution_count": 97,
   "metadata": {},
   "outputs": [
    {
     "data": {
      "text/html": [
       "<div>\n",
       "<style scoped>\n",
       "    .dataframe tbody tr th:only-of-type {\n",
       "        vertical-align: middle;\n",
       "    }\n",
       "\n",
       "    .dataframe tbody tr th {\n",
       "        vertical-align: top;\n",
       "    }\n",
       "\n",
       "    .dataframe thead th {\n",
       "        text-align: right;\n",
       "    }\n",
       "</style>\n",
       "<table border=\"1\" class=\"dataframe\">\n",
       "  <thead>\n",
       "    <tr style=\"text-align: right;\">\n",
       "      <th></th>\n",
       "      <th>지점</th>\n",
       "      <th>일시</th>\n",
       "      <th>평균기온(°C)</th>\n",
       "      <th>최저기온(°C)</th>\n",
       "      <th>최저기온 시각(hhmi)</th>\n",
       "      <th>최고기온(°C)</th>\n",
       "      <th>최고기온 시각(hhmi)</th>\n",
       "      <th>강수 계속시간(hr)</th>\n",
       "      <th>10분 최다 강수량(mm)</th>\n",
       "      <th>10분 최다강수량 시각(hhmi)</th>\n",
       "      <th>...</th>\n",
       "      <th>0.5m 지중온도(°C)</th>\n",
       "      <th>1.0m 지중온도(°C)</th>\n",
       "      <th>1.5m 지중온도(°C)</th>\n",
       "      <th>3.0m 지중온도(°C)</th>\n",
       "      <th>5.0m 지중온도(°C)</th>\n",
       "      <th>합계 대형증발량(mm)</th>\n",
       "      <th>합계 소형증발량(mm)</th>\n",
       "      <th>9-9강수(mm)</th>\n",
       "      <th>기사</th>\n",
       "      <th>안개 계속시간(hr)</th>\n",
       "    </tr>\n",
       "  </thead>\n",
       "  <tbody>\n",
       "    <tr>\n",
       "      <th>1367</th>\n",
       "      <td>108</td>\n",
       "      <td>2018-09-29</td>\n",
       "      <td>20.2</td>\n",
       "      <td>14.6</td>\n",
       "      <td>553</td>\n",
       "      <td>27.0</td>\n",
       "      <td>1520.0</td>\n",
       "      <td>NaN</td>\n",
       "      <td>NaN</td>\n",
       "      <td>NaN</td>\n",
       "      <td>...</td>\n",
       "      <td>21.3</td>\n",
       "      <td>22.5</td>\n",
       "      <td>23.0</td>\n",
       "      <td>21.1</td>\n",
       "      <td>17.8</td>\n",
       "      <td>3.5</td>\n",
       "      <td>5.0</td>\n",
       "      <td>NaN</td>\n",
       "      <td>NaN</td>\n",
       "      <td>NaN</td>\n",
       "    </tr>\n",
       "    <tr>\n",
       "      <th>1368</th>\n",
       "      <td>108</td>\n",
       "      <td>2018-09-30</td>\n",
       "      <td>17.6</td>\n",
       "      <td>14.0</td>\n",
       "      <td>2312</td>\n",
       "      <td>21.6</td>\n",
       "      <td>1453.0</td>\n",
       "      <td>NaN</td>\n",
       "      <td>NaN</td>\n",
       "      <td>NaN</td>\n",
       "      <td>...</td>\n",
       "      <td>21.5</td>\n",
       "      <td>22.4</td>\n",
       "      <td>22.9</td>\n",
       "      <td>21.1</td>\n",
       "      <td>17.9</td>\n",
       "      <td>4.2</td>\n",
       "      <td>6.0</td>\n",
       "      <td>NaN</td>\n",
       "      <td>NaN</td>\n",
       "      <td>NaN</td>\n",
       "    </tr>\n",
       "    <tr>\n",
       "      <th>1369</th>\n",
       "      <td>108</td>\n",
       "      <td>2018-10-01</td>\n",
       "      <td>15.4</td>\n",
       "      <td>13.0</td>\n",
       "      <td>2400</td>\n",
       "      <td>19.7</td>\n",
       "      <td>1418.0</td>\n",
       "      <td>0.58</td>\n",
       "      <td>0.0</td>\n",
       "      <td>NaN</td>\n",
       "      <td>...</td>\n",
       "      <td>21.2</td>\n",
       "      <td>22.3</td>\n",
       "      <td>22.8</td>\n",
       "      <td>21.1</td>\n",
       "      <td>17.9</td>\n",
       "      <td>3.1</td>\n",
       "      <td>4.4</td>\n",
       "      <td>0.0</td>\n",
       "      <td>{비}1620-1655.</td>\n",
       "      <td>NaN</td>\n",
       "    </tr>\n",
       "    <tr>\n",
       "      <th>1370</th>\n",
       "      <td>108</td>\n",
       "      <td>2018-10-02</td>\n",
       "      <td>15.9</td>\n",
       "      <td>10.3</td>\n",
       "      <td>653</td>\n",
       "      <td>22.0</td>\n",
       "      <td>1622.0</td>\n",
       "      <td>NaN</td>\n",
       "      <td>NaN</td>\n",
       "      <td>NaN</td>\n",
       "      <td>...</td>\n",
       "      <td>20.8</td>\n",
       "      <td>22.1</td>\n",
       "      <td>22.7</td>\n",
       "      <td>21.1</td>\n",
       "      <td>17.9</td>\n",
       "      <td>3.6</td>\n",
       "      <td>5.1</td>\n",
       "      <td>NaN</td>\n",
       "      <td>NaN</td>\n",
       "      <td>NaN</td>\n",
       "    </tr>\n",
       "    <tr>\n",
       "      <th>1371</th>\n",
       "      <td>108</td>\n",
       "      <td>2018-10-03</td>\n",
       "      <td>17.3</td>\n",
       "      <td>11.2</td>\n",
       "      <td>643</td>\n",
       "      <td>24.2</td>\n",
       "      <td>1526.0</td>\n",
       "      <td>NaN</td>\n",
       "      <td>NaN</td>\n",
       "      <td>NaN</td>\n",
       "      <td>...</td>\n",
       "      <td>20.6</td>\n",
       "      <td>21.9</td>\n",
       "      <td>22.5</td>\n",
       "      <td>21.1</td>\n",
       "      <td>17.9</td>\n",
       "      <td>3.6</td>\n",
       "      <td>5.2</td>\n",
       "      <td>NaN</td>\n",
       "      <td>NaN</td>\n",
       "      <td>NaN</td>\n",
       "    </tr>\n",
       "  </tbody>\n",
       "</table>\n",
       "<p>5 rows × 60 columns</p>\n",
       "</div>"
      ],
      "text/plain": [
       "       지점         일시  평균기온(°C)  최저기온(°C)  최저기온 시각(hhmi)  최고기온(°C)  \\\n",
       "1367  108 2018-09-29      20.2      14.6            553      27.0   \n",
       "1368  108 2018-09-30      17.6      14.0           2312      21.6   \n",
       "1369  108 2018-10-01      15.4      13.0           2400      19.7   \n",
       "1370  108 2018-10-02      15.9      10.3            653      22.0   \n",
       "1371  108 2018-10-03      17.3      11.2            643      24.2   \n",
       "\n",
       "      최고기온 시각(hhmi)  강수 계속시간(hr)  10분 최다 강수량(mm)  10분 최다강수량 시각(hhmi)  \\\n",
       "1367         1520.0          NaN             NaN                 NaN   \n",
       "1368         1453.0          NaN             NaN                 NaN   \n",
       "1369         1418.0         0.58             0.0                 NaN   \n",
       "1370         1622.0          NaN             NaN                 NaN   \n",
       "1371         1526.0          NaN             NaN                 NaN   \n",
       "\n",
       "         ...       0.5m 지중온도(°C)  1.0m 지중온도(°C)  1.5m 지중온도(°C)  3.0m 지중온도(°C)  \\\n",
       "1367     ...                21.3           22.5           23.0           21.1   \n",
       "1368     ...                21.5           22.4           22.9           21.1   \n",
       "1369     ...                21.2           22.3           22.8           21.1   \n",
       "1370     ...                20.8           22.1           22.7           21.1   \n",
       "1371     ...                20.6           21.9           22.5           21.1   \n",
       "\n",
       "      5.0m 지중온도(°C)  합계 대형증발량(mm)  합계 소형증발량(mm)  9-9강수(mm)             기사  \\\n",
       "1367           17.8           3.5           5.0        NaN            NaN   \n",
       "1368           17.9           4.2           6.0        NaN            NaN   \n",
       "1369           17.9           3.1           4.4        0.0  {비}1620-1655.   \n",
       "1370           17.9           3.6           5.1        NaN            NaN   \n",
       "1371           17.9           3.6           5.2        NaN            NaN   \n",
       "\n",
       "      안개 계속시간(hr)  \n",
       "1367          NaN  \n",
       "1368          NaN  \n",
       "1369          NaN  \n",
       "1370          NaN  \n",
       "1371          NaN  \n",
       "\n",
       "[5 rows x 60 columns]"
      ]
     },
     "execution_count": 97,
     "metadata": {},
     "output_type": "execute_result"
    }
   ],
   "source": [
    "df.tail()"
   ]
  },
  {
   "cell_type": "code",
   "execution_count": 98,
   "metadata": {},
   "outputs": [
    {
     "name": "stdout",
     "output_type": "stream",
     "text": [
      "<class 'pandas.core.frame.DataFrame'>\n",
      "RangeIndex: 1372 entries, 0 to 1371\n",
      "Data columns (total 60 columns):\n",
      "지점                     1372 non-null int64\n",
      "일시                     1372 non-null datetime64[ns]\n",
      "평균기온(°C)               1372 non-null float64\n",
      "최저기온(°C)               1372 non-null float64\n",
      "최저기온 시각(hhmi)          1372 non-null int64\n",
      "최고기온(°C)               1371 non-null float64\n",
      "최고기온 시각(hhmi)          1371 non-null float64\n",
      "강수 계속시간(hr)            517 non-null float64\n",
      "10분 최다 강수량(mm)         333 non-null float64\n",
      "10분 최다강수량 시각(hhmi)     239 non-null float64\n",
      "1시간 최다강수량(mm)          333 non-null float64\n",
      "1시간 최다 강수량 시각(hhmi)    243 non-null float64\n",
      "일강수량(mm)               517 non-null float64\n",
      "최대 순간 풍속(m/s)          1370 non-null float64\n",
      "최대 순간 풍속 풍향(16방위)      1370 non-null float64\n",
      "최대 순간풍속 시각(hhmi)       1370 non-null float64\n",
      "최대 풍속(m/s)             1370 non-null float64\n",
      "최대 풍속 풍향(16방위)         1370 non-null float64\n",
      "최대 풍속 시각(hhmi)         1370 non-null float64\n",
      "평균 풍속(m/s)             1369 non-null float64\n",
      "풍정합(100m)              1370 non-null float64\n",
      "평균 이슬점온도(°C)           1372 non-null float64\n",
      "최소 상대습도(%)             1371 non-null float64\n",
      "최소 상대습도 시각(hhmi)       1371 non-null float64\n",
      "평균 상대습도(%)             1372 non-null float64\n",
      "평균 증기압(hPa)            1372 non-null float64\n",
      "평균 현지기압(hPa)           1372 non-null float64\n",
      "최고 해면기압(hPa)           1372 non-null float64\n",
      "최고 해면기압 시각(hhmi)       1372 non-null int64\n",
      "최저 해면기압(hPa)           1371 non-null float64\n",
      "최저 해면기압 시각(hhmi)       1371 non-null float64\n",
      "평균 해면기압(hPa)           1372 non-null float64\n",
      "가조시간(hr)               1372 non-null float64\n",
      "합계 일조 시간(hr)           1363 non-null float64\n",
      "1시간 최다일사 시각(hhmi)      1364 non-null float64\n",
      "1시간 최다일사량(MJ/m2)       1364 non-null float64\n",
      "합계 일사(MJ/m2)           1362 non-null float64\n",
      "일 최심신적설(cm)            40 non-null float64\n",
      "일 최심신적설 시각(hhmi)       39 non-null float64\n",
      "일 최심적설(cm)             63 non-null float64\n",
      "일 최심적설 시각(hhmi)        63 non-null float64\n",
      "합계 3시간 신적설(cm)         40 non-null float64\n",
      "평균 전운량(1/10)           1372 non-null float64\n",
      "평균 중하층운량(1/10)         1372 non-null float64\n",
      "평균 지면온도(°C)            1371 non-null float64\n",
      "최저 초상온도(°C)            1369 non-null float64\n",
      "평균 5cm 지중온도(°C)        1362 non-null float64\n",
      "평균 10cm 지중온도(°C)       1367 non-null float64\n",
      "평균 20cm 지중온도(°C)       1366 non-null float64\n",
      "평균 30cm 지중온도(°C)       1367 non-null float64\n",
      "0.5m 지중온도(°C)          1365 non-null float64\n",
      "1.0m 지중온도(°C)          1368 non-null float64\n",
      "1.5m 지중온도(°C)          1369 non-null float64\n",
      "3.0m 지중온도(°C)          1366 non-null float64\n",
      "5.0m 지중온도(°C)          1370 non-null float64\n",
      "합계 대형증발량(mm)           1125 non-null float64\n",
      "합계 소형증발량(mm)           1368 non-null float64\n",
      "9-9강수(mm)              509 non-null float64\n",
      "기사                     972 non-null object\n",
      "안개 계속시간(hr)            21 non-null float64\n",
      "dtypes: datetime64[ns](1), float64(55), int64(3), object(1)\n",
      "memory usage: 643.2+ KB\n"
     ]
    }
   ],
   "source": [
    "df.info()"
   ]
  },
  {
   "cell_type": "code",
   "execution_count": 99,
   "metadata": {},
   "outputs": [
    {
     "name": "stdout",
     "output_type": "stream",
     "text": [
      "00 : 지점\n",
      "01 : 일시\n",
      "02 : 평균기온(°C)\n",
      "03 : 최저기온(°C)\n",
      "04 : 최저기온 시각(hhmi)\n",
      "05 : 최고기온(°C)\n",
      "06 : 최고기온 시각(hhmi)\n",
      "07 : 강수 계속시간(hr)\n",
      "08 : 10분 최다 강수량(mm)\n",
      "09 : 10분 최다강수량 시각(hhmi)\n",
      "10 : 1시간 최다강수량(mm)\n",
      "11 : 1시간 최다 강수량 시각(hhmi)\n",
      "12 : 일강수량(mm)\n",
      "13 : 최대 순간 풍속(m/s)\n",
      "14 : 최대 순간 풍속 풍향(16방위)\n",
      "15 : 최대 순간풍속 시각(hhmi)\n",
      "16 : 최대 풍속(m/s)\n",
      "17 : 최대 풍속 풍향(16방위)\n",
      "18 : 최대 풍속 시각(hhmi)\n",
      "19 : 평균 풍속(m/s)\n",
      "20 : 풍정합(100m)\n",
      "21 : 평균 이슬점온도(°C)\n",
      "22 : 최소 상대습도(%)\n",
      "23 : 최소 상대습도 시각(hhmi)\n",
      "24 : 평균 상대습도(%)\n",
      "25 : 평균 증기압(hPa)\n",
      "26 : 평균 현지기압(hPa)\n",
      "27 : 최고 해면기압(hPa)\n",
      "28 : 최고 해면기압 시각(hhmi)\n",
      "29 : 최저 해면기압(hPa)\n",
      "30 : 최저 해면기압 시각(hhmi)\n",
      "31 : 평균 해면기압(hPa)\n",
      "32 : 가조시간(hr)\n",
      "33 : 합계 일조 시간(hr)\n",
      "34 : 1시간 최다일사 시각(hhmi)\n",
      "35 : 1시간 최다일사량(MJ/m2)\n",
      "36 : 합계 일사(MJ/m2)\n",
      "37 : 일 최심신적설(cm)\n",
      "38 : 일 최심신적설 시각(hhmi)\n",
      "39 : 일 최심적설(cm)\n",
      "40 : 일 최심적설 시각(hhmi)\n",
      "41 : 합계 3시간 신적설(cm)\n",
      "42 : 평균 전운량(1/10)\n",
      "43 : 평균 중하층운량(1/10)\n",
      "44 : 평균 지면온도(°C)\n",
      "45 : 최저 초상온도(°C)\n",
      "46 : 평균 5cm 지중온도(°C)\n",
      "47 : 평균 10cm 지중온도(°C)\n",
      "48 : 평균 20cm 지중온도(°C)\n",
      "49 : 평균 30cm 지중온도(°C)\n",
      "50 : 0.5m 지중온도(°C)\n",
      "51 : 1.0m 지중온도(°C)\n",
      "52 : 1.5m 지중온도(°C)\n",
      "53 : 3.0m 지중온도(°C)\n",
      "54 : 5.0m 지중온도(°C)\n",
      "55 : 합계 대형증발량(mm)\n",
      "56 : 합계 소형증발량(mm)\n",
      "57 : 9-9강수(mm)\n",
      "58 : 기사\n",
      "59 : 안개 계속시간(hr)\n"
     ]
    }
   ],
   "source": [
    "for i in range(len(df.columns)):\n",
    "    print('%02d : %s' % (i,df.columns[i]))"
   ]
  },
  {
   "cell_type": "code",
   "execution_count": 120,
   "metadata": {},
   "outputs": [
    {
     "data": {
      "text/html": [
       "<div>\n",
       "<style scoped>\n",
       "    .dataframe tbody tr th:only-of-type {\n",
       "        vertical-align: middle;\n",
       "    }\n",
       "\n",
       "    .dataframe tbody tr th {\n",
       "        vertical-align: top;\n",
       "    }\n",
       "\n",
       "    .dataframe thead th {\n",
       "        text-align: right;\n",
       "    }\n",
       "</style>\n",
       "<table border=\"1\" class=\"dataframe\">\n",
       "  <thead>\n",
       "    <tr style=\"text-align: right;\">\n",
       "      <th></th>\n",
       "      <th>일시</th>\n",
       "      <th>평균기온(°C)</th>\n",
       "      <th>최저기온(°C)</th>\n",
       "      <th>최고기온(°C)</th>\n",
       "      <th>평균 풍속(m/s)</th>\n",
       "      <th>평균 이슬점온도(°C)</th>\n",
       "      <th>평균 상대습도(%)</th>\n",
       "    </tr>\n",
       "  </thead>\n",
       "  <tbody>\n",
       "    <tr>\n",
       "      <th>0</th>\n",
       "      <td>2015-01-01</td>\n",
       "      <td>-7.7</td>\n",
       "      <td>-9.8</td>\n",
       "      <td>-4.3</td>\n",
       "      <td>4.6</td>\n",
       "      <td>-18.8</td>\n",
       "      <td>41.4</td>\n",
       "    </tr>\n",
       "    <tr>\n",
       "      <th>1</th>\n",
       "      <td>2015-01-02</td>\n",
       "      <td>-6.0</td>\n",
       "      <td>-9.0</td>\n",
       "      <td>-1.9</td>\n",
       "      <td>3.2</td>\n",
       "      <td>-16.1</td>\n",
       "      <td>45.9</td>\n",
       "    </tr>\n",
       "    <tr>\n",
       "      <th>2</th>\n",
       "      <td>2015-01-03</td>\n",
       "      <td>-2.7</td>\n",
       "      <td>-9.2</td>\n",
       "      <td>3.1</td>\n",
       "      <td>1.9</td>\n",
       "      <td>-10.5</td>\n",
       "      <td>56.1</td>\n",
       "    </tr>\n",
       "    <tr>\n",
       "      <th>3</th>\n",
       "      <td>2015-01-04</td>\n",
       "      <td>2.5</td>\n",
       "      <td>0.2</td>\n",
       "      <td>8.5</td>\n",
       "      <td>2.0</td>\n",
       "      <td>-2.5</td>\n",
       "      <td>70.1</td>\n",
       "    </tr>\n",
       "    <tr>\n",
       "      <th>4</th>\n",
       "      <td>2015-01-05</td>\n",
       "      <td>3.7</td>\n",
       "      <td>-1.1</td>\n",
       "      <td>7.9</td>\n",
       "      <td>2.4</td>\n",
       "      <td>-1.0</td>\n",
       "      <td>73.1</td>\n",
       "    </tr>\n",
       "  </tbody>\n",
       "</table>\n",
       "</div>"
      ],
      "text/plain": [
       "          일시  평균기온(°C)  최저기온(°C)  최고기온(°C)  평균 풍속(m/s)  평균 이슬점온도(°C)  \\\n",
       "0 2015-01-01      -7.7      -9.8      -4.3         4.6         -18.8   \n",
       "1 2015-01-02      -6.0      -9.0      -1.9         3.2         -16.1   \n",
       "2 2015-01-03      -2.7      -9.2       3.1         1.9         -10.5   \n",
       "3 2015-01-04       2.5       0.2       8.5         2.0          -2.5   \n",
       "4 2015-01-05       3.7      -1.1       7.9         2.4          -1.0   \n",
       "\n",
       "   평균 상대습도(%)  \n",
       "0        41.4  \n",
       "1        45.9  \n",
       "2        56.1  \n",
       "3        70.1  \n",
       "4        73.1  "
      ]
     },
     "execution_count": 120,
     "metadata": {},
     "output_type": "execute_result"
    }
   ],
   "source": [
    "df2 = df.iloc[:,[1,2,3,5,19,21,24]]\n",
    "df2.head()"
   ]
  },
  {
   "cell_type": "code",
   "execution_count": 121,
   "metadata": {},
   "outputs": [
    {
     "name": "stdout",
     "output_type": "stream",
     "text": [
      "<class 'pandas.core.frame.DataFrame'>\n",
      "RangeIndex: 1372 entries, 0 to 1371\n",
      "Data columns (total 7 columns):\n",
      "일시              1372 non-null datetime64[ns]\n",
      "평균기온(°C)        1372 non-null float64\n",
      "최저기온(°C)        1372 non-null float64\n",
      "최고기온(°C)        1371 non-null float64\n",
      "평균 풍속(m/s)      1369 non-null float64\n",
      "평균 이슬점온도(°C)    1372 non-null float64\n",
      "평균 상대습도(%)      1372 non-null float64\n",
      "dtypes: datetime64[ns](1), float64(6)\n",
      "memory usage: 75.1 KB\n"
     ]
    }
   ],
   "source": [
    "df2.info()"
   ]
  },
  {
   "cell_type": "code",
   "execution_count": 122,
   "metadata": {},
   "outputs": [
    {
     "data": {
      "text/html": [
       "<div>\n",
       "<style scoped>\n",
       "    .dataframe tbody tr th:only-of-type {\n",
       "        vertical-align: middle;\n",
       "    }\n",
       "\n",
       "    .dataframe tbody tr th {\n",
       "        vertical-align: top;\n",
       "    }\n",
       "\n",
       "    .dataframe thead th {\n",
       "        text-align: right;\n",
       "    }\n",
       "</style>\n",
       "<table border=\"1\" class=\"dataframe\">\n",
       "  <thead>\n",
       "    <tr style=\"text-align: right;\">\n",
       "      <th></th>\n",
       "      <th>일시</th>\n",
       "      <th>평균기온(°C)</th>\n",
       "      <th>최저기온(°C)</th>\n",
       "      <th>최고기온(°C)</th>\n",
       "      <th>평균 풍속(m/s)</th>\n",
       "      <th>평균 이슬점온도(°C)</th>\n",
       "      <th>평균 상대습도(%)</th>\n",
       "    </tr>\n",
       "  </thead>\n",
       "  <tbody>\n",
       "    <tr>\n",
       "      <th>1015</th>\n",
       "      <td>2017-10-12</td>\n",
       "      <td>11.4</td>\n",
       "      <td>8.8</td>\n",
       "      <td>NaN</td>\n",
       "      <td>2.0</td>\n",
       "      <td>5.9</td>\n",
       "      <td>71.0</td>\n",
       "    </tr>\n",
       "  </tbody>\n",
       "</table>\n",
       "</div>"
      ],
      "text/plain": [
       "             일시  평균기온(°C)  최저기온(°C)  최고기온(°C)  평균 풍속(m/s)  평균 이슬점온도(°C)  \\\n",
       "1015 2017-10-12      11.4       8.8       NaN         2.0           5.9   \n",
       "\n",
       "      평균 상대습도(%)  \n",
       "1015        71.0  "
      ]
     },
     "execution_count": 122,
     "metadata": {},
     "output_type": "execute_result"
    }
   ],
   "source": [
    "df2[df2['최고기온(°C)'].isna()]"
   ]
  },
  {
   "cell_type": "code",
   "execution_count": 123,
   "metadata": {
    "scrolled": true
   },
   "outputs": [
    {
     "data": {
      "text/html": [
       "<div>\n",
       "<style scoped>\n",
       "    .dataframe tbody tr th:only-of-type {\n",
       "        vertical-align: middle;\n",
       "    }\n",
       "\n",
       "    .dataframe tbody tr th {\n",
       "        vertical-align: top;\n",
       "    }\n",
       "\n",
       "    .dataframe thead th {\n",
       "        text-align: right;\n",
       "    }\n",
       "</style>\n",
       "<table border=\"1\" class=\"dataframe\">\n",
       "  <thead>\n",
       "    <tr style=\"text-align: right;\">\n",
       "      <th></th>\n",
       "      <th>일시</th>\n",
       "      <th>평균기온(°C)</th>\n",
       "      <th>최저기온(°C)</th>\n",
       "      <th>최고기온(°C)</th>\n",
       "      <th>평균 풍속(m/s)</th>\n",
       "      <th>평균 이슬점온도(°C)</th>\n",
       "      <th>평균 상대습도(%)</th>\n",
       "    </tr>\n",
       "  </thead>\n",
       "  <tbody>\n",
       "    <tr>\n",
       "      <th>1017</th>\n",
       "      <td>2017-10-14</td>\n",
       "      <td>14.4</td>\n",
       "      <td>9.0</td>\n",
       "      <td>20.5</td>\n",
       "      <td>NaN</td>\n",
       "      <td>0.8</td>\n",
       "      <td>42.8</td>\n",
       "    </tr>\n",
       "    <tr>\n",
       "      <th>1069</th>\n",
       "      <td>2017-12-05</td>\n",
       "      <td>-4.2</td>\n",
       "      <td>-8.2</td>\n",
       "      <td>-0.4</td>\n",
       "      <td>NaN</td>\n",
       "      <td>-16.4</td>\n",
       "      <td>40.1</td>\n",
       "    </tr>\n",
       "    <tr>\n",
       "      <th>1070</th>\n",
       "      <td>2017-12-06</td>\n",
       "      <td>0.2</td>\n",
       "      <td>-4.5</td>\n",
       "      <td>6.0</td>\n",
       "      <td>NaN</td>\n",
       "      <td>-4.7</td>\n",
       "      <td>72.6</td>\n",
       "    </tr>\n",
       "  </tbody>\n",
       "</table>\n",
       "</div>"
      ],
      "text/plain": [
       "             일시  평균기온(°C)  최저기온(°C)  최고기온(°C)  평균 풍속(m/s)  평균 이슬점온도(°C)  \\\n",
       "1017 2017-10-14      14.4       9.0      20.5         NaN           0.8   \n",
       "1069 2017-12-05      -4.2      -8.2      -0.4         NaN         -16.4   \n",
       "1070 2017-12-06       0.2      -4.5       6.0         NaN          -4.7   \n",
       "\n",
       "      평균 상대습도(%)  \n",
       "1017        42.8  \n",
       "1069        40.1  \n",
       "1070        72.6  "
      ]
     },
     "execution_count": 123,
     "metadata": {},
     "output_type": "execute_result"
    }
   ],
   "source": [
    "df2[df2['평균 풍속(m/s)'].isna()]"
   ]
  },
  {
   "cell_type": "code",
   "execution_count": 126,
   "metadata": {},
   "outputs": [
    {
     "data": {
      "text/html": [
       "<div>\n",
       "<style scoped>\n",
       "    .dataframe tbody tr th:only-of-type {\n",
       "        vertical-align: middle;\n",
       "    }\n",
       "\n",
       "    .dataframe tbody tr th {\n",
       "        vertical-align: top;\n",
       "    }\n",
       "\n",
       "    .dataframe thead th {\n",
       "        text-align: right;\n",
       "    }\n",
       "</style>\n",
       "<table border=\"1\" class=\"dataframe\">\n",
       "  <thead>\n",
       "    <tr style=\"text-align: right;\">\n",
       "      <th></th>\n",
       "      <th>일시</th>\n",
       "      <th>평균기온(°C)</th>\n",
       "      <th>최저기온(°C)</th>\n",
       "      <th>최고기온(°C)</th>\n",
       "      <th>평균 풍속(m/s)</th>\n",
       "      <th>평균 이슬점온도(°C)</th>\n",
       "      <th>평균 상대습도(%)</th>\n",
       "    </tr>\n",
       "  </thead>\n",
       "  <tbody>\n",
       "    <tr>\n",
       "      <th>1015</th>\n",
       "      <td>2017-10-12</td>\n",
       "      <td>11.4</td>\n",
       "      <td>8.8</td>\n",
       "      <td>NaN</td>\n",
       "      <td>2.0</td>\n",
       "      <td>5.9</td>\n",
       "      <td>71.0</td>\n",
       "    </tr>\n",
       "    <tr>\n",
       "      <th>1017</th>\n",
       "      <td>2017-10-14</td>\n",
       "      <td>14.4</td>\n",
       "      <td>9.0</td>\n",
       "      <td>20.5</td>\n",
       "      <td>NaN</td>\n",
       "      <td>0.8</td>\n",
       "      <td>42.8</td>\n",
       "    </tr>\n",
       "    <tr>\n",
       "      <th>1069</th>\n",
       "      <td>2017-12-05</td>\n",
       "      <td>-4.2</td>\n",
       "      <td>-8.2</td>\n",
       "      <td>-0.4</td>\n",
       "      <td>NaN</td>\n",
       "      <td>-16.4</td>\n",
       "      <td>40.1</td>\n",
       "    </tr>\n",
       "    <tr>\n",
       "      <th>1070</th>\n",
       "      <td>2017-12-06</td>\n",
       "      <td>0.2</td>\n",
       "      <td>-4.5</td>\n",
       "      <td>6.0</td>\n",
       "      <td>NaN</td>\n",
       "      <td>-4.7</td>\n",
       "      <td>72.6</td>\n",
       "    </tr>\n",
       "  </tbody>\n",
       "</table>\n",
       "</div>"
      ],
      "text/plain": [
       "             일시  평균기온(°C)  최저기온(°C)  최고기온(°C)  평균 풍속(m/s)  평균 이슬점온도(°C)  \\\n",
       "1015 2017-10-12      11.4       8.8       NaN         2.0           5.9   \n",
       "1017 2017-10-14      14.4       9.0      20.5         NaN           0.8   \n",
       "1069 2017-12-05      -4.2      -8.2      -0.4         NaN         -16.4   \n",
       "1070 2017-12-06       0.2      -4.5       6.0         NaN          -4.7   \n",
       "\n",
       "      평균 상대습도(%)  \n",
       "1015        71.0  \n",
       "1017        42.8  \n",
       "1069        40.1  \n",
       "1070        72.6  "
      ]
     },
     "metadata": {},
     "output_type": "display_data"
    },
    {
     "data": {
      "text/plain": [
       "Int64Index([1015, 1017, 1069, 1070], dtype='int64')"
      ]
     },
     "metadata": {},
     "output_type": "display_data"
    }
   ],
   "source": [
    "na_df = df2[(df2.isna()).any(axis=1)]\n",
    "na_ids = na_df.index\n",
    "display(na_df, na_ids)"
   ]
  },
  {
   "cell_type": "code",
   "execution_count": 127,
   "metadata": {},
   "outputs": [
    {
     "name": "stdout",
     "output_type": "stream",
     "text": [
      "<class 'pandas.core.frame.DataFrame'>\n",
      "RangeIndex: 1372 entries, 0 to 1371\n",
      "Data columns (total 7 columns):\n",
      "일시              1372 non-null datetime64[ns]\n",
      "평균기온(°C)        1372 non-null float64\n",
      "최저기온(°C)        1372 non-null float64\n",
      "최고기온(°C)        1372 non-null float64\n",
      "평균 풍속(m/s)      1372 non-null float64\n",
      "평균 이슬점온도(°C)    1372 non-null float64\n",
      "평균 상대습도(%)      1372 non-null float64\n",
      "dtypes: datetime64[ns](1), float64(6)\n",
      "memory usage: 75.1 KB\n"
     ]
    }
   ],
   "source": [
    "df3 = df2.ffill()\n",
    "df3.info()"
   ]
  },
  {
   "cell_type": "code",
   "execution_count": 129,
   "metadata": {},
   "outputs": [
    {
     "data": {
      "text/plain": [
       "일시              0\n",
       "평균기온(°C)        0\n",
       "최저기온(°C)        0\n",
       "최고기온(°C)        0\n",
       "평균 풍속(m/s)      0\n",
       "평균 이슬점온도(°C)    0\n",
       "평균 상대습도(%)      0\n",
       "dtype: int64"
      ]
     },
     "execution_count": 129,
     "metadata": {},
     "output_type": "execute_result"
    }
   ],
   "source": [
    "df3.isna().sum()"
   ]
  },
  {
   "cell_type": "code",
   "execution_count": 130,
   "metadata": {},
   "outputs": [
    {
     "data": {
      "text/html": [
       "<div>\n",
       "<style scoped>\n",
       "    .dataframe tbody tr th:only-of-type {\n",
       "        vertical-align: middle;\n",
       "    }\n",
       "\n",
       "    .dataframe tbody tr th {\n",
       "        vertical-align: top;\n",
       "    }\n",
       "\n",
       "    .dataframe thead th {\n",
       "        text-align: right;\n",
       "    }\n",
       "</style>\n",
       "<table border=\"1\" class=\"dataframe\">\n",
       "  <thead>\n",
       "    <tr style=\"text-align: right;\">\n",
       "      <th></th>\n",
       "      <th>일시</th>\n",
       "      <th>평균기온(°C)</th>\n",
       "      <th>최저기온(°C)</th>\n",
       "      <th>최고기온(°C)</th>\n",
       "      <th>평균 풍속(m/s)</th>\n",
       "      <th>평균 이슬점온도(°C)</th>\n",
       "      <th>평균 상대습도(%)</th>\n",
       "    </tr>\n",
       "  </thead>\n",
       "  <tbody>\n",
       "    <tr>\n",
       "      <th>1015</th>\n",
       "      <td>2017-10-12</td>\n",
       "      <td>11.4</td>\n",
       "      <td>8.8</td>\n",
       "      <td>21.7</td>\n",
       "      <td>2.0</td>\n",
       "      <td>5.9</td>\n",
       "      <td>71.0</td>\n",
       "    </tr>\n",
       "    <tr>\n",
       "      <th>1017</th>\n",
       "      <td>2017-10-14</td>\n",
       "      <td>14.4</td>\n",
       "      <td>9.0</td>\n",
       "      <td>20.5</td>\n",
       "      <td>3.2</td>\n",
       "      <td>0.8</td>\n",
       "      <td>42.8</td>\n",
       "    </tr>\n",
       "    <tr>\n",
       "      <th>1069</th>\n",
       "      <td>2017-12-05</td>\n",
       "      <td>-4.2</td>\n",
       "      <td>-8.2</td>\n",
       "      <td>-0.4</td>\n",
       "      <td>3.4</td>\n",
       "      <td>-16.4</td>\n",
       "      <td>40.1</td>\n",
       "    </tr>\n",
       "    <tr>\n",
       "      <th>1070</th>\n",
       "      <td>2017-12-06</td>\n",
       "      <td>0.2</td>\n",
       "      <td>-4.5</td>\n",
       "      <td>6.0</td>\n",
       "      <td>3.4</td>\n",
       "      <td>-4.7</td>\n",
       "      <td>72.6</td>\n",
       "    </tr>\n",
       "  </tbody>\n",
       "</table>\n",
       "</div>"
      ],
      "text/plain": [
       "             일시  평균기온(°C)  최저기온(°C)  최고기온(°C)  평균 풍속(m/s)  평균 이슬점온도(°C)  \\\n",
       "1015 2017-10-12      11.4       8.8      21.7         2.0           5.9   \n",
       "1017 2017-10-14      14.4       9.0      20.5         3.2           0.8   \n",
       "1069 2017-12-05      -4.2      -8.2      -0.4         3.4         -16.4   \n",
       "1070 2017-12-06       0.2      -4.5       6.0         3.4          -4.7   \n",
       "\n",
       "      평균 상대습도(%)  \n",
       "1015        71.0  \n",
       "1017        42.8  \n",
       "1069        40.1  \n",
       "1070        72.6  "
      ]
     },
     "execution_count": 130,
     "metadata": {},
     "output_type": "execute_result"
    }
   ],
   "source": [
    "df3.iloc[na_ids]"
   ]
  },
  {
   "cell_type": "code",
   "execution_count": 131,
   "metadata": {},
   "outputs": [
    {
     "data": {
      "text/plain": [
       "True"
      ]
     },
     "execution_count": 131,
     "metadata": {},
     "output_type": "execute_result"
    }
   ],
   "source": [
    "a = set(df3['일시'].values); a\n",
    "b = set(pd.date_range('2015-1-1','2018-10-3').values)\n",
    "\n",
    "a == b"
   ]
  },
  {
   "cell_type": "code",
   "execution_count": 138,
   "metadata": {},
   "outputs": [
    {
     "data": {
      "text/html": [
       "<div>\n",
       "<style scoped>\n",
       "    .dataframe tbody tr th:only-of-type {\n",
       "        vertical-align: middle;\n",
       "    }\n",
       "\n",
       "    .dataframe tbody tr th {\n",
       "        vertical-align: top;\n",
       "    }\n",
       "\n",
       "    .dataframe thead th {\n",
       "        text-align: right;\n",
       "    }\n",
       "</style>\n",
       "<table border=\"1\" class=\"dataframe\">\n",
       "  <thead>\n",
       "    <tr style=\"text-align: right;\">\n",
       "      <th></th>\n",
       "      <th>일시</th>\n",
       "      <th>평균기온(°C)</th>\n",
       "      <th>최저기온(°C)</th>\n",
       "      <th>최고기온(°C)</th>\n",
       "      <th>평균 풍속(m/s)</th>\n",
       "      <th>평균 이슬점온도(°C)</th>\n",
       "      <th>평균 상대습도(%)</th>\n",
       "      <th>year</th>\n",
       "      <th>month</th>\n",
       "      <th>day</th>\n",
       "    </tr>\n",
       "  </thead>\n",
       "  <tbody>\n",
       "    <tr>\n",
       "      <th>0</th>\n",
       "      <td>2015-01-01</td>\n",
       "      <td>-7.7</td>\n",
       "      <td>-9.8</td>\n",
       "      <td>-4.3</td>\n",
       "      <td>4.6</td>\n",
       "      <td>-18.8</td>\n",
       "      <td>41.4</td>\n",
       "      <td>2015</td>\n",
       "      <td>1</td>\n",
       "      <td>1</td>\n",
       "    </tr>\n",
       "    <tr>\n",
       "      <th>1</th>\n",
       "      <td>2015-01-02</td>\n",
       "      <td>-6.0</td>\n",
       "      <td>-9.0</td>\n",
       "      <td>-1.9</td>\n",
       "      <td>3.2</td>\n",
       "      <td>-16.1</td>\n",
       "      <td>45.9</td>\n",
       "      <td>2015</td>\n",
       "      <td>1</td>\n",
       "      <td>2</td>\n",
       "    </tr>\n",
       "    <tr>\n",
       "      <th>2</th>\n",
       "      <td>2015-01-03</td>\n",
       "      <td>-2.7</td>\n",
       "      <td>-9.2</td>\n",
       "      <td>3.1</td>\n",
       "      <td>1.9</td>\n",
       "      <td>-10.5</td>\n",
       "      <td>56.1</td>\n",
       "      <td>2015</td>\n",
       "      <td>1</td>\n",
       "      <td>3</td>\n",
       "    </tr>\n",
       "    <tr>\n",
       "      <th>3</th>\n",
       "      <td>2015-01-04</td>\n",
       "      <td>2.5</td>\n",
       "      <td>0.2</td>\n",
       "      <td>8.5</td>\n",
       "      <td>2.0</td>\n",
       "      <td>-2.5</td>\n",
       "      <td>70.1</td>\n",
       "      <td>2015</td>\n",
       "      <td>1</td>\n",
       "      <td>4</td>\n",
       "    </tr>\n",
       "    <tr>\n",
       "      <th>4</th>\n",
       "      <td>2015-01-05</td>\n",
       "      <td>3.7</td>\n",
       "      <td>-1.1</td>\n",
       "      <td>7.9</td>\n",
       "      <td>2.4</td>\n",
       "      <td>-1.0</td>\n",
       "      <td>73.1</td>\n",
       "      <td>2015</td>\n",
       "      <td>1</td>\n",
       "      <td>5</td>\n",
       "    </tr>\n",
       "  </tbody>\n",
       "</table>\n",
       "</div>"
      ],
      "text/plain": [
       "          일시  평균기온(°C)  최저기온(°C)  최고기온(°C)  평균 풍속(m/s)  평균 이슬점온도(°C)  \\\n",
       "0 2015-01-01      -7.7      -9.8      -4.3         4.6         -18.8   \n",
       "1 2015-01-02      -6.0      -9.0      -1.9         3.2         -16.1   \n",
       "2 2015-01-03      -2.7      -9.2       3.1         1.9         -10.5   \n",
       "3 2015-01-04       2.5       0.2       8.5         2.0          -2.5   \n",
       "4 2015-01-05       3.7      -1.1       7.9         2.4          -1.0   \n",
       "\n",
       "   평균 상대습도(%)  year  month  day  \n",
       "0        41.4  2015      1    1  \n",
       "1        45.9  2015      1    2  \n",
       "2        56.1  2015      1    3  \n",
       "3        70.1  2015      1    4  \n",
       "4        73.1  2015      1    5  "
      ]
     },
     "execution_count": 138,
     "metadata": {},
     "output_type": "execute_result"
    }
   ],
   "source": [
    "dates = df3['일시'].apply(lambda t: pd.Series([t.year,t.month,t.day],index=['year','month','day']))\n",
    "\n",
    "data = df3.merge(dates, left_index=True, right_index=True)\n",
    "data.head()"
   ]
  },
  {
   "cell_type": "code",
   "execution_count": 139,
   "metadata": {},
   "outputs": [
    {
     "data": {
      "text/plain": [
       "array([[ -7.7,  -9.8,  -4.3,   4.6, -18.8,  41.4],\n",
       "       [ -6. ,  -9. ,  -1.9,   3.2, -16.1,  45.9],\n",
       "       [ -2.7,  -9.2,   3.1,   1.9, -10.5,  56.1],\n",
       "       [  2.5,   0.2,   8.5,   2. ,  -2.5,  70.1],\n",
       "       [  3.7,  -1.1,   7.9,   2.4,  -1. ,  73.1]])"
      ]
     },
     "metadata": {},
     "output_type": "display_data"
    },
    {
     "data": {
      "text/plain": [
       "array([1, 1, 1, 1, 1], dtype=int64)"
      ]
     },
     "metadata": {},
     "output_type": "display_data"
    }
   ],
   "source": [
    "X = data.iloc[:,1:-3].values\n",
    "y = data.iloc[:,-2].values\n",
    "\n",
    "display(X[:5],y[:5])"
   ]
  },
  {
   "cell_type": "code",
   "execution_count": 145,
   "metadata": {},
   "outputs": [
    {
     "data": {
      "text/plain": [
       "(array([1096], dtype=int64),)"
      ]
     },
     "execution_count": 145,
     "metadata": {},
     "output_type": "execute_result"
    }
   ],
   "source": [
    "np.where(data['일시']=='2018-1-1')"
   ]
  },
  {
   "cell_type": "code",
   "execution_count": 149,
   "metadata": {},
   "outputs": [
    {
     "data": {
      "text/plain": [
       "(1096, 6)"
      ]
     },
     "metadata": {},
     "output_type": "display_data"
    },
    {
     "data": {
      "text/plain": [
       "(276, 6)"
      ]
     },
     "metadata": {},
     "output_type": "display_data"
    },
    {
     "data": {
      "text/plain": [
       "(1096,)"
      ]
     },
     "metadata": {},
     "output_type": "display_data"
    },
    {
     "data": {
      "text/plain": [
       "(276,)"
      ]
     },
     "metadata": {},
     "output_type": "display_data"
    }
   ],
   "source": [
    "X_train = X[:1096]\n",
    "y_train = y[:1096]\n",
    "X_test = X[1096:]\n",
    "y_test = y[1096:]\n",
    "\n",
    "display(X_train.shape, X_test.shape, y_train.shape, y_test.shape)"
   ]
  },
  {
   "cell_type": "code",
   "execution_count": 164,
   "metadata": {},
   "outputs": [
    {
     "name": "stdout",
     "output_type": "stream",
     "text": [
      "Train score : 0.526460\n",
      "Test score  : 0.347826\n",
      "[ 1  1  1  1  1  1  1  1  1  1  1  1  1  1  1  1  1  1  1  1  1  1  1  1\n",
      "  1  1  1  1  1  1  1  2  2  2  2  2  2  2  2  2  2  2  2  2  2  2  2  2\n",
      "  2  2  2  2  2  2  2  2  2  2  2  3  3  3  3  3  3  3  3  3  3  3  3  3\n",
      "  3  3  3  3  3  3  3  3  3  3  3  3  3  3  3  3  3  3  4  4  4  4  4  4\n",
      "  4  4  4  4  4  4  4  4  4  4  4  4  4  4  4  4  4  4  4  4  4  4  4  4\n",
      "  5  5  5  5  5  5  5  5  5  5  5  5  5  5  5  5  5  5  5  5  5  5  5  5\n",
      "  5  5  5  5  5  5  5  6  6  6  6  6  6  6  6  6  6  6  6  6  6  6  6  6\n",
      "  6  6  6  6  6  6  6  6  6  6  6  6  6  7  7  7  7  7  7  7  7  7  7  7\n",
      "  7  7  7  7  7  7  7  7  7  7  7  7  7  7  7  7  7  7  7  7  8  8  8  8\n",
      "  8  8  8  8  8  8  8  8  8  8  8  8  8  8  8  8  8  8  8  8  8  8  8  8\n",
      "  8  8  8  9  9  9  9  9  9  9  9  9  9  9  9  9  9  9  9  9  9  9  9  9\n",
      "  9  9  9  9  9  9  9  9  9 10 10 10]\n",
      "[12  1  1  1  1 12 12 12  1  1  1  1 12 12 12 12 12 12 12 12 12 12  1  1\n",
      "  1  1  1  1  1 12 12  1  1  1  1  1  1  1 12 12  2  1  1  2  3  2  2  2\n",
      " 11 12  2  2 12 12  2 11 11 12 12  2 12  3 11 12 11 11 12 12 12  3  3 11\n",
      " 10 11  3 11 11 11  3 12 12  3 11 11 11 10 10 10 10 10 10 10 10 11 11  2\n",
      "  3 12 11  4  4  4  4 11 11  3  4  4  4 10  4 10 11 11  4  4 10  4  4 10\n",
      "  9 11  4  4  5 10 10 10 10 10 10 11 10 10  9  7  7 11 10  4 10 10  5  5\n",
      "  5  9  5  9  9 10  9  9  5  5  9  9  9  9  9  9  9  9  9  9  9  9  9  9\n",
      "  9  9  6  6  6  6  6  9  7  6  9  7  7  7  7  8  8  7  9  9  9  9  7  7\n",
      "  7  7  8  8  8  8  8  8  8  8  8  8  8  8  8  8  8  8  8  8  8  8  8  8\n",
      "  7  8  8  8  7  8  8  8  8  8  8  8  6  6  8  8  7  8  8  7  6  9  7  7\n",
      "  7  7  8  9  9  9  6  6  6  6  5  9  9  9  9  9  9  9  9  9  9  9 10  9\n",
      "  9 10 10 10  5 10 10 10 10  4 10 10]\n"
     ]
    }
   ],
   "source": [
    "from sklearn.model_selection import train_test_split\n",
    "from sklearn.neighbors import KNeighborsClassifier\n",
    "from sklearn.svm import SVC\n",
    "\n",
    "X_mean = X_train.mean(axis=0)\n",
    "X_std = X_train.std(axis=0)\n",
    "\n",
    "X_train_scaled = (X_train-X_mean)/X_std\n",
    "X_test_scaled = (X_test-X_mean)/X_std\n",
    "model=SVC(gamma=0.1)\n",
    "\n",
    "model.fit(X_train_scaled,y_train)\n",
    "\n",
    "pred_y=model.predict(X_test_scaled)\n",
    "print('Train score : %f' % model.score(X_train_scaled,y_train))\n",
    "print('Test score  : %f' % model.score(X_test_scaled,y_test))\n",
    "\n",
    "print(y_test)\n",
    "print(pred_y)"
   ]
  },
  {
   "cell_type": "code",
   "execution_count": 167,
   "metadata": {},
   "outputs": [
    {
     "data": {
      "text/plain": [
       "([<matplotlib.axis.YTick at 0x148da005f60>,\n",
       "  <matplotlib.axis.YTick at 0x148da0c76a0>,\n",
       "  <matplotlib.axis.YTick at 0x148da048780>,\n",
       "  <matplotlib.axis.YTick at 0x148d9fd1be0>,\n",
       "  <matplotlib.axis.YTick at 0x148d9fa3da0>,\n",
       "  <matplotlib.axis.YTick at 0x148d9fa38d0>,\n",
       "  <matplotlib.axis.YTick at 0x148d9fa3668>,\n",
       "  <matplotlib.axis.YTick at 0x148d90cdf60>,\n",
       "  <matplotlib.axis.YTick at 0x148d90cd9e8>,\n",
       "  <matplotlib.axis.YTick at 0x148d90cdd30>,\n",
       "  <matplotlib.axis.YTick at 0x148d8aa0c88>,\n",
       "  <matplotlib.axis.YTick at 0x148d8aa0940>],\n",
       " <a list of 12 Text yticklabel objects>)"
      ]
     },
     "execution_count": 167,
     "metadata": {},
     "output_type": "execute_result"
    },
    {
     "data": {
      "image/png": "[encoded data removed]",
      "text/plain": [
       "<Figure size 864x576 with 2 Axes>"
      ]
     },
     "metadata": {},
     "output_type": "display_data"
    }
   ],
   "source": [
    "import matplotlib.pyplot as plt\n",
    "plt.style.use('ggplot')\n",
    "\n",
    "plt.figure(figsize=[12,8])\n",
    "\n",
    "##################\n",
    "\n",
    "plt.subplot(1,2,1)\n",
    "\n",
    "plt.plot(range(14),range(14))\n",
    "plt.plot(range(14),range(14,0,-1))\n",
    "\n",
    "pred_y_train=model.predict(X_train_scaled)\n",
    "plt.scatter(y_train+np.random.normal(0,0.1,len(y_train)), pred_y_train+np.random.normal(0,0.1,len(y_train))\n",
    "           ,s=20,alpha=0.2)\n",
    "\n",
    "plt.xticks(range(1,13))\n",
    "plt.yticks(range(1,13))\n",
    "#plt.grid()\n",
    "\n",
    "##################\n",
    "\n",
    "plt.subplot(1,2,2)\n",
    "\n",
    "plt.plot(range(14),range(14))\n",
    "plt.plot(range(14),range(14,0,-1))\n",
    "\n",
    "pred_y_test=model.predict(X_test_scaled)\n",
    "plt.scatter(y_test+np.random.normal(0,0.1,len(y_test)), pred_y_test+np.random.normal(0,0.1,len(y_test))\n",
    "           ,s=20,alpha=0.4)\n",
    "\n",
    "plt.xticks(range(1,13))\n",
    "plt.yticks(range(1,13))\n",
    "#plt.grid()"
   ]
  }
 ],
 "metadata": {
  "kernelspec": {
   "display_name": "Python 3",
   "language": "python",
   "name": "python3"
  },
  "language_info": {
   "codemirror_mode": {
    "name": "ipython",
    "version": 3
   },
   "file_extension": ".py",
   "mimetype": "text/x-python",
   "name": "python",
   "nbconvert_exporter": "python",
   "pygments_lexer": "ipython3",
   "version": "3.6.5"
  }
 },
 "nbformat": 4,
 "nbformat_minor": 1
}

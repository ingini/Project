{
 "cells": [
  {
   "cell_type": "code",
   "execution_count": 1,
   "metadata": {},
   "outputs": [],
   "source": [
    "import pandas as pd\n",
    "import numpy as np\n",
    "import matplotlib.pyplot as plt\n",
    "%matplotlib inline\n",
    "import seaborn as sns"
   ]
  },
  {
   "cell_type": "code",
   "execution_count": 3,
   "metadata": {
    "scrolled": false
   },
   "outputs": [
    {
     "name": "stdout",
     "output_type": "stream",
     "text": [
      "   day  acc_id  char_id server  playtime  npc_kill  solo_exp  party_exp  \\\n",
      "0    1   75001   397380     aa  1.441844  0.000000  0.000000   0.000000   \n",
      "1    1   75001   216231     aa  0.283219  2.247978  0.047085   0.000000   \n",
      "2    1   75711   308769     aa  1.036910  2.956638  0.321821   0.166593   \n",
      "3    1   72230   387177     aa  0.229384  4.042102  0.099147   0.000000   \n",
      "4    1   34253   339862     aa  1.088405  0.596802  0.003377   0.000000   \n",
      "\n",
      "   quest_exp  rich_monster     death    revive  exp_recovery  fishing  \\\n",
      "0   0.000000             0  0.000000  0.000000           0.0      0.0   \n",
      "1   0.000000             0  0.000000  0.000000           0.0      0.0   \n",
      "2   0.003470             1  0.245883  0.247337           0.0      0.0   \n",
      "3   0.001735             0  0.000000  0.000000           0.0      0.0   \n",
      "4   0.000000             0  0.000000  0.000000           0.0      0.0   \n",
      "\n",
      "   private_shop  game_money_change  enchant_count  \n",
      "0       1.10514           0.034006            0.0  \n",
      "1       0.00000          -0.013963            0.0  \n",
      "2       0.00000          -0.001987            0.0  \n",
      "3       0.00000          -0.028884            0.0  \n",
      "4       0.00000           0.011777            0.0  \n",
      "<class 'pandas.core.frame.DataFrame'>\n",
      "RangeIndex: 1601834 entries, 0 to 1601833\n",
      "Data columns (total 17 columns):\n",
      "day                  1601834 non-null int64\n",
      "acc_id               1601834 non-null int64\n",
      "char_id              1601834 non-null int64\n",
      "server               1601834 non-null object\n",
      "playtime             1601834 non-null float64\n",
      "npc_kill             1601834 non-null float64\n",
      "solo_exp             1601834 non-null float64\n",
      "party_exp            1601834 non-null float64\n",
      "quest_exp            1601834 non-null float64\n",
      "rich_monster         1601834 non-null int64\n",
      "death                1601834 non-null float64\n",
      "revive               1601834 non-null float64\n",
      "exp_recovery         1601834 non-null float64\n",
      "fishing              1601834 non-null float64\n",
      "private_shop         1601834 non-null float64\n",
      "game_money_change    1601834 non-null float64\n",
      "enchant_count        1601834 non-null float64\n",
      "dtypes: float64(12), int64(4), object(1)\n",
      "memory usage: 207.8+ MB\n",
      "None\n",
      "day                  0\n",
      "acc_id               0\n",
      "char_id              0\n",
      "server               0\n",
      "playtime             0\n",
      "npc_kill             0\n",
      "solo_exp             0\n",
      "party_exp            0\n",
      "quest_exp            0\n",
      "rich_monster         0\n",
      "death                0\n",
      "revive               0\n",
      "exp_recovery         0\n",
      "fishing              0\n",
      "private_shop         0\n",
      "game_money_change    0\n",
      "enchant_count        0\n",
      "dtype: int64\n"
     ]
    }
   ],
   "source": [
    "act = pd.read_csv('train_activity.csv')\n",
    "print(act.head())\n",
    "print(act.info())\n",
    "print(act.isnull().sum())"
   ]
  },
  {
   "cell_type": "code",
   "execution_count": 2,
   "metadata": {},
   "outputs": [
    {
     "ename": "NameError",
     "evalue": "name 'act' is not defined",
     "output_type": "error",
     "traceback": [
      "\u001b[1;31m---------------------------------------------------------------------------\u001b[0m",
      "\u001b[1;31mNameError\u001b[0m                                 Traceback (most recent call last)",
      "\u001b[1;32m<ipython-input-2-48d74c5d9c91>\u001b[0m in \u001b[0;36m<module>\u001b[1;34m\u001b[0m\n\u001b[1;32m----> 1\u001b[1;33m \u001b[0msns\u001b[0m\u001b[1;33m.\u001b[0m\u001b[0mcatplot\u001b[0m\u001b[1;33m(\u001b[0m\u001b[0mx\u001b[0m\u001b[1;33m=\u001b[0m\u001b[1;34m'survival_time'\u001b[0m\u001b[1;33m,\u001b[0m\u001b[0my\u001b[0m\u001b[1;33m=\u001b[0m\u001b[1;34m'playtime'\u001b[0m\u001b[1;33m,\u001b[0m\u001b[0mdata\u001b[0m\u001b[1;33m=\u001b[0m\u001b[0mact\u001b[0m\u001b[1;33m,\u001b[0m\u001b[0mkind\u001b[0m\u001b[1;33m=\u001b[0m\u001b[1;34m'bar'\u001b[0m\u001b[1;33m)\u001b[0m\u001b[1;33m\u001b[0m\u001b[1;33m\u001b[0m\u001b[0m\n\u001b[0m",
      "\u001b[1;31mNameError\u001b[0m: name 'act' is not defined"
     ]
    }
   ],
   "source": [
    "sns.catplot(x='survival_time',y='playtime',data=act,kind='bar')"
   ]
  },
  {
   "cell_type": "code",
   "execution_count": 5,
   "metadata": {},
   "outputs": [
    {
     "name": "stdout",
     "output_type": "stream",
     "text": [
      "   day  acc_id  char_id server  class  level  pledge_cnt  random_attacker_cnt  \\\n",
      "0    1   13809    54861     ap      2     13         0.0                  0.0   \n",
      "1    1   13809   256332     ap      2     13         0.0                  0.0   \n",
      "2    1   13809   307293     ap      3     14         0.0                  0.0   \n",
      "3    1   13809   374964     ap      7     16         0.0                  0.0   \n",
      "4    1   13809   117917     ap      2     11         0.0                  0.0   \n",
      "\n",
      "   random_defender_cnt  temp_cnt  same_pledge_cnt   etc_cnt  num_opponent  \n",
      "0                  0.0       0.0              0.0  0.000000      0.000000  \n",
      "1                  0.0       0.0              0.0  0.000000      0.000000  \n",
      "2                  0.0       0.0              0.0  0.000000      0.000000  \n",
      "3                  0.0       0.0              0.0  0.112612      0.098129  \n",
      "4                  0.0       0.0              0.0  0.000000      0.000000  \n",
      "<class 'pandas.core.frame.DataFrame'>\n",
      "RangeIndex: 1574671 entries, 0 to 1574670\n",
      "Data columns (total 13 columns):\n",
      "day                    1574671 non-null int64\n",
      "acc_id                 1574671 non-null int64\n",
      "char_id                1574671 non-null int64\n",
      "server                 1574671 non-null object\n",
      "class                  1574671 non-null int64\n",
      "level                  1574671 non-null int64\n",
      "pledge_cnt             1574671 non-null float64\n",
      "random_attacker_cnt    1574671 non-null float64\n",
      "random_defender_cnt    1574671 non-null float64\n",
      "temp_cnt               1574671 non-null float64\n",
      "same_pledge_cnt        1574671 non-null float64\n",
      "etc_cnt                1574671 non-null float64\n",
      "num_opponent           1574671 non-null float64\n",
      "dtypes: float64(7), int64(5), object(1)\n",
      "memory usage: 156.2+ MB\n",
      "None\n",
      "day                    0\n",
      "acc_id                 0\n",
      "char_id                0\n",
      "server                 0\n",
      "class                  0\n",
      "level                  0\n",
      "pledge_cnt             0\n",
      "random_attacker_cnt    0\n",
      "random_defender_cnt    0\n",
      "temp_cnt               0\n",
      "same_pledge_cnt        0\n",
      "etc_cnt                0\n",
      "num_opponent           0\n",
      "dtype: int64\n"
     ]
    }
   ],
   "source": [
    "combat = pd.read_csv('train_combat.csv')\n",
    "print(combat.head())\n",
    "print(combat.info())\n",
    "print(combat.isnull().sum())"
   ]
  },
  {
   "cell_type": "code",
   "execution_count": 6,
   "metadata": {},
   "outputs": [
    {
     "name": "stdout",
     "output_type": "stream",
     "text": [
      "<class 'pandas.core.frame.DataFrame'>\n",
      "RangeIndex: 40000 entries, 0 to 39999\n",
      "Data columns (total 3 columns):\n",
      "acc_id           40000 non-null int64\n",
      "survival_time    40000 non-null int64\n",
      "amount_spent     40000 non-null float64\n",
      "dtypes: float64(1), int64(2)\n",
      "memory usage: 937.6 KB\n",
      "None\n",
      "              acc_id  survival_time  amount_spent\n",
      "count   40000.000000   40000.000000  40000.000000\n",
      "mean    65281.105550      45.706700      0.124931\n",
      "std     37525.623536      23.265907      0.722272\n",
      "min         2.000000       1.000000      0.000000\n",
      "25%     32792.750000      24.000000      0.000000\n",
      "50%     65359.000000      64.000000      0.020343\n",
      "75%     97685.750000      64.000000      0.106119\n",
      "max    130473.000000      64.000000     39.412632\n",
      "   acc_id  survival_time  amount_spent\n",
      "0   27835             64      0.002559\n",
      "1   12351             64      0.120154\n",
      "2  125437             55      0.182593\n",
      "3  104483             64      0.016241\n",
      "4    4704             20      0.226396\n",
      "(40000, 3)\n"
     ]
    }
   ],
   "source": [
    "label = pd.read_csv('train_label.csv')\n",
    "print(label.info())\n",
    "print(label.describe())\n",
    "print(label.head())\n",
    "print(label.shape)"
   ]
  },
  {
   "cell_type": "code",
   "execution_count": 7,
   "metadata": {},
   "outputs": [
    {
     "name": "stdout",
     "output_type": "stream",
     "text": [
      "                day         acc_id  amount_spent\n",
      "count  66432.000000   66432.000000  66432.000000\n",
      "mean      14.713572   65352.577387      0.668198\n",
      "std        8.478141   37413.396510      0.909331\n",
      "min        1.000000       8.000000      0.011735\n",
      "25%        7.000000   32646.000000      0.105612\n",
      "50%       16.000000   65709.000000      0.352041\n",
      "75%       22.000000   97500.250000      0.946990\n",
      "max       28.000000  130473.000000     11.733528\n",
      "<class 'pandas.core.frame.DataFrame'>\n",
      "RangeIndex: 66432 entries, 0 to 66431\n",
      "Data columns (total 3 columns):\n",
      "day             66432 non-null int64\n",
      "acc_id          66432 non-null int64\n",
      "amount_spent    66432 non-null float64\n",
      "dtypes: float64(1), int64(2)\n",
      "memory usage: 1.5 MB\n",
      "None\n",
      "(66432, 3)\n"
     ]
    }
   ],
   "source": [
    "pay = pd.read_csv('train_payment.csv')\n",
    "print(pay.describe())\n",
    "print(pay.info())\n",
    "print(pay.shape)"
   ]
  },
  {
   "cell_type": "code",
   "execution_count": 8,
   "metadata": {},
   "outputs": [
    {
     "name": "stdout",
     "output_type": "stream",
     "text": [
      "   day  acc_id  char_id server  pledge_id  play_char_cnt  combat_char_cnt  \\\n",
      "0    1  106660   345122     aa        381       0.036089         0.036089   \n",
      "1    1   46383   161773     aa      10892       0.036089         0.000000   \n",
      "2    1   18495   321373     aa      13705       0.036089         0.000000   \n",
      "3    1  118293   366707     aa       2982       0.036089         0.000000   \n",
      "4    1   50421   158063     aa      27104       0.216536         0.072179   \n",
      "\n",
      "   pledge_combat_cnt  random_attacker_cnt  random_defender_cnt  \\\n",
      "0                0.0                  0.0                  0.0   \n",
      "1                0.0                  0.0                  0.0   \n",
      "2                0.0                  0.0                  0.0   \n",
      "3                0.0                  0.0                  0.0   \n",
      "4                0.0                  0.0                  0.0   \n",
      "\n",
      "   same_pledge_cnt  temp_cnt   etc_cnt  combat_play_time  non_combat_play_time  \n",
      "0              0.0  0.000000  0.007078          0.027568              0.000000  \n",
      "1              0.0  0.000000  0.000000          0.000000              0.006139  \n",
      "2              0.0  0.000000  0.000000          0.000000              0.000347  \n",
      "3              0.0  0.000000  0.000000          0.000000              0.001042  \n",
      "4              0.0  0.098883  0.056626          0.083978              0.000000  \n",
      "<class 'pandas.core.frame.DataFrame'>\n",
      "RangeIndex: 1083384 entries, 0 to 1083383\n",
      "Data columns (total 15 columns):\n",
      "day                     1083384 non-null int64\n",
      "acc_id                  1083384 non-null int64\n",
      "char_id                 1083384 non-null int64\n",
      "server                  1083384 non-null object\n",
      "pledge_id               1083384 non-null int64\n",
      "play_char_cnt           1083384 non-null float64\n",
      "combat_char_cnt         1083384 non-null float64\n",
      "pledge_combat_cnt       1083384 non-null float64\n",
      "random_attacker_cnt     1083384 non-null float64\n",
      "random_defender_cnt     1083384 non-null float64\n",
      "same_pledge_cnt         1083384 non-null float64\n",
      "temp_cnt                1083384 non-null float64\n",
      "etc_cnt                 1083384 non-null float64\n",
      "combat_play_time        1083384 non-null float64\n",
      "non_combat_play_time    1083384 non-null float64\n",
      "dtypes: float64(10), int64(4), object(1)\n",
      "memory usage: 124.0+ MB\n",
      "None\n",
      "(1083384, 15)\n"
     ]
    }
   ],
   "source": [
    "pledge = pd.read_csv('train_pledge.csv')\n",
    "print(pledge.head())\n",
    "print(pledge.info())\n",
    "print(pledge.shape)"
   ]
  },
  {
   "cell_type": "code",
   "execution_count": 9,
   "metadata": {},
   "outputs": [
    {
     "name": "stdout",
     "output_type": "stream",
     "text": [
      "   day      time  type server  source_acc_id  source_char_id  target_acc_id  \\\n",
      "0    7  21:13:05     1     ag          11439          385109          48152   \n",
      "1    2  15:33:00     1     al          22220          259705          43228   \n",
      "2    1  14:24:53     1     al          18212          164230          38145   \n",
      "3    7  23:13:43     1     au         121622           49839          71226   \n",
      "4    2  12:43:33     0     bd          14421          344503          65220   \n",
      "\n",
      "   target_char_id       item_type   item_amount  item_price  \n",
      "0           34247  enchant_scroll  4.793968e-08         NaN  \n",
      "1          379826  enchant_scroll  4.314571e-06         NaN  \n",
      "2           34209       accessory  7.190952e-08         NaN  \n",
      "3          281334           adena  9.587936e-03         NaN  \n",
      "4          210558             etc  1.198492e-07    0.000639  \n",
      "<class 'pandas.core.frame.DataFrame'>\n",
      "RangeIndex: 1849325 entries, 0 to 1849324\n",
      "Data columns (total 11 columns):\n",
      "day               int64\n",
      "time              object\n",
      "type              int64\n",
      "server            object\n",
      "source_acc_id     int64\n",
      "source_char_id    int64\n",
      "target_acc_id     int64\n",
      "target_char_id    int64\n",
      "item_type         object\n",
      "item_amount       float64\n",
      "item_price        float64\n",
      "dtypes: float64(2), int64(6), object(3)\n",
      "memory usage: 155.2+ MB\n",
      "None\n",
      "(1849325, 11)\n"
     ]
    }
   ],
   "source": [
    "trade = pd.read_csv('train_trade.csv')\n",
    "print(trade.head())\n",
    "print(trade.info())\n",
    "print(trade.shape)"
   ]
  },
  {
   "cell_type": "code",
   "execution_count": 10,
   "metadata": {
    "scrolled": true
   },
   "outputs": [
    {
     "data": {
      "text/html": [
       "<div>\n",
       "<style scoped>\n",
       "    .dataframe tbody tr th:only-of-type {\n",
       "        vertical-align: middle;\n",
       "    }\n",
       "\n",
       "    .dataframe tbody tr th {\n",
       "        vertical-align: top;\n",
       "    }\n",
       "\n",
       "    .dataframe thead th {\n",
       "        text-align: right;\n",
       "    }\n",
       "</style>\n",
       "<table border=\"1\" class=\"dataframe\">\n",
       "  <thead>\n",
       "    <tr style=\"text-align: right;\">\n",
       "      <th></th>\n",
       "      <th>day</th>\n",
       "      <th>acc_id</th>\n",
       "      <th>char_id</th>\n",
       "      <th>server</th>\n",
       "      <th>playtime</th>\n",
       "      <th>npc_kill</th>\n",
       "      <th>solo_exp</th>\n",
       "      <th>party_exp</th>\n",
       "      <th>quest_exp</th>\n",
       "      <th>rich_monster</th>\n",
       "      <th>death</th>\n",
       "      <th>revive</th>\n",
       "      <th>exp_recovery</th>\n",
       "      <th>fishing</th>\n",
       "      <th>private_shop</th>\n",
       "      <th>game_money_change</th>\n",
       "      <th>enchant_count</th>\n",
       "    </tr>\n",
       "  </thead>\n",
       "  <tbody>\n",
       "    <tr>\n",
       "      <th>0</th>\n",
       "      <td>1</td>\n",
       "      <td>75001</td>\n",
       "      <td>397380</td>\n",
       "      <td>aa</td>\n",
       "      <td>1.441844</td>\n",
       "      <td>0.000000</td>\n",
       "      <td>0.000000</td>\n",
       "      <td>0.000000</td>\n",
       "      <td>0.000000</td>\n",
       "      <td>0</td>\n",
       "      <td>0.000000</td>\n",
       "      <td>0.000000</td>\n",
       "      <td>0.0</td>\n",
       "      <td>0.0</td>\n",
       "      <td>1.10514</td>\n",
       "      <td>0.034006</td>\n",
       "      <td>0.0</td>\n",
       "    </tr>\n",
       "    <tr>\n",
       "      <th>1</th>\n",
       "      <td>1</td>\n",
       "      <td>75001</td>\n",
       "      <td>216231</td>\n",
       "      <td>aa</td>\n",
       "      <td>0.283219</td>\n",
       "      <td>2.247978</td>\n",
       "      <td>0.047085</td>\n",
       "      <td>0.000000</td>\n",
       "      <td>0.000000</td>\n",
       "      <td>0</td>\n",
       "      <td>0.000000</td>\n",
       "      <td>0.000000</td>\n",
       "      <td>0.0</td>\n",
       "      <td>0.0</td>\n",
       "      <td>0.00000</td>\n",
       "      <td>-0.013963</td>\n",
       "      <td>0.0</td>\n",
       "    </tr>\n",
       "    <tr>\n",
       "      <th>2</th>\n",
       "      <td>1</td>\n",
       "      <td>75711</td>\n",
       "      <td>308769</td>\n",
       "      <td>aa</td>\n",
       "      <td>1.036910</td>\n",
       "      <td>2.956638</td>\n",
       "      <td>0.321821</td>\n",
       "      <td>0.166593</td>\n",
       "      <td>0.003470</td>\n",
       "      <td>1</td>\n",
       "      <td>0.245883</td>\n",
       "      <td>0.247337</td>\n",
       "      <td>0.0</td>\n",
       "      <td>0.0</td>\n",
       "      <td>0.00000</td>\n",
       "      <td>-0.001987</td>\n",
       "      <td>0.0</td>\n",
       "    </tr>\n",
       "    <tr>\n",
       "      <th>3</th>\n",
       "      <td>1</td>\n",
       "      <td>72230</td>\n",
       "      <td>387177</td>\n",
       "      <td>aa</td>\n",
       "      <td>0.229384</td>\n",
       "      <td>4.042102</td>\n",
       "      <td>0.099147</td>\n",
       "      <td>0.000000</td>\n",
       "      <td>0.001735</td>\n",
       "      <td>0</td>\n",
       "      <td>0.000000</td>\n",
       "      <td>0.000000</td>\n",
       "      <td>0.0</td>\n",
       "      <td>0.0</td>\n",
       "      <td>0.00000</td>\n",
       "      <td>-0.028884</td>\n",
       "      <td>0.0</td>\n",
       "    </tr>\n",
       "    <tr>\n",
       "      <th>4</th>\n",
       "      <td>1</td>\n",
       "      <td>34253</td>\n",
       "      <td>339862</td>\n",
       "      <td>aa</td>\n",
       "      <td>1.088405</td>\n",
       "      <td>0.596802</td>\n",
       "      <td>0.003377</td>\n",
       "      <td>0.000000</td>\n",
       "      <td>0.000000</td>\n",
       "      <td>0</td>\n",
       "      <td>0.000000</td>\n",
       "      <td>0.000000</td>\n",
       "      <td>0.0</td>\n",
       "      <td>0.0</td>\n",
       "      <td>0.00000</td>\n",
       "      <td>0.011777</td>\n",
       "      <td>0.0</td>\n",
       "    </tr>\n",
       "  </tbody>\n",
       "</table>\n",
       "</div>"
      ],
      "text/plain": [
       "   day  acc_id  char_id server  playtime  npc_kill  solo_exp  party_exp  \\\n",
       "0    1   75001   397380     aa  1.441844  0.000000  0.000000   0.000000   \n",
       "1    1   75001   216231     aa  0.283219  2.247978  0.047085   0.000000   \n",
       "2    1   75711   308769     aa  1.036910  2.956638  0.321821   0.166593   \n",
       "3    1   72230   387177     aa  0.229384  4.042102  0.099147   0.000000   \n",
       "4    1   34253   339862     aa  1.088405  0.596802  0.003377   0.000000   \n",
       "\n",
       "   quest_exp  rich_monster     death    revive  exp_recovery  fishing  \\\n",
       "0   0.000000             0  0.000000  0.000000           0.0      0.0   \n",
       "1   0.000000             0  0.000000  0.000000           0.0      0.0   \n",
       "2   0.003470             1  0.245883  0.247337           0.0      0.0   \n",
       "3   0.001735             0  0.000000  0.000000           0.0      0.0   \n",
       "4   0.000000             0  0.000000  0.000000           0.0      0.0   \n",
       "\n",
       "   private_shop  game_money_change  enchant_count  \n",
       "0       1.10514           0.034006            0.0  \n",
       "1       0.00000          -0.013963            0.0  \n",
       "2       0.00000          -0.001987            0.0  \n",
       "3       0.00000          -0.028884            0.0  \n",
       "4       0.00000           0.011777            0.0  "
      ]
     },
     "execution_count": 10,
     "metadata": {},
     "output_type": "execute_result"
    }
   ],
   "source": [
    "act.head()"
   ]
  },
  {
   "cell_type": "code",
   "execution_count": 11,
   "metadata": {},
   "outputs": [
    {
     "data": {
      "text/html": [
       "<div>\n",
       "<style scoped>\n",
       "    .dataframe tbody tr th:only-of-type {\n",
       "        vertical-align: middle;\n",
       "    }\n",
       "\n",
       "    .dataframe tbody tr th {\n",
       "        vertical-align: top;\n",
       "    }\n",
       "\n",
       "    .dataframe thead th {\n",
       "        text-align: right;\n",
       "    }\n",
       "</style>\n",
       "<table border=\"1\" class=\"dataframe\">\n",
       "  <thead>\n",
       "    <tr style=\"text-align: right;\">\n",
       "      <th></th>\n",
       "      <th>day</th>\n",
       "      <th>acc_id</th>\n",
       "      <th>char_id</th>\n",
       "      <th>server</th>\n",
       "      <th>playtime</th>\n",
       "      <th>npc_kill</th>\n",
       "      <th>solo_exp</th>\n",
       "      <th>party_exp</th>\n",
       "      <th>quest_exp</th>\n",
       "      <th>rich_monster</th>\n",
       "      <th>death</th>\n",
       "      <th>revive</th>\n",
       "      <th>exp_recovery</th>\n",
       "      <th>fishing</th>\n",
       "      <th>private_shop</th>\n",
       "      <th>game_money_change</th>\n",
       "      <th>enchant_count</th>\n",
       "    </tr>\n",
       "  </thead>\n",
       "  <tbody>\n",
       "    <tr>\n",
       "      <th>1601829</th>\n",
       "      <td>28</td>\n",
       "      <td>49021</td>\n",
       "      <td>109142</td>\n",
       "      <td>bs</td>\n",
       "      <td>1.149262</td>\n",
       "      <td>0.0</td>\n",
       "      <td>0.0</td>\n",
       "      <td>0.0</td>\n",
       "      <td>0.0</td>\n",
       "      <td>0</td>\n",
       "      <td>0.245883</td>\n",
       "      <td>0.247337</td>\n",
       "      <td>0.0</td>\n",
       "      <td>0.0</td>\n",
       "      <td>0.0</td>\n",
       "      <td>0.000247</td>\n",
       "      <td>0.0</td>\n",
       "    </tr>\n",
       "    <tr>\n",
       "      <th>1601830</th>\n",
       "      <td>28</td>\n",
       "      <td>54844</td>\n",
       "      <td>117439</td>\n",
       "      <td>bs</td>\n",
       "      <td>1.132877</td>\n",
       "      <td>0.0</td>\n",
       "      <td>0.0</td>\n",
       "      <td>0.0</td>\n",
       "      <td>0.0</td>\n",
       "      <td>0</td>\n",
       "      <td>0.245883</td>\n",
       "      <td>0.247337</td>\n",
       "      <td>0.0</td>\n",
       "      <td>0.0</td>\n",
       "      <td>0.0</td>\n",
       "      <td>-0.000308</td>\n",
       "      <td>0.0</td>\n",
       "    </tr>\n",
       "    <tr>\n",
       "      <th>1601831</th>\n",
       "      <td>28</td>\n",
       "      <td>60388</td>\n",
       "      <td>78905</td>\n",
       "      <td>bs</td>\n",
       "      <td>1.137558</td>\n",
       "      <td>0.0</td>\n",
       "      <td>0.0</td>\n",
       "      <td>0.0</td>\n",
       "      <td>0.0</td>\n",
       "      <td>0</td>\n",
       "      <td>0.245883</td>\n",
       "      <td>0.247337</td>\n",
       "      <td>0.0</td>\n",
       "      <td>0.0</td>\n",
       "      <td>0.0</td>\n",
       "      <td>-0.003670</td>\n",
       "      <td>0.0</td>\n",
       "    </tr>\n",
       "    <tr>\n",
       "      <th>1601832</th>\n",
       "      <td>28</td>\n",
       "      <td>72319</td>\n",
       "      <td>196592</td>\n",
       "      <td>bs</td>\n",
       "      <td>1.142240</td>\n",
       "      <td>0.0</td>\n",
       "      <td>0.0</td>\n",
       "      <td>0.0</td>\n",
       "      <td>0.0</td>\n",
       "      <td>0</td>\n",
       "      <td>0.491767</td>\n",
       "      <td>0.494674</td>\n",
       "      <td>0.0</td>\n",
       "      <td>0.0</td>\n",
       "      <td>0.0</td>\n",
       "      <td>-0.002003</td>\n",
       "      <td>0.0</td>\n",
       "    </tr>\n",
       "    <tr>\n",
       "      <th>1601833</th>\n",
       "      <td>28</td>\n",
       "      <td>73739</td>\n",
       "      <td>383802</td>\n",
       "      <td>bs</td>\n",
       "      <td>1.125855</td>\n",
       "      <td>0.0</td>\n",
       "      <td>0.0</td>\n",
       "      <td>0.0</td>\n",
       "      <td>0.0</td>\n",
       "      <td>0</td>\n",
       "      <td>0.491767</td>\n",
       "      <td>0.494674</td>\n",
       "      <td>0.0</td>\n",
       "      <td>0.0</td>\n",
       "      <td>0.0</td>\n",
       "      <td>0.001131</td>\n",
       "      <td>0.0</td>\n",
       "    </tr>\n",
       "  </tbody>\n",
       "</table>\n",
       "</div>"
      ],
      "text/plain": [
       "         day  acc_id  char_id server  playtime  npc_kill  solo_exp  party_exp  \\\n",
       "1601829   28   49021   109142     bs  1.149262       0.0       0.0        0.0   \n",
       "1601830   28   54844   117439     bs  1.132877       0.0       0.0        0.0   \n",
       "1601831   28   60388    78905     bs  1.137558       0.0       0.0        0.0   \n",
       "1601832   28   72319   196592     bs  1.142240       0.0       0.0        0.0   \n",
       "1601833   28   73739   383802     bs  1.125855       0.0       0.0        0.0   \n",
       "\n",
       "         quest_exp  rich_monster     death    revive  exp_recovery  fishing  \\\n",
       "1601829        0.0             0  0.245883  0.247337           0.0      0.0   \n",
       "1601830        0.0             0  0.245883  0.247337           0.0      0.0   \n",
       "1601831        0.0             0  0.245883  0.247337           0.0      0.0   \n",
       "1601832        0.0             0  0.491767  0.494674           0.0      0.0   \n",
       "1601833        0.0             0  0.491767  0.494674           0.0      0.0   \n",
       "\n",
       "         private_shop  game_money_change  enchant_count  \n",
       "1601829           0.0           0.000247            0.0  \n",
       "1601830           0.0          -0.000308            0.0  \n",
       "1601831           0.0          -0.003670            0.0  \n",
       "1601832           0.0          -0.002003            0.0  \n",
       "1601833           0.0           0.001131            0.0  "
      ]
     },
     "execution_count": 11,
     "metadata": {},
     "output_type": "execute_result"
    }
   ],
   "source": [
    "act.tail()"
   ]
  },
  {
   "cell_type": "code",
   "execution_count": 12,
   "metadata": {},
   "outputs": [],
   "source": [
    "act1= pd.merge(act,label)"
   ]
  },
  {
   "cell_type": "code",
   "execution_count": 14,
   "metadata": {},
   "outputs": [
    {
     "data": {
      "text/html": [
       "<div>\n",
       "<style scoped>\n",
       "    .dataframe tbody tr th:only-of-type {\n",
       "        vertical-align: middle;\n",
       "    }\n",
       "\n",
       "    .dataframe tbody tr th {\n",
       "        vertical-align: top;\n",
       "    }\n",
       "\n",
       "    .dataframe thead th {\n",
       "        text-align: right;\n",
       "    }\n",
       "</style>\n",
       "<table border=\"1\" class=\"dataframe\">\n",
       "  <thead>\n",
       "    <tr style=\"text-align: right;\">\n",
       "      <th></th>\n",
       "      <th>solo_exp</th>\n",
       "      <th>party_exp</th>\n",
       "      <th>quest_exp</th>\n",
       "    </tr>\n",
       "  </thead>\n",
       "  <tbody>\n",
       "    <tr>\n",
       "      <th>0</th>\n",
       "      <td>0.000000</td>\n",
       "      <td>0.000000</td>\n",
       "      <td>0.000000</td>\n",
       "    </tr>\n",
       "    <tr>\n",
       "      <th>1</th>\n",
       "      <td>0.047085</td>\n",
       "      <td>0.000000</td>\n",
       "      <td>0.000000</td>\n",
       "    </tr>\n",
       "    <tr>\n",
       "      <th>2</th>\n",
       "      <td>0.321821</td>\n",
       "      <td>0.166593</td>\n",
       "      <td>0.003470</td>\n",
       "    </tr>\n",
       "    <tr>\n",
       "      <th>3</th>\n",
       "      <td>0.099147</td>\n",
       "      <td>0.000000</td>\n",
       "      <td>0.001735</td>\n",
       "    </tr>\n",
       "    <tr>\n",
       "      <th>4</th>\n",
       "      <td>0.003377</td>\n",
       "      <td>0.000000</td>\n",
       "      <td>0.000000</td>\n",
       "    </tr>\n",
       "  </tbody>\n",
       "</table>\n",
       "</div>"
      ],
      "text/plain": [
       "   solo_exp  party_exp  quest_exp\n",
       "0  0.000000   0.000000   0.000000\n",
       "1  0.047085   0.000000   0.000000\n",
       "2  0.321821   0.166593   0.003470\n",
       "3  0.099147   0.000000   0.001735\n",
       "4  0.003377   0.000000   0.000000"
      ]
     },
     "execution_count": 14,
     "metadata": {},
     "output_type": "execute_result"
    }
   ],
   "source": [
    "data = pd.concat([act['solo_exp'],act['party_exp'],act['quest_exp']],axis=1)\n",
    "data.head()"
   ]
  },
  {
   "cell_type": "code",
   "execution_count": 20,
   "metadata": {},
   "outputs": [
    {
     "data": {
      "text/html": [
       "<div>\n",
       "<style scoped>\n",
       "    .dataframe tbody tr th:only-of-type {\n",
       "        vertical-align: middle;\n",
       "    }\n",
       "\n",
       "    .dataframe tbody tr th {\n",
       "        vertical-align: top;\n",
       "    }\n",
       "\n",
       "    .dataframe thead th {\n",
       "        text-align: right;\n",
       "    }\n",
       "</style>\n",
       "<table border=\"1\" class=\"dataframe\">\n",
       "  <thead>\n",
       "    <tr style=\"text-align: right;\">\n",
       "      <th></th>\n",
       "      <th>day</th>\n",
       "      <th>acc_id</th>\n",
       "      <th>char_id</th>\n",
       "      <th>server</th>\n",
       "      <th>playtime</th>\n",
       "      <th>npc_kill</th>\n",
       "      <th>solo_exp</th>\n",
       "      <th>party_exp</th>\n",
       "      <th>quest_exp</th>\n",
       "      <th>rich_monster</th>\n",
       "      <th>death</th>\n",
       "      <th>revive</th>\n",
       "      <th>exp_recovery</th>\n",
       "      <th>fishing</th>\n",
       "      <th>private_shop</th>\n",
       "      <th>game_money_change</th>\n",
       "      <th>enchant_count</th>\n",
       "      <th>survival_time</th>\n",
       "      <th>amount_spent</th>\n",
       "      <th>sum_exp</th>\n",
       "    </tr>\n",
       "  </thead>\n",
       "  <tbody>\n",
       "    <tr>\n",
       "      <th>0</th>\n",
       "      <td>1</td>\n",
       "      <td>75001</td>\n",
       "      <td>397380</td>\n",
       "      <td>aa</td>\n",
       "      <td>1.441844</td>\n",
       "      <td>0.000000</td>\n",
       "      <td>0.000000</td>\n",
       "      <td>0.0</td>\n",
       "      <td>0.000000</td>\n",
       "      <td>0</td>\n",
       "      <td>0.0</td>\n",
       "      <td>0.0</td>\n",
       "      <td>0.0</td>\n",
       "      <td>0.0</td>\n",
       "      <td>1.105140</td>\n",
       "      <td>0.034006</td>\n",
       "      <td>0.0</td>\n",
       "      <td>64</td>\n",
       "      <td>0.215798</td>\n",
       "      <td>0.000000</td>\n",
       "    </tr>\n",
       "    <tr>\n",
       "      <th>1</th>\n",
       "      <td>1</td>\n",
       "      <td>75001</td>\n",
       "      <td>216231</td>\n",
       "      <td>aa</td>\n",
       "      <td>0.283219</td>\n",
       "      <td>2.247978</td>\n",
       "      <td>0.047085</td>\n",
       "      <td>0.0</td>\n",
       "      <td>0.000000</td>\n",
       "      <td>0</td>\n",
       "      <td>0.0</td>\n",
       "      <td>0.0</td>\n",
       "      <td>0.0</td>\n",
       "      <td>0.0</td>\n",
       "      <td>0.000000</td>\n",
       "      <td>-0.013963</td>\n",
       "      <td>0.0</td>\n",
       "      <td>64</td>\n",
       "      <td>0.215798</td>\n",
       "      <td>0.047085</td>\n",
       "    </tr>\n",
       "    <tr>\n",
       "      <th>2</th>\n",
       "      <td>2</td>\n",
       "      <td>75001</td>\n",
       "      <td>397380</td>\n",
       "      <td>aa</td>\n",
       "      <td>2.237666</td>\n",
       "      <td>0.000000</td>\n",
       "      <td>0.000000</td>\n",
       "      <td>0.0</td>\n",
       "      <td>0.000000</td>\n",
       "      <td>0</td>\n",
       "      <td>0.0</td>\n",
       "      <td>0.0</td>\n",
       "      <td>0.0</td>\n",
       "      <td>0.0</td>\n",
       "      <td>2.100972</td>\n",
       "      <td>0.129149</td>\n",
       "      <td>0.0</td>\n",
       "      <td>64</td>\n",
       "      <td>0.215798</td>\n",
       "      <td>0.491885</td>\n",
       "    </tr>\n",
       "    <tr>\n",
       "      <th>3</th>\n",
       "      <td>2</td>\n",
       "      <td>75001</td>\n",
       "      <td>216231</td>\n",
       "      <td>aa</td>\n",
       "      <td>0.234066</td>\n",
       "      <td>0.789428</td>\n",
       "      <td>0.017249</td>\n",
       "      <td>0.0</td>\n",
       "      <td>0.000868</td>\n",
       "      <td>0</td>\n",
       "      <td>0.0</td>\n",
       "      <td>0.0</td>\n",
       "      <td>0.0</td>\n",
       "      <td>0.0</td>\n",
       "      <td>0.000000</td>\n",
       "      <td>-0.043915</td>\n",
       "      <td>0.0</td>\n",
       "      <td>64</td>\n",
       "      <td>0.215798</td>\n",
       "      <td>0.100882</td>\n",
       "    </tr>\n",
       "    <tr>\n",
       "      <th>4</th>\n",
       "      <td>3</td>\n",
       "      <td>75001</td>\n",
       "      <td>397380</td>\n",
       "      <td>aa</td>\n",
       "      <td>2.616853</td>\n",
       "      <td>0.000000</td>\n",
       "      <td>0.000000</td>\n",
       "      <td>0.0</td>\n",
       "      <td>0.000000</td>\n",
       "      <td>0</td>\n",
       "      <td>0.0</td>\n",
       "      <td>0.0</td>\n",
       "      <td>0.0</td>\n",
       "      <td>0.0</td>\n",
       "      <td>2.410407</td>\n",
       "      <td>0.144249</td>\n",
       "      <td>0.0</td>\n",
       "      <td>64</td>\n",
       "      <td>0.215798</td>\n",
       "      <td>0.003377</td>\n",
       "    </tr>\n",
       "  </tbody>\n",
       "</table>\n",
       "</div>"
      ],
      "text/plain": [
       "   day  acc_id  char_id server  playtime  npc_kill  solo_exp  party_exp  \\\n",
       "0    1   75001   397380     aa  1.441844  0.000000  0.000000        0.0   \n",
       "1    1   75001   216231     aa  0.283219  2.247978  0.047085        0.0   \n",
       "2    2   75001   397380     aa  2.237666  0.000000  0.000000        0.0   \n",
       "3    2   75001   216231     aa  0.234066  0.789428  0.017249        0.0   \n",
       "4    3   75001   397380     aa  2.616853  0.000000  0.000000        0.0   \n",
       "\n",
       "   quest_exp  rich_monster  death  revive  exp_recovery  fishing  \\\n",
       "0   0.000000             0    0.0     0.0           0.0      0.0   \n",
       "1   0.000000             0    0.0     0.0           0.0      0.0   \n",
       "2   0.000000             0    0.0     0.0           0.0      0.0   \n",
       "3   0.000868             0    0.0     0.0           0.0      0.0   \n",
       "4   0.000000             0    0.0     0.0           0.0      0.0   \n",
       "\n",
       "   private_shop  game_money_change  enchant_count  survival_time  \\\n",
       "0      1.105140           0.034006            0.0             64   \n",
       "1      0.000000          -0.013963            0.0             64   \n",
       "2      2.100972           0.129149            0.0             64   \n",
       "3      0.000000          -0.043915            0.0             64   \n",
       "4      2.410407           0.144249            0.0             64   \n",
       "\n",
       "   amount_spent   sum_exp  \n",
       "0      0.215798  0.000000  \n",
       "1      0.215798  0.047085  \n",
       "2      0.215798  0.491885  \n",
       "3      0.215798  0.100882  \n",
       "4      0.215798  0.003377  "
      ]
     },
     "execution_count": 20,
     "metadata": {},
     "output_type": "execute_result"
    }
   ],
   "source": [
    "data1= act['solo_exp']+act['party_exp']+act['quest_exp']\n",
    "act1['sum_exp'] = data1\n",
    "act1.head()"
   ]
  },
  {
   "cell_type": "code",
   "execution_count": 31,
   "metadata": {},
   "outputs": [
    {
     "data": {
      "image/png": "[encoded data removed]",
      "text/plain": [
       "<Figure size 432x288 with 1 Axes>"
      ]
     },
     "metadata": {
      "needs_background": "light"
     },
     "output_type": "display_data"
    }
   ],
   "source": [
    "plt.scatter(x='revive',y='survival_time',data=act1)\n",
    "plt.show()"
   ]
  },
  {
   "cell_type": "code",
   "execution_count": 13,
   "metadata": {
    "scrolled": true
   },
   "outputs": [
    {
     "data": {
      "text/plain": [
       "acc_id           21996\n",
       "survival_time    21996\n",
       "amount_spent     21996\n",
       "dtype: int64"
      ]
     },
     "execution_count": 13,
     "metadata": {},
     "output_type": "execute_result"
    }
   ],
   "source": [
    "label[label['survival_time']==64].count()"
   ]
  },
  {
   "cell_type": "code",
   "execution_count": 21,
   "metadata": {},
   "outputs": [
    {
     "data": {
      "image/png": "[encoded data removed]",
      "text/plain": [
       "<Figure size 432x288 with 1 Axes>"
      ]
     },
     "metadata": {
      "needs_background": "light"
     },
     "output_type": "display_data"
    }
   ],
   "source": [
    "plt.scatter(x='death',y='survival_time',data=act1)\n",
    "plt.show()"
   ]
  },
  {
   "cell_type": "code",
   "execution_count": 22,
   "metadata": {},
   "outputs": [
    {
     "data": {
      "image/png": "[encoded data removed]",
      "text/plain": [
       "<Figure size 432x288 with 1 Axes>"
      ]
     },
     "metadata": {
      "needs_background": "light"
     },
     "output_type": "display_data"
    }
   ],
   "source": [
    "plt.scatter(x='survival_time',y='sum_exp',data=act1)\n",
    "plt.show()"
   ]
  },
  {
   "cell_type": "code",
   "execution_count": 23,
   "metadata": {
    "scrolled": true
   },
   "outputs": [
    {
     "data": {
      "image/png": "[encoded data removed]",
      "text/plain": [
       "<Figure size 432x288 with 1 Axes>"
      ]
     },
     "metadata": {
      "needs_background": "light"
     },
     "output_type": "display_data"
    }
   ],
   "source": [
    "plt.scatter(x='amount_spent',y='sum_exp',data=act1)\n",
    "plt.show()"
   ]
  },
  {
   "cell_type": "code",
   "execution_count": 29,
   "metadata": {},
   "outputs": [
    {
     "data": {
      "image/png": "[encoded data removed]",
      "text/plain": [
       "<Figure size 432x288 with 1 Axes>"
      ]
     },
     "metadata": {
      "needs_background": "light"
     },
     "output_type": "display_data"
    }
   ],
   "source": [
    "plt.scatter(x='fishing',y='survival_time',data=act1)\n",
    "plt.show()"
   ]
  },
  {
   "cell_type": "code",
   "execution_count": 30,
   "metadata": {},
   "outputs": [
    {
     "data": {
      "image/png": "[encoded data removed]",
      "text/plain": [
       "<Figure size 432x288 with 1 Axes>"
      ]
     },
     "metadata": {
      "needs_background": "light"
     },
     "output_type": "display_data"
    }
   ],
   "source": [
    "plt.scatter(x='private_shop',y='survival_time',data=act1)\n",
    "plt.show()"
   ]
  },
  {
   "cell_type": "code",
   "execution_count": 27,
   "metadata": {},
   "outputs": [
    {
     "data": {
      "image/png": "[encoded data removed]",
      "text/plain": [
       "<Figure size 432x288 with 1 Axes>"
      ]
     },
     "metadata": {
      "needs_background": "light"
     },
     "output_type": "display_data"
    }
   ],
   "source": [
    "plt.scatter(x='fishing',y='amount_spent',data=act1)\n",
    "plt.show()"
   ]
  },
  {
   "cell_type": "code",
   "execution_count": 28,
   "metadata": {},
   "outputs": [
    {
     "data": {
      "image/png": "[encoded data removed]",
      "text/plain": [
       "<Figure size 432x288 with 1 Axes>"
      ]
     },
     "metadata": {
      "needs_background": "light"
     },
     "output_type": "display_data"
    }
   ],
   "source": [
    "plt.scatter(x='private_shop',y='amount_spent',data=act1)\n",
    "plt.show()"
   ]
  },
  {
   "cell_type": "code",
   "execution_count": null,
   "metadata": {},
   "outputs": [],
   "source": [
    "sns.catplot(x='survival_time',y='solo_exp',data=act1,kind='box')"
   ]
  },
  {
   "cell_type": "code",
   "execution_count": null,
   "metadata": {},
   "outputs": [],
   "source": [
    "sns.catplot(x='survival_time',y='party_exp',data=act1,kind='box')"
   ]
  },
  {
   "cell_type": "code",
   "execution_count": null,
   "metadata": {},
   "outputs": [],
   "source": [
    "sns.catplot(x='survival_time',y='quest_exp',data=act1,kind='box')"
   ]
  },
  {
   "cell_type": "code",
   "execution_count": null,
   "metadata": {},
   "outputs": [],
   "source": [
    "sns.catplot(x='server',y='sum_exp',data=act,kind='box')"
   ]
  },
  {
   "cell_type": "code",
   "execution_count": null,
   "metadata": {},
   "outputs": [],
   "source": [
    "sns.catplot(x='survival_time',y='sum_exp',data=act1,kind='box')"
   ]
  },
  {
   "cell_type": "code",
   "execution_count": 32,
   "metadata": {
    "scrolled": true
   },
   "outputs": [
    {
     "data": {
      "image/png": "[encoded data removed]",
      "text/plain": [
       "<Figure size 432x288 with 1 Axes>"
      ]
     },
     "metadata": {
      "needs_background": "light"
     },
     "output_type": "display_data"
    }
   ],
   "source": [
    "plt.scatter(x='sum_exp',y='amount_spent',data=act1)\n",
    "plt.show()"
   ]
  },
  {
   "cell_type": "code",
   "execution_count": 47,
   "metadata": {
    "scrolled": true
   },
   "outputs": [
    {
     "data": {
      "text/html": [
       "<div>\n",
       "<style scoped>\n",
       "    .dataframe tbody tr th:only-of-type {\n",
       "        vertical-align: middle;\n",
       "    }\n",
       "\n",
       "    .dataframe tbody tr th {\n",
       "        vertical-align: top;\n",
       "    }\n",
       "\n",
       "    .dataframe thead th {\n",
       "        text-align: right;\n",
       "    }\n",
       "</style>\n",
       "<table border=\"1\" class=\"dataframe\">\n",
       "  <thead>\n",
       "    <tr style=\"text-align: right;\">\n",
       "      <th></th>\n",
       "      <th>day</th>\n",
       "      <th>acc_id</th>\n",
       "      <th>char_id</th>\n",
       "      <th>server</th>\n",
       "      <th>class</th>\n",
       "      <th>level</th>\n",
       "      <th>pledge_cnt</th>\n",
       "      <th>random_attacker_cnt</th>\n",
       "      <th>random_defender_cnt</th>\n",
       "      <th>temp_cnt</th>\n",
       "      <th>same_pledge_cnt</th>\n",
       "      <th>etc_cnt</th>\n",
       "      <th>num_opponent</th>\n",
       "    </tr>\n",
       "  </thead>\n",
       "  <tbody>\n",
       "    <tr>\n",
       "      <th>0</th>\n",
       "      <td>1</td>\n",
       "      <td>13809</td>\n",
       "      <td>54861</td>\n",
       "      <td>ap</td>\n",
       "      <td>2</td>\n",
       "      <td>13</td>\n",
       "      <td>0.0</td>\n",
       "      <td>0.0</td>\n",
       "      <td>0.0</td>\n",
       "      <td>0.0</td>\n",
       "      <td>0.0</td>\n",
       "      <td>0.000000</td>\n",
       "      <td>0.000000</td>\n",
       "    </tr>\n",
       "    <tr>\n",
       "      <th>1</th>\n",
       "      <td>1</td>\n",
       "      <td>13809</td>\n",
       "      <td>256332</td>\n",
       "      <td>ap</td>\n",
       "      <td>2</td>\n",
       "      <td>13</td>\n",
       "      <td>0.0</td>\n",
       "      <td>0.0</td>\n",
       "      <td>0.0</td>\n",
       "      <td>0.0</td>\n",
       "      <td>0.0</td>\n",
       "      <td>0.000000</td>\n",
       "      <td>0.000000</td>\n",
       "    </tr>\n",
       "    <tr>\n",
       "      <th>2</th>\n",
       "      <td>1</td>\n",
       "      <td>13809</td>\n",
       "      <td>307293</td>\n",
       "      <td>ap</td>\n",
       "      <td>3</td>\n",
       "      <td>14</td>\n",
       "      <td>0.0</td>\n",
       "      <td>0.0</td>\n",
       "      <td>0.0</td>\n",
       "      <td>0.0</td>\n",
       "      <td>0.0</td>\n",
       "      <td>0.000000</td>\n",
       "      <td>0.000000</td>\n",
       "    </tr>\n",
       "    <tr>\n",
       "      <th>3</th>\n",
       "      <td>1</td>\n",
       "      <td>13809</td>\n",
       "      <td>374964</td>\n",
       "      <td>ap</td>\n",
       "      <td>7</td>\n",
       "      <td>16</td>\n",
       "      <td>0.0</td>\n",
       "      <td>0.0</td>\n",
       "      <td>0.0</td>\n",
       "      <td>0.0</td>\n",
       "      <td>0.0</td>\n",
       "      <td>0.112612</td>\n",
       "      <td>0.098129</td>\n",
       "    </tr>\n",
       "    <tr>\n",
       "      <th>4</th>\n",
       "      <td>1</td>\n",
       "      <td>13809</td>\n",
       "      <td>117917</td>\n",
       "      <td>ap</td>\n",
       "      <td>2</td>\n",
       "      <td>11</td>\n",
       "      <td>0.0</td>\n",
       "      <td>0.0</td>\n",
       "      <td>0.0</td>\n",
       "      <td>0.0</td>\n",
       "      <td>0.0</td>\n",
       "      <td>0.000000</td>\n",
       "      <td>0.000000</td>\n",
       "    </tr>\n",
       "  </tbody>\n",
       "</table>\n",
       "</div>"
      ],
      "text/plain": [
       "   day  acc_id  char_id server  class  level  pledge_cnt  random_attacker_cnt  \\\n",
       "0    1   13809    54861     ap      2     13         0.0                  0.0   \n",
       "1    1   13809   256332     ap      2     13         0.0                  0.0   \n",
       "2    1   13809   307293     ap      3     14         0.0                  0.0   \n",
       "3    1   13809   374964     ap      7     16         0.0                  0.0   \n",
       "4    1   13809   117917     ap      2     11         0.0                  0.0   \n",
       "\n",
       "   random_defender_cnt  temp_cnt  same_pledge_cnt   etc_cnt  num_opponent  \n",
       "0                  0.0       0.0              0.0  0.000000      0.000000  \n",
       "1                  0.0       0.0              0.0  0.000000      0.000000  \n",
       "2                  0.0       0.0              0.0  0.000000      0.000000  \n",
       "3                  0.0       0.0              0.0  0.112612      0.098129  \n",
       "4                  0.0       0.0              0.0  0.000000      0.000000  "
      ]
     },
     "execution_count": 47,
     "metadata": {},
     "output_type": "execute_result"
    }
   ],
   "source": [
    "combat.head()"
   ]
  },
  {
   "cell_type": "code",
   "execution_count": 34,
   "metadata": {},
   "outputs": [
    {
     "data": {
      "text/html": [
       "<div>\n",
       "<style scoped>\n",
       "    .dataframe tbody tr th:only-of-type {\n",
       "        vertical-align: middle;\n",
       "    }\n",
       "\n",
       "    .dataframe tbody tr th {\n",
       "        vertical-align: top;\n",
       "    }\n",
       "\n",
       "    .dataframe thead th {\n",
       "        text-align: right;\n",
       "    }\n",
       "</style>\n",
       "<table border=\"1\" class=\"dataframe\">\n",
       "  <thead>\n",
       "    <tr style=\"text-align: right;\">\n",
       "      <th></th>\n",
       "      <th>day</th>\n",
       "      <th>acc_id</th>\n",
       "      <th>char_id</th>\n",
       "      <th>server</th>\n",
       "      <th>class</th>\n",
       "      <th>level</th>\n",
       "      <th>pledge_cnt</th>\n",
       "      <th>random_attacker_cnt</th>\n",
       "      <th>random_defender_cnt</th>\n",
       "      <th>temp_cnt</th>\n",
       "      <th>same_pledge_cnt</th>\n",
       "      <th>etc_cnt</th>\n",
       "      <th>num_opponent</th>\n",
       "      <th>survival_time</th>\n",
       "      <th>amount_spent</th>\n",
       "    </tr>\n",
       "  </thead>\n",
       "  <tbody>\n",
       "    <tr>\n",
       "      <th>1574666</th>\n",
       "      <td>28</td>\n",
       "      <td>84457</td>\n",
       "      <td>86170</td>\n",
       "      <td>ay</td>\n",
       "      <td>2</td>\n",
       "      <td>3</td>\n",
       "      <td>0.0</td>\n",
       "      <td>0.0</td>\n",
       "      <td>0.0</td>\n",
       "      <td>0.0</td>\n",
       "      <td>0.0</td>\n",
       "      <td>0.0</td>\n",
       "      <td>0.0</td>\n",
       "      <td>3</td>\n",
       "      <td>0.0</td>\n",
       "    </tr>\n",
       "    <tr>\n",
       "      <th>1574667</th>\n",
       "      <td>28</td>\n",
       "      <td>104917</td>\n",
       "      <td>369157</td>\n",
       "      <td>ay</td>\n",
       "      <td>2</td>\n",
       "      <td>3</td>\n",
       "      <td>0.0</td>\n",
       "      <td>0.0</td>\n",
       "      <td>0.0</td>\n",
       "      <td>0.0</td>\n",
       "      <td>0.0</td>\n",
       "      <td>0.0</td>\n",
       "      <td>0.0</td>\n",
       "      <td>3</td>\n",
       "      <td>0.0</td>\n",
       "    </tr>\n",
       "    <tr>\n",
       "      <th>1574668</th>\n",
       "      <td>28</td>\n",
       "      <td>70769</td>\n",
       "      <td>112011</td>\n",
       "      <td>ay</td>\n",
       "      <td>2</td>\n",
       "      <td>3</td>\n",
       "      <td>0.0</td>\n",
       "      <td>0.0</td>\n",
       "      <td>0.0</td>\n",
       "      <td>0.0</td>\n",
       "      <td>0.0</td>\n",
       "      <td>0.0</td>\n",
       "      <td>0.0</td>\n",
       "      <td>3</td>\n",
       "      <td>0.0</td>\n",
       "    </tr>\n",
       "    <tr>\n",
       "      <th>1574669</th>\n",
       "      <td>28</td>\n",
       "      <td>49584</td>\n",
       "      <td>1168</td>\n",
       "      <td>ay</td>\n",
       "      <td>2</td>\n",
       "      <td>3</td>\n",
       "      <td>0.0</td>\n",
       "      <td>0.0</td>\n",
       "      <td>0.0</td>\n",
       "      <td>0.0</td>\n",
       "      <td>0.0</td>\n",
       "      <td>0.0</td>\n",
       "      <td>0.0</td>\n",
       "      <td>3</td>\n",
       "      <td>0.0</td>\n",
       "    </tr>\n",
       "    <tr>\n",
       "      <th>1574670</th>\n",
       "      <td>28</td>\n",
       "      <td>66902</td>\n",
       "      <td>318905</td>\n",
       "      <td>ay</td>\n",
       "      <td>2</td>\n",
       "      <td>3</td>\n",
       "      <td>0.0</td>\n",
       "      <td>0.0</td>\n",
       "      <td>0.0</td>\n",
       "      <td>0.0</td>\n",
       "      <td>0.0</td>\n",
       "      <td>0.0</td>\n",
       "      <td>0.0</td>\n",
       "      <td>3</td>\n",
       "      <td>0.0</td>\n",
       "    </tr>\n",
       "  </tbody>\n",
       "</table>\n",
       "</div>"
      ],
      "text/plain": [
       "         day  acc_id  char_id server  class  level  pledge_cnt  \\\n",
       "1574666   28   84457    86170     ay      2      3         0.0   \n",
       "1574667   28  104917   369157     ay      2      3         0.0   \n",
       "1574668   28   70769   112011     ay      2      3         0.0   \n",
       "1574669   28   49584     1168     ay      2      3         0.0   \n",
       "1574670   28   66902   318905     ay      2      3         0.0   \n",
       "\n",
       "         random_attacker_cnt  random_defender_cnt  temp_cnt  same_pledge_cnt  \\\n",
       "1574666                  0.0                  0.0       0.0              0.0   \n",
       "1574667                  0.0                  0.0       0.0              0.0   \n",
       "1574668                  0.0                  0.0       0.0              0.0   \n",
       "1574669                  0.0                  0.0       0.0              0.0   \n",
       "1574670                  0.0                  0.0       0.0              0.0   \n",
       "\n",
       "         etc_cnt  num_opponent  survival_time  amount_spent  \n",
       "1574666      0.0           0.0              3           0.0  \n",
       "1574667      0.0           0.0              3           0.0  \n",
       "1574668      0.0           0.0              3           0.0  \n",
       "1574669      0.0           0.0              3           0.0  \n",
       "1574670      0.0           0.0              3           0.0  "
      ]
     },
     "execution_count": 34,
     "metadata": {},
     "output_type": "execute_result"
    }
   ],
   "source": [
    "com1 = pd.merge(combat,label)\n",
    "com1.tail()"
   ]
  },
  {
   "cell_type": "code",
   "execution_count": 35,
   "metadata": {},
   "outputs": [
    {
     "data": {
      "image/png": "[encoded data removed]",
      "text/plain": [
       "<Figure size 432x288 with 1 Axes>"
      ]
     },
     "metadata": {
      "needs_background": "light"
     },
     "output_type": "display_data"
    }
   ],
   "source": [
    "plt.scatter(x='class',y='survival_time',data=com1)\n",
    "plt.show()"
   ]
  },
  {
   "cell_type": "code",
   "execution_count": 36,
   "metadata": {},
   "outputs": [
    {
     "data": {
      "text/plain": [
       "<seaborn.axisgrid.FacetGrid at 0x22f1320f780>"
      ]
     },
     "execution_count": 36,
     "metadata": {},
     "output_type": "execute_result"
    },
    {
     "data": {
      "image/png": "[encoded data removed]",
      "text/plain": [
       "<Figure size 360x360 with 1 Axes>"
      ]
     },
     "metadata": {
      "needs_background": "light"
     },
     "output_type": "display_data"
    }
   ],
   "source": [
    "sns.catplot(x='class',y='survival_time',data=com1,kind='box')"
   ]
  },
  {
   "cell_type": "code",
   "execution_count": 45,
   "metadata": {},
   "outputs": [
    {
     "data": {
      "text/html": [
       "<div>\n",
       "<style scoped>\n",
       "    .dataframe tbody tr th:only-of-type {\n",
       "        vertical-align: middle;\n",
       "    }\n",
       "\n",
       "    .dataframe tbody tr th {\n",
       "        vertical-align: top;\n",
       "    }\n",
       "\n",
       "    .dataframe thead th {\n",
       "        text-align: right;\n",
       "    }\n",
       "</style>\n",
       "<table border=\"1\" class=\"dataframe\">\n",
       "  <thead>\n",
       "    <tr style=\"text-align: right;\">\n",
       "      <th></th>\n",
       "      <th>day</th>\n",
       "      <th>acc_id</th>\n",
       "      <th>char_id</th>\n",
       "      <th>server</th>\n",
       "      <th>class</th>\n",
       "      <th>level</th>\n",
       "      <th>pledge_cnt</th>\n",
       "      <th>random_attacker_cnt</th>\n",
       "      <th>random_defender_cnt</th>\n",
       "      <th>temp_cnt</th>\n",
       "      <th>same_pledge_cnt</th>\n",
       "      <th>etc_cnt</th>\n",
       "      <th>num_opponent</th>\n",
       "      <th>survival_time</th>\n",
       "      <th>amount_spent</th>\n",
       "    </tr>\n",
       "  </thead>\n",
       "  <tbody>\n",
       "    <tr>\n",
       "      <th>0</th>\n",
       "      <td>1</td>\n",
       "      <td>13809</td>\n",
       "      <td>54861</td>\n",
       "      <td>ap</td>\n",
       "      <td>2</td>\n",
       "      <td>13</td>\n",
       "      <td>0.0</td>\n",
       "      <td>0.0</td>\n",
       "      <td>0.000000</td>\n",
       "      <td>0.0</td>\n",
       "      <td>0.0</td>\n",
       "      <td>0.000000</td>\n",
       "      <td>0.000000</td>\n",
       "      <td>64</td>\n",
       "      <td>0.302485</td>\n",
       "    </tr>\n",
       "    <tr>\n",
       "      <th>1</th>\n",
       "      <td>1</td>\n",
       "      <td>13809</td>\n",
       "      <td>256332</td>\n",
       "      <td>ap</td>\n",
       "      <td>2</td>\n",
       "      <td>13</td>\n",
       "      <td>0.0</td>\n",
       "      <td>0.0</td>\n",
       "      <td>0.000000</td>\n",
       "      <td>0.0</td>\n",
       "      <td>0.0</td>\n",
       "      <td>0.000000</td>\n",
       "      <td>0.000000</td>\n",
       "      <td>64</td>\n",
       "      <td>0.302485</td>\n",
       "    </tr>\n",
       "    <tr>\n",
       "      <th>2</th>\n",
       "      <td>1</td>\n",
       "      <td>13809</td>\n",
       "      <td>307293</td>\n",
       "      <td>ap</td>\n",
       "      <td>3</td>\n",
       "      <td>14</td>\n",
       "      <td>0.0</td>\n",
       "      <td>0.0</td>\n",
       "      <td>0.000000</td>\n",
       "      <td>0.0</td>\n",
       "      <td>0.0</td>\n",
       "      <td>0.000000</td>\n",
       "      <td>0.000000</td>\n",
       "      <td>64</td>\n",
       "      <td>0.302485</td>\n",
       "    </tr>\n",
       "    <tr>\n",
       "      <th>3</th>\n",
       "      <td>1</td>\n",
       "      <td>13809</td>\n",
       "      <td>374964</td>\n",
       "      <td>ap</td>\n",
       "      <td>7</td>\n",
       "      <td>16</td>\n",
       "      <td>0.0</td>\n",
       "      <td>0.0</td>\n",
       "      <td>0.000000</td>\n",
       "      <td>0.0</td>\n",
       "      <td>0.0</td>\n",
       "      <td>0.112612</td>\n",
       "      <td>0.098129</td>\n",
       "      <td>64</td>\n",
       "      <td>0.302485</td>\n",
       "    </tr>\n",
       "    <tr>\n",
       "      <th>4</th>\n",
       "      <td>1</td>\n",
       "      <td>13809</td>\n",
       "      <td>117917</td>\n",
       "      <td>ap</td>\n",
       "      <td>2</td>\n",
       "      <td>11</td>\n",
       "      <td>0.0</td>\n",
       "      <td>0.0</td>\n",
       "      <td>0.000000</td>\n",
       "      <td>0.0</td>\n",
       "      <td>0.0</td>\n",
       "      <td>0.000000</td>\n",
       "      <td>0.000000</td>\n",
       "      <td>64</td>\n",
       "      <td>0.302485</td>\n",
       "    </tr>\n",
       "    <tr>\n",
       "      <th>5</th>\n",
       "      <td>2</td>\n",
       "      <td>13809</td>\n",
       "      <td>374964</td>\n",
       "      <td>ap</td>\n",
       "      <td>7</td>\n",
       "      <td>16</td>\n",
       "      <td>0.0</td>\n",
       "      <td>0.0</td>\n",
       "      <td>1.183064</td>\n",
       "      <td>0.0</td>\n",
       "      <td>0.0</td>\n",
       "      <td>0.225223</td>\n",
       "      <td>0.196258</td>\n",
       "      <td>64</td>\n",
       "      <td>0.302485</td>\n",
       "    </tr>\n",
       "    <tr>\n",
       "      <th>6</th>\n",
       "      <td>2</td>\n",
       "      <td>13809</td>\n",
       "      <td>54861</td>\n",
       "      <td>ap</td>\n",
       "      <td>2</td>\n",
       "      <td>14</td>\n",
       "      <td>0.0</td>\n",
       "      <td>0.0</td>\n",
       "      <td>0.000000</td>\n",
       "      <td>0.0</td>\n",
       "      <td>0.0</td>\n",
       "      <td>0.000000</td>\n",
       "      <td>0.000000</td>\n",
       "      <td>64</td>\n",
       "      <td>0.302485</td>\n",
       "    </tr>\n",
       "    <tr>\n",
       "      <th>7</th>\n",
       "      <td>2</td>\n",
       "      <td>13809</td>\n",
       "      <td>307293</td>\n",
       "      <td>ap</td>\n",
       "      <td>3</td>\n",
       "      <td>14</td>\n",
       "      <td>0.0</td>\n",
       "      <td>0.0</td>\n",
       "      <td>0.000000</td>\n",
       "      <td>0.0</td>\n",
       "      <td>0.0</td>\n",
       "      <td>0.000000</td>\n",
       "      <td>0.000000</td>\n",
       "      <td>64</td>\n",
       "      <td>0.302485</td>\n",
       "    </tr>\n",
       "    <tr>\n",
       "      <th>8</th>\n",
       "      <td>2</td>\n",
       "      <td>13809</td>\n",
       "      <td>256332</td>\n",
       "      <td>ap</td>\n",
       "      <td>2</td>\n",
       "      <td>13</td>\n",
       "      <td>0.0</td>\n",
       "      <td>0.0</td>\n",
       "      <td>0.000000</td>\n",
       "      <td>0.0</td>\n",
       "      <td>0.0</td>\n",
       "      <td>0.000000</td>\n",
       "      <td>0.000000</td>\n",
       "      <td>64</td>\n",
       "      <td>0.302485</td>\n",
       "    </tr>\n",
       "    <tr>\n",
       "      <th>9</th>\n",
       "      <td>2</td>\n",
       "      <td>13809</td>\n",
       "      <td>117917</td>\n",
       "      <td>ap</td>\n",
       "      <td>2</td>\n",
       "      <td>11</td>\n",
       "      <td>0.0</td>\n",
       "      <td>0.0</td>\n",
       "      <td>0.000000</td>\n",
       "      <td>0.0</td>\n",
       "      <td>0.0</td>\n",
       "      <td>0.000000</td>\n",
       "      <td>0.000000</td>\n",
       "      <td>64</td>\n",
       "      <td>0.302485</td>\n",
       "    </tr>\n",
       "  </tbody>\n",
       "</table>\n",
       "</div>"
      ],
      "text/plain": [
       "   day  acc_id  char_id server  class  level  pledge_cnt  random_attacker_cnt  \\\n",
       "0    1   13809    54861     ap      2     13         0.0                  0.0   \n",
       "1    1   13809   256332     ap      2     13         0.0                  0.0   \n",
       "2    1   13809   307293     ap      3     14         0.0                  0.0   \n",
       "3    1   13809   374964     ap      7     16         0.0                  0.0   \n",
       "4    1   13809   117917     ap      2     11         0.0                  0.0   \n",
       "5    2   13809   374964     ap      7     16         0.0                  0.0   \n",
       "6    2   13809    54861     ap      2     14         0.0                  0.0   \n",
       "7    2   13809   307293     ap      3     14         0.0                  0.0   \n",
       "8    2   13809   256332     ap      2     13         0.0                  0.0   \n",
       "9    2   13809   117917     ap      2     11         0.0                  0.0   \n",
       "\n",
       "   random_defender_cnt  temp_cnt  same_pledge_cnt   etc_cnt  num_opponent  \\\n",
       "0             0.000000       0.0              0.0  0.000000      0.000000   \n",
       "1             0.000000       0.0              0.0  0.000000      0.000000   \n",
       "2             0.000000       0.0              0.0  0.000000      0.000000   \n",
       "3             0.000000       0.0              0.0  0.112612      0.098129   \n",
       "4             0.000000       0.0              0.0  0.000000      0.000000   \n",
       "5             1.183064       0.0              0.0  0.225223      0.196258   \n",
       "6             0.000000       0.0              0.0  0.000000      0.000000   \n",
       "7             0.000000       0.0              0.0  0.000000      0.000000   \n",
       "8             0.000000       0.0              0.0  0.000000      0.000000   \n",
       "9             0.000000       0.0              0.0  0.000000      0.000000   \n",
       "\n",
       "   survival_time  amount_spent  \n",
       "0             64      0.302485  \n",
       "1             64      0.302485  \n",
       "2             64      0.302485  \n",
       "3             64      0.302485  \n",
       "4             64      0.302485  \n",
       "5             64      0.302485  \n",
       "6             64      0.302485  \n",
       "7             64      0.302485  \n",
       "8             64      0.302485  \n",
       "9             64      0.302485  "
      ]
     },
     "execution_count": 45,
     "metadata": {},
     "output_type": "execute_result"
    }
   ],
   "source": [
    "com1.head(10)"
   ]
  },
  {
   "cell_type": "code",
   "execution_count": 44,
   "metadata": {
    "scrolled": true
   },
   "outputs": [
    {
     "data": {
      "text/plain": [
       "0          64\n",
       "1          64\n",
       "2          64\n",
       "3          64\n",
       "4          64\n",
       "5          64\n",
       "6          64\n",
       "7          64\n",
       "8          64\n",
       "9          64\n",
       "10         64\n",
       "11         64\n",
       "12         64\n",
       "13         64\n",
       "14         64\n",
       "15         64\n",
       "16         64\n",
       "17         64\n",
       "18         64\n",
       "19         64\n",
       "20         64\n",
       "21         64\n",
       "22         64\n",
       "23         64\n",
       "24         64\n",
       "25         64\n",
       "26         64\n",
       "27         64\n",
       "28         64\n",
       "29         64\n",
       "           ..\n",
       "1574641    64\n",
       "1574642     3\n",
       "1574643     3\n",
       "1574644     3\n",
       "1574645     3\n",
       "1574646     3\n",
       "1574647     3\n",
       "1574648     3\n",
       "1574649     3\n",
       "1574650     3\n",
       "1574651     3\n",
       "1574652     3\n",
       "1574653     3\n",
       "1574654     3\n",
       "1574655     3\n",
       "1574656     3\n",
       "1574657     3\n",
       "1574658     3\n",
       "1574659     3\n",
       "1574660     3\n",
       "1574661     3\n",
       "1574662     3\n",
       "1574663     3\n",
       "1574664     3\n",
       "1574665     3\n",
       "1574666     3\n",
       "1574667     3\n",
       "1574668     3\n",
       "1574669     3\n",
       "1574670     3\n",
       "Name: survival_time, Length: 1574671, dtype: int64"
      ]
     },
     "execution_count": 44,
     "metadata": {},
     "output_type": "execute_result"
    }
   ],
   "source": [
    "com1['survival_time'].replace({64 : 'alive'} != 'death')  "
   ]
  },
  {
   "cell_type": "code",
   "execution_count": null,
   "metadata": {},
   "outputs": [],
   "source": [
    "sns.catplot(x='server',y='playtime',data=act,kind='box')"
   ]
  },
  {
   "cell_type": "code",
   "execution_count": null,
   "metadata": {},
   "outputs": [],
   "source": [
    "sns.catplot(x='server',y='playtime',data=act,kind='bar')"
   ]
  },
  {
   "cell_type": "code",
   "execution_count": null,
   "metadata": {},
   "outputs": [],
   "source": [
    "sns.catplot(x='day',y='death',data=act,kind='bar')"
   ]
  },
  {
   "cell_type": "code",
   "execution_count": null,
   "metadata": {
    "scrolled": false
   },
   "outputs": [],
   "source": [
    "act.corr(method='spearman')"
   ]
  },
  {
   "cell_type": "code",
   "execution_count": null,
   "metadata": {},
   "outputs": [],
   "source": [
    "sns.catplot(x='day',y='playtime',data=act,kind='bar')"
   ]
  },
  {
   "cell_type": "code",
   "execution_count": null,
   "metadata": {},
   "outputs": [],
   "source": [
    "len(act['acc_id'].unique())"
   ]
  },
  {
   "cell_type": "code",
   "execution_count": null,
   "metadata": {},
   "outputs": [],
   "source": [
    "sns.catplot(x='day',y='fishing',data=act,kind='bar')"
   ]
  },
  {
   "cell_type": "code",
   "execution_count": null,
   "metadata": {},
   "outputs": [],
   "source": [
    "sns.catplot(x='day',y='npc_kill',data=act,kind='bar')"
   ]
  },
  {
   "cell_type": "code",
   "execution_count": null,
   "metadata": {},
   "outputs": [],
   "source": [
    "sns.catplot(x='day',y='rich_monster',data=act,kind='bar')"
   ]
  },
  {
   "cell_type": "code",
   "execution_count": null,
   "metadata": {},
   "outputs": [],
   "source": [
    "sns.catplot(x='playtime',y=act['npc_kill'].mean(),data=act,kind='bar')"
   ]
  },
  {
   "cell_type": "code",
   "execution_count": null,
   "metadata": {},
   "outputs": [],
   "source": [
    "sns.catplot(x='playtime',y='private_shop',data=act,kind='bar')"
   ]
  },
  {
   "cell_type": "code",
   "execution_count": null,
   "metadata": {},
   "outputs": [],
   "source": [
    "sns.catplot(x='playtime',y='fishing',data=act,kind='bar')"
   ]
  },
  {
   "cell_type": "code",
   "execution_count": null,
   "metadata": {},
   "outputs": [],
   "source": [
    "sns.catplot(x='rich_monster',y='game_money_change',data=act,kind='bar')"
   ]
  },
  {
   "cell_type": "code",
   "execution_count": null,
   "metadata": {},
   "outputs": [],
   "source": [
    "sns.catplot(x='death',y='revive',data=act,kind='bar')"
   ]
  },
  {
   "cell_type": "code",
   "execution_count": null,
   "metadata": {},
   "outputs": [],
   "source": [
    "combat.head()"
   ]
  },
  {
   "cell_type": "code",
   "execution_count": null,
   "metadata": {},
   "outputs": [],
   "source": [
    "sns.catplot(x='level',y='pledge_cnt',hue='class',data=combat,kind='bar',size=10)"
   ]
  },
  {
   "cell_type": "code",
   "execution_count": null,
   "metadata": {},
   "outputs": [],
   "source": [
    "pay.head()"
   ]
  },
  {
   "cell_type": "code",
   "execution_count": null,
   "metadata": {},
   "outputs": [],
   "source": [
    "sns.catplot(x='class',y='num_opponent',data=combat,kind='bar')"
   ]
  },
  {
   "cell_type": "code",
   "execution_count": null,
   "metadata": {},
   "outputs": [],
   "source": [
    "sns.catplot(x='class',y='pledge_cnt',data=combat,kind='bar')"
   ]
  },
  {
   "cell_type": "code",
   "execution_count": null,
   "metadata": {},
   "outputs": [],
   "source": [
    "sns.pairplot(combat)"
   ]
  },
  {
   "cell_type": "code",
   "execution_count": null,
   "metadata": {},
   "outputs": [],
   "source": [
    "sns.pairplot(act)"
   ]
  },
  {
   "cell_type": "code",
   "execution_count": null,
   "metadata": {},
   "outputs": [],
   "source": [
    "sns.pairplot(pledge)"
   ]
  },
  {
   "cell_type": "code",
   "execution_count": null,
   "metadata": {},
   "outputs": [],
   "source": [
    "label.head()"
   ]
  },
  {
   "cell_type": "code",
   "execution_count": null,
   "metadata": {},
   "outputs": [],
   "source": [
    "label[label['survival_time']==64]"
   ]
  },
  {
   "cell_type": "code",
   "execution_count": null,
   "metadata": {},
   "outputs": [],
   "source": []
  },
  {
   "cell_type": "code",
   "execution_count": null,
   "metadata": {},
   "outputs": [],
   "source": []
  },
  {
   "cell_type": "code",
   "execution_count": null,
   "metadata": {},
   "outputs": [],
   "source": []
  },
  {
   "cell_type": "code",
   "execution_count": null,
   "metadata": {},
   "outputs": [],
   "source": []
  },
  {
   "cell_type": "code",
   "execution_count": null,
   "metadata": {},
   "outputs": [],
   "source": []
  },
  {
   "cell_type": "code",
   "execution_count": null,
   "metadata": {},
   "outputs": [],
   "source": []
  },
  {
   "cell_type": "code",
   "execution_count": null,
   "metadata": {},
   "outputs": [],
   "source": []
  },
  {
   "cell_type": "code",
   "execution_count": null,
   "metadata": {},
   "outputs": [],
   "source": []
  },
  {
   "cell_type": "code",
   "execution_count": null,
   "metadata": {},
   "outputs": [],
   "source": [
    "act_test = pd.read_csv('test1_activity.csv')"
   ]
  },
  {
   "cell_type": "markdown",
   "metadata": {},
   "source": [
    "# 예측평가."
   ]
  },
  {
   "cell_type": "code",
   "execution_count": null,
   "metadata": {},
   "outputs": [],
   "source": [
    "def score_function(predict_label, actual_label):\n",
    " \n",
    "    predict = pd.read_csv(predict_label, engine='python') # 예측 답안 파일 불러오기\n",
    "    actual = pd.read_csv(actual_label,engine='python') # 실제 답안 파일 불러오기 \n",
    "\n",
    "    predict.acc_id = predict.acc_id.astype('int')\n",
    "    predict = predict.sort_values(by =['acc_id'], axis = 0) # 예측 답안을 acc_id 기준으로 정렬 \n",
    "    predict = predict.reset_index(drop = True)\n",
    "    actual.acc_id = actual.acc_id.astype('int')\n",
    "    actual = actual.sort_values(by =['acc_id'], axis = 0) # 실제 답안을 acc_id 기준으로 정렬\n",
    "    actual =actual.reset_index(drop=True)\n",
    "    \n",
    "    if predict.acc_id.equals(actual.acc_id) == False:\n",
    "        print('acc_id of predicted and actual label does not match')\n",
    "        sys.exit() # 예측 답안의 acc_id와 실제 답안의 acc_id가 다른 경우 에러처리 \n",
    "    else:\n",
    "            \n",
    "        S, alpha, L, sigma = 30, 0.01, 0.1, 15  \n",
    "        cost, gamma, add_rev = 0,0,0 \n",
    "        profit_result = []\n",
    "        survival_time_pred = list(predict.survival_time)\n",
    "        amount_spent_pred = list(predict.amount_spent)\n",
    "        survival_time_actual = list(actual.survival_time)\n",
    "        amount_spent_actual = list(actual.amount_spent)    \n",
    "        for i in range(len(survival_time_pred)):\n",
    "            if survival_time_pred[i] == 64 :                 \n",
    "                cost = 0\n",
    "                optimal_cost = 0\n",
    "            else:\n",
    "                cost = alpha * S * amount_spent_pred[i]                    #비용 계산\n",
    "                optimal_cost = alpha * S * amount_spent_actual[i]          #적정비용 계산 \n",
    "            \n",
    "            if optimal_cost == 0:\n",
    "                gamma = 0\n",
    "            elif cost / optimal_cost < L:\n",
    "                gamma = 0\n",
    "            elif cost / optimal_cost >= 1:\n",
    "                gamma = 1\n",
    "            else:\n",
    "                gamma = (cost)/((1-L)*optimal_cost) - L/(1-L)              #반응률 계산\n",
    "            \n",
    "            if survival_time_pred[i] == 64 or survival_time_actual[i] == 64:\n",
    "                T_k = 0\n",
    "            else:\n",
    "                T_k = S * np.exp(-((survival_time_pred[i] - survival_time_actual[i])**2)/(2*(sigma)**2))    #추가 생존기간 계산\n",
    "                \n",
    "            add_rev = T_k * amount_spent_actual[i]                         #잔존가치 계산\n",
    "    \n",
    "           \n",
    "            profit = gamma * add_rev - cost                                #유저별 기대이익 계산\n",
    "            profit_result.append(profit)\n",
    "            \n",
    "        score = sum(profit_result)                                         #기대이익 총합 계산\n",
    "        print(score)\n",
    "    return score\n"
   ]
  },
  {
   "cell_type": "code",
   "execution_count": 1,
   "metadata": {},
   "outputs": [
    {
     "name": "stdout",
     "output_type": "stream",
     "text": [
      "Collecting xgboost\n",
      "  Using cached https://files.pythonhosted.org/packages/5e/49/b95c037b717b4ceadc76b6e164603471225c27052d1611d5a2e832757945/xgboost-0.90-py2.py3-none-win_amd64.whl\n",
      "Requirement already satisfied: numpy in c:\\users\\user\\anaconda3\\lib\\site-packages (from xgboost) (1.16.2)\n",
      "Requirement already satisfied: scipy in c:\\users\\user\\anaconda3\\lib\\site-packages (from xgboost) (1.2.1)\n",
      "Installing collected packages: xgboost\n",
      "Successfully installed xgboost-0.90\n",
      "Note: you may need to restart the kernel to use updated packages.\n"
     ]
    }
   ],
   "source": [
    "pip install xgboost"
   ]
  },
  {
   "cell_type": "code",
   "execution_count": null,
   "metadata": {},
   "outputs": [],
   "source": [
    "import xgboost as xgb"
   ]
  },
  {
   "cell_type": "code",
   "execution_count": 3,
   "metadata": {},
   "outputs": [],
   "source": [
    "from lifelines import CoxPHFitter"
   ]
  },
  {
   "cell_type": "code",
   "execution_count": 2,
   "metadata": {},
   "outputs": [
    {
     "name": "stdout",
     "output_type": "stream",
     "text": [
      "Collecting lifelines\n",
      "  Downloading https://files.pythonhosted.org/packages/d5/da/dd0bc8261258270460ab9c1a626f10850f8a7163184a0987495ab4c0e063/lifelines-0.22.3-py2.py3-none-any.whl (335kB)\n",
      "Requirement already satisfied: numpy>=1.14.0 in c:\\users\\user\\anaconda3\\lib\\site-packages (from lifelines) (1.16.2)\n",
      "Requirement already satisfied: matplotlib>=3.0 in c:\\users\\user\\anaconda3\\lib\\site-packages (from lifelines) (3.0.3)\n",
      "Collecting autograd>=1.3 (from lifelines)\n",
      "  Downloading https://files.pythonhosted.org/packages/23/12/b58522dc2cbbd7ab939c7b8e5542c441c9a06a8eccb00b3ecac04a739896/autograd-1.3.tar.gz\n",
      "Requirement already satisfied: pandas>=0.23.0 in c:\\users\\user\\anaconda3\\lib\\site-packages (from lifelines) (0.24.2)\n",
      "Requirement already satisfied: scipy>=1.0 in c:\\users\\user\\anaconda3\\lib\\site-packages (from lifelines) (1.2.1)\n",
      "Collecting autograd-gamma>=0.3 (from lifelines)\n",
      "  Downloading https://files.pythonhosted.org/packages/3e/87/788c4bf90cc5c534cb3b7fdb5b719175e33e2658decce75e35e2ce69766f/autograd_gamma-0.4.1-py2.py3-none-any.whl\n",
      "Requirement already satisfied: cycler>=0.10 in c:\\users\\user\\anaconda3\\lib\\site-packages (from matplotlib>=3.0->lifelines) (0.10.0)\n",
      "Requirement already satisfied: kiwisolver>=1.0.1 in c:\\users\\user\\anaconda3\\lib\\site-packages (from matplotlib>=3.0->lifelines) (1.0.1)\n",
      "Requirement already satisfied: pyparsing!=2.0.4,!=2.1.2,!=2.1.6,>=2.0.1 in c:\\users\\user\\anaconda3\\lib\\site-packages (from matplotlib>=3.0->lifelines) (2.3.1)\n",
      "Requirement already satisfied: python-dateutil>=2.1 in c:\\users\\user\\anaconda3\\lib\\site-packages (from matplotlib>=3.0->lifelines) (2.8.0)\n",
      "Requirement already satisfied: future>=0.15.2 in c:\\users\\user\\anaconda3\\lib\\site-packages (from autograd>=1.3->lifelines) (0.17.1)\n",
      "Requirement already satisfied: pytz>=2011k in c:\\users\\user\\anaconda3\\lib\\site-packages (from pandas>=0.23.0->lifelines) (2018.9)\n",
      "Requirement already satisfied: six in c:\\users\\user\\anaconda3\\lib\\site-packages (from cycler>=0.10->matplotlib>=3.0->lifelines) (1.12.0)\n",
      "Requirement already satisfied: setuptools in c:\\users\\user\\anaconda3\\lib\\site-packages (from kiwisolver>=1.0.1->matplotlib>=3.0->lifelines) (40.8.0)\n",
      "Building wheels for collected packages: autograd\n",
      "  Building wheel for autograd (setup.py): started\n",
      "  Building wheel for autograd (setup.py): finished with status 'done'\n",
      "  Stored in directory: C:\\Users\\user\\AppData\\Local\\pip\\Cache\\wheels\\42\\62\\66\\1121afe23ff96af4e452e0d15e68761e3f605952ee075ca99f\n",
      "Successfully built autograd\n",
      "Installing collected packages: autograd, autograd-gamma, lifelines\n",
      "Successfully installed autograd-1.3 autograd-gamma-0.4.1 lifelines-0.22.3\n",
      "Note: you may need to restart the kernel to use updated packages.\n"
     ]
    }
   ],
   "source": [
    "pip install lifelines"
   ]
  },
  {
   "cell_type": "code",
   "execution_count": null,
   "metadata": {},
   "outputs": [],
   "source": [
    "df = pd.merge(act,label)"
   ]
  },
  {
   "cell_type": "code",
   "execution_count": null,
   "metadata": {},
   "outputs": [],
   "source": [
    "df.head()"
   ]
  },
  {
   "cell_type": "code",
   "execution_count": null,
   "metadata": {},
   "outputs": [],
   "source": [
    "df_dummy = pd.get_dummies(df, drop_first=True)\n",
    "df_dummy.head()"
   ]
  },
  {
   "cell_type": "code",
   "execution_count": null,
   "metadata": {},
   "outputs": [],
   "source": [
    "cph = CoxPHFitter()\n",
    "cph.fit(df_dummy,'acc_id',event_col='survival_time')\n",
    "cph.print_summary()"
   ]
  },
  {
   "cell_type": "code",
   "execution_count": null,
   "metadata": {},
   "outputs": [],
   "source": [
    "cph.plot()"
   ]
  },
  {
   "cell_type": "code",
   "execution_count": null,
   "metadata": {},
   "outputs": [],
   "source": [
    "cph = CoxPHFitter()\n",
    "cph.fit(df_dummy,'acc_id',event_col='amount_spent')\n",
    "cph.print_summary()"
   ]
  },
  {
   "cell_type": "code",
   "execution_count": null,
   "metadata": {},
   "outputs": [],
   "source": [
    "cph.plot()"
   ]
  },
  {
   "cell_type": "code",
   "execution_count": null,
   "metadata": {},
   "outputs": [],
   "source": [
    "rows = df_dummy.iloc[1601810:1601815]"
   ]
  },
  {
   "cell_type": "code",
   "execution_count": null,
   "metadata": {},
   "outputs": [],
   "source": [
    "cph.predict_survival_function(rows).plot()"
   ]
  },
  {
   "cell_type": "code",
   "execution_count": null,
   "metadata": {},
   "outputs": [],
   "source": [
    "rows['survival_time']"
   ]
  },
  {
   "cell_type": "code",
   "execution_count": null,
   "metadata": {},
   "outputs": [],
   "source": [
    "len(act['playtime'].unique())"
   ]
  },
  {
   "cell_type": "code",
   "execution_count": null,
   "metadata": {},
   "outputs": [],
   "source": [
    "df10 = pd.merge(act,label)\n",
    "df10.isnull().sum()"
   ]
  },
  {
   "cell_type": "code",
   "execution_count": null,
   "metadata": {},
   "outputs": [],
   "source": [
    "df10.head()"
   ]
  },
  {
   "cell_type": "code",
   "execution_count": null,
   "metadata": {},
   "outputs": [],
   "source": [
    "t1 = df10[df10['survival_time']<64]"
   ]
  },
  {
   "cell_type": "code",
   "execution_count": null,
   "metadata": {},
   "outputs": [],
   "source": [
    "sns.catplot(x='fishing',y='playtime',hue='server',data=t1)"
   ]
  },
  {
   "cell_type": "code",
   "execution_count": null,
   "metadata": {},
   "outputs": [],
   "source": [
    "sns.catplot(x='survival_time',y='playtime',hue='server',data=t1)"
   ]
  },
  {
   "cell_type": "code",
   "execution_count": null,
   "metadata": {},
   "outputs": [],
   "source": []
  }
 ],
 "metadata": {
  "kernelspec": {
   "display_name": "Python 3",
   "language": "python",
   "name": "python3"
  },
  "language_info": {
   "codemirror_mode": {
    "name": "ipython",
    "version": 3
   },
   "file_extension": ".py",
   "mimetype": "text/x-python",
   "name": "python",
   "nbconvert_exporter": "python",
   "pygments_lexer": "ipython3",
   "version": "3.7.3"
  }
 },
 "nbformat": 4,
 "nbformat_minor": 2
}

{
 "cells": [
  {
   "cell_type": "code",
   "execution_count": 1,
   "metadata": {},
   "outputs": [],
   "source": [
    "import pandas as pd\n",
    "import numpy as np\n",
    "import matplotlib.pyplot as plt\n",
    "%matplotlib inline"
   ]
  },
  {
   "cell_type": "code",
   "execution_count": 2,
   "metadata": {},
   "outputs": [],
   "source": [
    "gs= pd.read_csv('korea_cvs.csv')"
   ]
  },
  {
   "cell_type": "code",
   "execution_count": 6,
   "metadata": {},
   "outputs": [
    {
     "data": {
      "text/html": [
       "<div>\n",
       "<style scoped>\n",
       "    .dataframe tbody tr th:only-of-type {\n",
       "        vertical-align: middle;\n",
       "    }\n",
       "\n",
       "    .dataframe tbody tr th {\n",
       "        vertical-align: top;\n",
       "    }\n",
       "\n",
       "    .dataframe thead th {\n",
       "        text-align: right;\n",
       "    }\n",
       "</style>\n",
       "<table border=\"1\" class=\"dataframe\">\n",
       "  <thead>\n",
       "    <tr style=\"text-align: right;\">\n",
       "      <th></th>\n",
       "      <th>korea_cvs.pvn_nm</th>\n",
       "      <th>korea_cvs.sale_dt</th>\n",
       "      <th>korea_cvs.gen_cd</th>\n",
       "      <th>korea_cvs.age_cd</th>\n",
       "      <th>korea_cvs.category</th>\n",
       "      <th>korea_cvs.adj_qty</th>\n",
       "      <th>korea_cvs.bor_nm</th>\n",
       "    </tr>\n",
       "  </thead>\n",
       "  <tbody>\n",
       "    <tr>\n",
       "      <th>0</th>\n",
       "      <td>서울특별시</td>\n",
       "      <td>20160101</td>\n",
       "      <td>F</td>\n",
       "      <td>00~19</td>\n",
       "      <td>라면</td>\n",
       "      <td>7</td>\n",
       "      <td>종로구</td>\n",
       "    </tr>\n",
       "    <tr>\n",
       "      <th>1</th>\n",
       "      <td>서울특별시</td>\n",
       "      <td>20160101</td>\n",
       "      <td>F</td>\n",
       "      <td>20~39</td>\n",
       "      <td>과자</td>\n",
       "      <td>655</td>\n",
       "      <td>종로구</td>\n",
       "    </tr>\n",
       "    <tr>\n",
       "      <th>2</th>\n",
       "      <td>서울특별시</td>\n",
       "      <td>20160101</td>\n",
       "      <td>F</td>\n",
       "      <td>20~39</td>\n",
       "      <td>라면</td>\n",
       "      <td>282</td>\n",
       "      <td>종로구</td>\n",
       "    </tr>\n",
       "    <tr>\n",
       "      <th>3</th>\n",
       "      <td>서울특별시</td>\n",
       "      <td>20160101</td>\n",
       "      <td>F</td>\n",
       "      <td>20~39</td>\n",
       "      <td>마스크</td>\n",
       "      <td>35</td>\n",
       "      <td>종로구</td>\n",
       "    </tr>\n",
       "    <tr>\n",
       "      <th>4</th>\n",
       "      <td>서울특별시</td>\n",
       "      <td>20160101</td>\n",
       "      <td>F</td>\n",
       "      <td>20~39</td>\n",
       "      <td>맥주</td>\n",
       "      <td>183</td>\n",
       "      <td>종로구</td>\n",
       "    </tr>\n",
       "  </tbody>\n",
       "</table>\n",
       "</div>"
      ],
      "text/plain": [
       "  korea_cvs.pvn_nm  korea_cvs.sale_dt korea_cvs.gen_cd korea_cvs.age_cd  \\\n",
       "0            서울특별시           20160101                F            00~19   \n",
       "1            서울특별시           20160101                F            20~39   \n",
       "2            서울특별시           20160101                F            20~39   \n",
       "3            서울특별시           20160101                F            20~39   \n",
       "4            서울특별시           20160101                F            20~39   \n",
       "\n",
       "  korea_cvs.category  korea_cvs.adj_qty korea_cvs.bor_nm  \n",
       "0                 라면                  7              종로구  \n",
       "1                 과자                655              종로구  \n",
       "2                 라면                282              종로구  \n",
       "3                마스크                 35              종로구  \n",
       "4                 맥주                183              종로구  "
      ]
     },
     "execution_count": 6,
     "metadata": {},
     "output_type": "execute_result"
    }
   ],
   "source": [
    "gs.head()"
   ]
  },
  {
   "cell_type": "code",
   "execution_count": null,
   "metadata": {},
   "outputs": [],
   "source": [
    "tx_df = gs['korea_cvs.category']\n",
    "goods_df = gs['korea_cvs.adj_qty']"
   ]
  },
  {
   "cell_type": "code",
   "execution_count": null,
   "metadata": {},
   "outputs": [],
   "source": [
    "goods_df.sum()"
   ]
  },
  {
   "cell_type": "code",
   "execution_count": null,
   "metadata": {},
   "outputs": [],
   "source": [
    "ra = seoul[seoul['korea_csv.category']=='라면']\n",
    "print(ra['korea.adj_qty'].sum())"
   ]
  },
  {
   "cell_type": "code",
   "execution_count": null,
   "metadata": {
    "scrolled": true
   },
   "outputs": [],
   "source": [
    "gs['korea_cvs.pvn_nm'].value_counts()"
   ]
  },
  {
   "cell_type": "code",
   "execution_count": null,
   "metadata": {},
   "outputs": [],
   "source": [
    "-- https://datascienceschool.net/view-notebook/76dcd63bba2c4959af15bec41b197e7c/"
   ]
  },
  {
   "cell_type": "code",
   "execution_count": 13,
   "metadata": {},
   "outputs": [
    {
     "ename": "AttributeError",
     "evalue": "'DataFrameGroupBy' object has no attribute 'pyplot'",
     "output_type": "error",
     "traceback": [
      "\u001b[1;31m---------------------------------------------------------------------------\u001b[0m",
      "\u001b[1;31mAttributeError\u001b[0m                            Traceback (most recent call last)",
      "\u001b[1;32m<ipython-input-13-6b5a9b0383cb>\u001b[0m in \u001b[0;36m<module>\u001b[1;34m\u001b[0m\n\u001b[0;32m      1\u001b[0m \u001b[0mmat\u001b[0m \u001b[1;33m=\u001b[0m \u001b[0mgs\u001b[0m\u001b[1;33m.\u001b[0m\u001b[0mgroupby\u001b[0m\u001b[1;33m(\u001b[0m\u001b[1;33m[\u001b[0m\u001b[0mgs\u001b[0m\u001b[1;33m[\u001b[0m\u001b[1;34m'korea_cvs.category'\u001b[0m\u001b[1;33m]\u001b[0m\u001b[1;33m,\u001b[0m \u001b[0mgs\u001b[0m\u001b[1;33m[\u001b[0m\u001b[1;34m'korea_cvs.pvn_nm'\u001b[0m\u001b[1;33m]\u001b[0m\u001b[1;33m]\u001b[0m\u001b[1;33m)\u001b[0m\u001b[1;33m\u001b[0m\u001b[1;33m\u001b[0m\u001b[0m\n\u001b[1;32m----> 2\u001b[1;33m \u001b[0mmat\u001b[0m\u001b[1;33m.\u001b[0m\u001b[0mpyplot\u001b[0m\u001b[1;33m(\u001b[0m\u001b[1;33m)\u001b[0m\u001b[1;33m\u001b[0m\u001b[1;33m\u001b[0m\u001b[0m\n\u001b[0m",
      "\u001b[1;32mC:\\ProgramData\\Anaconda3\\lib\\site-packages\\pandas\\core\\groupby\\groupby.py\u001b[0m in \u001b[0;36m__getattr__\u001b[1;34m(self, attr)\u001b[0m\n\u001b[0;32m    534\u001b[0m \u001b[1;33m\u001b[0m\u001b[0m\n\u001b[0;32m    535\u001b[0m         raise AttributeError(\"%r object has no attribute %r\" %\n\u001b[1;32m--> 536\u001b[1;33m                              (type(self).__name__, attr))\n\u001b[0m\u001b[0;32m    537\u001b[0m \u001b[1;33m\u001b[0m\u001b[0m\n\u001b[0;32m    538\u001b[0m     @Substitution(klass='GroupBy',\n",
      "\u001b[1;31mAttributeError\u001b[0m: 'DataFrameGroupBy' object has no attribute 'pyplot'"
     ]
    }
   ],
   "source": [
    "mat = gs.groupby([gs['korea_cvs.category'], gs['korea_cvs.pvn_nm']])\n"
   ]
  },
  {
   "cell_type": "code",
   "execution_count": 10,
   "metadata": {},
   "outputs": [],
   "source": [
    "ramen2 = ramen['korea_cvs.adj_qty'].sum()"
   ]
  },
  {
   "cell_type": "code",
   "execution_count": 5,
   "metadata": {},
   "outputs": [
    {
     "data": {
      "text/html": [
       "<div>\n",
       "<style scoped>\n",
       "    .dataframe tbody tr th:only-of-type {\n",
       "        vertical-align: middle;\n",
       "    }\n",
       "\n",
       "    .dataframe tbody tr th {\n",
       "        vertical-align: top;\n",
       "    }\n",
       "\n",
       "    .dataframe thead th {\n",
       "        text-align: right;\n",
       "    }\n",
       "</style>\n",
       "<table border=\"1\" class=\"dataframe\">\n",
       "  <thead>\n",
       "    <tr style=\"text-align: right;\">\n",
       "      <th></th>\n",
       "      <th>korea_cvs.sale_dt</th>\n",
       "      <th>korea_cvs.adj_qty</th>\n",
       "    </tr>\n",
       "    <tr>\n",
       "      <th>korea_cvs.pvn_nm</th>\n",
       "      <th></th>\n",
       "      <th></th>\n",
       "    </tr>\n",
       "  </thead>\n",
       "  <tbody>\n",
       "    <tr>\n",
       "      <th>경기도</th>\n",
       "      <td>22651501548389</td>\n",
       "      <td>90948216</td>\n",
       "    </tr>\n",
       "    <tr>\n",
       "      <th>서울특별시</th>\n",
       "      <td>25032517909135</td>\n",
       "      <td>123528514</td>\n",
       "    </tr>\n",
       "    <tr>\n",
       "      <th>인천광역시</th>\n",
       "      <td>6933420934396</td>\n",
       "      <td>20180146</td>\n",
       "    </tr>\n",
       "  </tbody>\n",
       "</table>\n",
       "</div>"
      ],
      "text/plain": [
       "                  korea_cvs.sale_dt  korea_cvs.adj_qty\n",
       "korea_cvs.pvn_nm                                      \n",
       "경기도                  22651501548389           90948216\n",
       "서울특별시                25032517909135          123528514\n",
       "인천광역시                 6933420934396           20180146"
      ]
     },
     "execution_count": 5,
     "metadata": {},
     "output_type": "execute_result"
    }
   ],
   "source": [
    "groups.sum()"
   ]
  },
  {
   "cell_type": "code",
   "execution_count": 4,
   "metadata": {},
   "outputs": [],
   "source": [
    "groups = gs.groupby('korea_cvs.pvn_nm')"
   ]
  },
  {
   "cell_type": "code",
   "execution_count": null,
   "metadata": {},
   "outputs": [],
   "source": [
    "gs.pivot('korea_cvs.pvn_nm','korea_cvs.category')"
   ]
  },
  {
   "cell_type": "code",
   "execution_count": null,
   "metadata": {},
   "outputs": [],
   "source": [
    "seoul = gs[gs['korea_cvs.pvn_nm']=='서울특별시'] and gs[gs['korea_cvs.category']=='라면']"
   ]
  },
  {
   "cell_type": "code",
   "execution_count": 7,
   "metadata": {},
   "outputs": [
    {
     "name": "stdout",
     "output_type": "stream",
     "text": [
      "51583191\n",
      "76111229\n",
      "38652798\n",
      "24338889\n",
      "18235878\n",
      "11993627\n",
      "5299560\n",
      "3437552\n",
      "1911245\n",
      "940473\n",
      "1614216\n",
      "538218\n"
     ]
    }
   ],
   "source": [
    "ramen = gs[gs['korea_cvs.category'] == '라면']\n",
    "print(ramen['korea_cvs.adj_qty'].sum())\n",
    "snack = gs[gs['korea_cvs.category'] == '과자']\n",
    "print(snack['korea_cvs.adj_qty'].sum())\n",
    "icecream = gs[gs['korea_cvs.category']=='아이스크림']\n",
    "print(icecream['korea_cvs.adj_qty'].sum())\n",
    "beer = gs[gs['korea_cvs.category'] == '맥주']\n",
    "print(beer['korea_cvs.adj_qty'].sum())\n",
    "water = gs[gs['korea_cvs.category']== '생수']\n",
    "print(water['korea_cvs.adj_qty'].sum())\n",
    "tansan = gs[gs['korea_cvs.category']=='탄산음료']\n",
    "print(tansan['korea_cvs.adj_qty'].sum())\n",
    "hangover = gs[gs['korea_cvs.category']== '숙취해소제']\n",
    "print(hangover['korea_cvs.adj_qty'].sum())\n",
    "pad = gs[gs['korea_cvs.category']== '생리대']\n",
    "print(pad['korea_cvs.adj_qty'].sum())\n",
    "staking = gs[gs['korea_cvs.category']== '스타킹']\n",
    "print(staking['korea_cvs.adj_qty'].sum())\n",
    "mask = gs[gs['korea_cvs.category']== '마스크']\n",
    "print(mask['korea_cvs.adj_qty'].sum())\n",
    "umm = gs[gs['korea_cvs.category']== '우산']\n",
    "print(umm['korea_cvs.adj_qty'].sum())\n",
    "abc = gs[gs['korea_cvs.category']== '면도기']\n",
    "print(abc['korea_cvs.adj_qty'].sum())"
   ]
  },
  {
   "cell_type": "code",
   "execution_count": null,
   "metadata": {},
   "outputs": [],
   "source": []
  },
  {
   "cell_type": "code",
   "execution_count": null,
   "metadata": {},
   "outputs": [],
   "source": []
  },
  {
   "cell_type": "code",
   "execution_count": null,
   "metadata": {},
   "outputs": [],
   "source": []
  },
  {
   "cell_type": "code",
   "execution_count": null,
   "metadata": {},
   "outputs": [],
   "source": []
  },
  {
   "cell_type": "code",
   "execution_count": null,
   "metadata": {},
   "outputs": [],
   "source": [
    "gs['korea_cvs.adj_qty'].value_counts()"
   ]
  },
  {
   "cell_type": "code",
   "execution_count": null,
   "metadata": {},
   "outputs": [],
   "source": [
    "gs['korea_csv']"
   ]
  },
  {
   "cell_type": "code",
   "execution_count": null,
   "metadata": {
    "scrolled": true
   },
   "outputs": [],
   "source": [
    "ramen = []\n",
    "for i in gs['korea_cvs.category'].unique():\n",
    "    gs[gs['korea_cvs.category'] == '라면']['korea_cvs.adj_qty'].sum\n",
    "    print(gs['korea_cvs.category'].unique())"
   ]
  },
  {
   "cell_type": "code",
   "execution_count": null,
   "metadata": {},
   "outputs": [],
   "source": [
    "ramen"
   ]
  },
  {
   "cell_type": "code",
   "execution_count": null,
   "metadata": {},
   "outputs": [],
   "source": []
  }
 ],
 "metadata": {
  "kernelspec": {
   "display_name": "Python 3",
   "language": "python",
   "name": "python3"
  },
  "language_info": {
   "codemirror_mode": {
    "name": "ipython",
    "version": 3
   },
   "file_extension": ".py",
   "mimetype": "text/x-python",
   "name": "python",
   "nbconvert_exporter": "python",
   "pygments_lexer": "ipython3",
   "version": "3.7.3"
  }
 },
 "nbformat": 4,
 "nbformat_minor": 2
}

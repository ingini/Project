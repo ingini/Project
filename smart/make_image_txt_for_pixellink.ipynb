{
 "cells": [
  {
   "cell_type": "code",
   "execution_count": 2,
   "metadata": {},
   "outputs": [],
   "source": [
    "from PIL import Image\n",
    "import numpy as np\n",
    "import matplotlib.pylab as plt\n",
    "import os\n",
    "import random"
   ]
  },
  {
   "cell_type": "code",
   "execution_count": 30,
   "metadata": {
    "scrolled": true
   },
   "outputs": [
    {
     "data": {
      "image/png": "[encoded data removed]",
      "text/plain": [
       "<Figure size 432x288 with 1 Axes>"
      ]
     },
     "metadata": {
      "needs_background": "light"
     },
     "output_type": "display_data"
    }
   ],
   "source": [
    "background = Image.open(\"background.jpg\")\n",
    "background_array = np.array(background)\n",
    "\n",
    "plt.imshow(background_array)\n",
    "plt.axis(\"off\")\n",
    "plt.show()"
   ]
  },
  {
   "cell_type": "markdown",
   "metadata": {},
   "source": [
    "## 경로 설정 및 폴더 리스트 작성"
   ]
  },
  {
   "cell_type": "code",
   "execution_count": 36,
   "metadata": {},
   "outputs": [
    {
     "name": "stdout",
     "output_type": "stream",
     "text": [
      "가 꼲 쇞 잟 뀽_15049.jpg\n"
     ]
    }
   ],
   "source": [
    "text_image_folder = \"C:\\\\Users\\\\multicampus\\\\Desktop\\\\Smart Refrigerator\\\\text_image\"\n",
    "text_image_folder_list = os.listdir(text_image_folder)\n",
    "\n",
    "english_1_word_folder = os.path.join(text_image_folder, text_image_folder_list[0])\n",
    "english_1_word_folder_list = os.listdir(english_1_word_folder)\n",
    "\n",
    "english_2_word_folder = os.path.join(text_image_folder, text_image_folder_list[1])\n",
    "english_2_word_folder_list = os.listdir(english_2_word_folder)\n",
    "\n",
    "english_3_word_folder = os.path.join(text_image_folder, text_image_folder_list[2])\n",
    "english_3_word_folder_list = os.listdir(english_3_word_folder)\n",
    "\n",
    "english_4_word_folder = os.path.join(text_image_folder, text_image_folder_list[3])\n",
    "english_4_word_folder_list = os.listdir(english_4_word_folder)\n",
    "\n",
    "english_5_word_folder = os.path.join(text_image_folder, text_image_folder_list[4])\n",
    "english_5_word_folder_list = os.listdir(english_5_word_folder)\n",
    "\n",
    "ko_1_word_folder = os.path.join(text_image_folder, text_image_folder_list[5])\n",
    "ko_1_word_folder_list = os.listdir(ko_1_word_folder)\n",
    "\n",
    "ko_2_word_folder = os.path.join(text_image_folder, text_image_folder_list[6])\n",
    "ko_2_word_folder_list = os.listdir(ko_2_word_folder)\n",
    "\n",
    "ko_3_word_folder = os.path.join(text_image_folder, text_image_folder_list[7])\n",
    "ko_3_word_folder_list = os.listdir(ko_3_word_folder)\n",
    "\n",
    "ko_4_word_folder = os.path.join(text_image_folder, text_image_folder_list[8])\n",
    "ko_4_word_folder_list = os.listdir(ko_4_word_folder)\n",
    "\n",
    "ko_5_word_folder = os.path.join(text_image_folder, text_image_folder_list[9])\n",
    "ko_5_word_folder_list = os.listdir(ko_5_word_folder)\n",
    "\n",
    "number_word_folder = os.path.join(text_image_folder,text_image_folder_list[10])\n",
    "number_word_folder_list = os.listdir(number_word_folder)\n"
   ]
  },
  {
   "cell_type": "markdown",
   "metadata": {},
   "source": [
    "## 10000개의 이미지를 만드는 과정, 하나의 이미지에는 20개의 글자가 있다."
   ]
  },
  {
   "cell_type": "code",
   "execution_count": null,
   "metadata": {},
   "outputs": [],
   "source": [
    "# 랜덤으로 20개의 이미지 주소를 리스트에 받아 넣으면 된다.\n",
    "\n",
    "# 영어는 폴더 마다 1개\n",
    "\n",
    "# 한글은 폴더 마다 2개\n",
    "\n",
    "# 숫자는 폴더 마다 5개\n",
    "\n",
    "# 리스트에는 20개 이미지의 절대경로를 입력한다.\n",
    "\n",
    "\n",
    "for _ in range(0, 10000):\n",
    "    \n",
    "\n",
    "\n",
    "\n",
    "\n",
    "\n",
    "\n"
   ]
  },
  {
   "cell_type": "markdown",
   "metadata": {},
   "source": [
    "### background를 만드는 과정"
   ]
  },
  {
   "cell_type": "code",
   "execution_count": 31,
   "metadata": {},
   "outputs": [
    {
     "data": {
      "image/png": "[encoded data removed]",
      "text/plain": [
       "<Figure size 432x288 with 1 Axes>"
      ]
     },
     "metadata": {
      "needs_background": "light"
     },
     "output_type": "display_data"
    }
   ],
   "source": [
    "new_image = Image.new('RGB',(1280,720))\n",
    "new_image.paste(background,(0,0))\n",
    "new_image_array = np.array(new_image)\n",
    "plt.imshow(new_image_array)\n",
    "plt.axis(\"off\")\n",
    "plt.show()"
   ]
  },
  {
   "cell_type": "markdown",
   "metadata": {},
   "source": [
    "### image_for_test에서 이미지 3개를 하나의 이미지에 만드는 과정"
   ]
  },
  {
   "cell_type": "code",
   "execution_count": 12,
   "metadata": {
    "scrolled": true
   },
   "outputs": [
    {
     "name": "stdout",
     "output_type": "stream",
     "text": [
      "9953028414\n",
      "M s E\n",
      "갂 첓 뚒 긥 걧\n",
      "퉂 휠\n"
     ]
    },
    {
     "data": {
      "image/png": "[encoded data removed]",
      "text/plain": [
       "<Figure size 432x288 with 1 Axes>"
      ]
     },
     "metadata": {
      "needs_background": "light"
     },
     "output_type": "display_data"
    }
   ],
   "source": [
    "background = Image.open(\"background.jpg\")\n",
    "\n",
    "path = \"C:\\\\Users\\\\multicampus\\\\Desktop\\\\Smart Refrigerator\\\\Create_image_for_pixellink\\\\image_for_test\"\n",
    "image_list = os.listdir(path)\n",
    "\n",
    "list_w = []\n",
    "list_h = []\n",
    "list_x = []\n",
    "list_y = []\n",
    "list_x_limit = []\n",
    "list_y_limit = []\n",
    "list_name = []\n",
    "\n",
    "new_image = Image.new('RGB',(1280,720))\n",
    "new_image.paste(background,(0,0))\n",
    "\n",
    "for i, image_path in enumerate(image_list):\n",
    "    word_image = Image.open(\"{}\".format(os.path.join(path,image_path)))\n",
    "    \n",
    "    name = image_path\n",
    "    # name.strip()\n",
    "    name_split = name.split(\"_\")\n",
    "    print(name_split[0])\n",
    "    list_name.append(name_split[0])\n",
    "    \n",
    "    w = word_image.size[0]\n",
    "    list_w.append(w)\n",
    "    \n",
    "    h = word_image.size[1]\n",
    "    list_h.append(h)\n",
    "    \n",
    "    x_limit = 1280 - w\n",
    "    list_x_limit.append(x_limit)\n",
    "    \n",
    "    y_limit = 720 - h\n",
    "    list_y_limit.append(y_limit)\n",
    "    \n",
    "for i, image_path in enumerate(image_list):\n",
    "    word_image = Image.open(\"{}\".format(os.path.join(path,image_path)))\n",
    "    \n",
    "    if len(list_x) == 0:\n",
    "        x = random.randint(0,list_x_limit[i])\n",
    "        list_x.append(x)\n",
    "        \n",
    "        y = random.randint(0,list_y_limit[i])\n",
    "        list_y.append(y)\n",
    "        \n",
    "        new_image.paste(word_image,(x,y))\n",
    "        \n",
    "    else :\n",
    "        while True:\n",
    "            x = random.randint(0,list_x_limit[i])\n",
    "            y = random.randint(0,list_y_limit[i])\n",
    "            \n",
    "            for j in range(0,len(list_x)):    \n",
    "                if ((x >= list_x[j]) and (x <= (list_x[j] + list_w[j]))) and ((y >= list_y[j]) and (y <= (list_y[j] + list_h[j]))) :\n",
    "                    break\n",
    "                \n",
    "                else:\n",
    "                    continue\n",
    "                    \n",
    "            list_x.append(x)\n",
    "            list_y.append(y)\n",
    "            new_image.paste(word_image,(x,y))\n",
    "            break\n",
    "\n",
    "new_image_array = np.array(new_image)\n",
    "plt.imshow(new_image_array)\n",
    "#plt.axis(\"off\")\n",
    "plt.show()\n",
    "\n",
    "#new_image.save(\"new_image.jpg\", \"JPEG\")\n",
    "\n",
    "text = open('new_image.txt','a')\n",
    "for i in range(len(list_x)):\n",
    "    # print(list_x[i],list_y[i],list_w[i],list_h[i], list_name[i])\n",
    "    text.write(\"%d,%d,%d,%d,%d,%d,%d,%d,%s \\n\" %(list_x[i], list_y[i], (list_x[i] + list_w[i]), list_y[i], (list_x[i] + list_w[i]), (list_y[i] + list_h[i]), list_x[i], (list_y[i] + list_h[i]), list_name[i]))"
   ]
  },
  {
   "cell_type": "code",
   "execution_count": 71,
   "metadata": {},
   "outputs": [],
   "source": [
    "a = 1\n",
    "b = 2\n",
    "for i in range(3):\n",
    "    text.write(\"%d, %d\" %(a, b))"
   ]
  },
  {
   "cell_type": "code",
   "execution_count": 50,
   "metadata": {},
   "outputs": [
    {
     "data": {
      "image/png": "[encoded data removed]",
      "text/plain": [
       "<Figure size 432x288 with 1 Axes>"
      ]
     },
     "metadata": {
      "needs_background": "light"
     },
     "output_type": "display_data"
    },
    {
     "data": {
      "image/png": "[encoded data removed]",
      "text/plain": [
       "<Figure size 432x288 with 1 Axes>"
      ]
     },
     "metadata": {
      "needs_background": "light"
     },
     "output_type": "display_data"
    },
    {
     "data": {
      "image/png": "[encoded data removed]",
      "text/plain": [
       "<Figure size 432x288 with 1 Axes>"
      ]
     },
     "metadata": {
      "needs_background": "light"
     },
     "output_type": "display_data"
    },
    {
     "data": {
      "image/png": "[encoded data removed]",
      "text/plain": [
       "<Figure size 432x288 with 1 Axes>"
      ]
     },
     "metadata": {
      "needs_background": "light"
     },
     "output_type": "display_data"
    }
   ],
   "source": [
    "path = \"C:\\\\Users\\\\multicampus\\\\Desktop\\\\Smart Refrigerator\\\\Create_image_for_pixellink\\\\image_for_test\"\n",
    "image_list = os.listdir(path)\n",
    "\n",
    "for i, image_path in enumerate(image_list):\n",
    "    word_image = Image.open(\"{}\".format(os.path.join(path,image_path)))\n",
    "    new_image_array = np.array(word_image)\n",
    "    plt.imshow(new_image_array)\n",
    "    plt.axis(\"off\")\n",
    "    plt.show()"
   ]
  },
  {
   "cell_type": "code",
   "execution_count": null,
   "metadata": {},
   "outputs": [],
   "source": []
  },
  {
   "cell_type": "code",
   "execution_count": null,
   "metadata": {},
   "outputs": [],
   "source": []
  },
  {
   "cell_type": "code",
   "execution_count": 22,
   "metadata": {},
   "outputs": [
    {
     "name": "stdout",
     "output_type": "stream",
     "text": [
      "C:\\Users\\multicampus\\Desktop\\Smart Refrigerator\\text_image\\english_1_word\n"
     ]
    }
   ],
   "source": [
    "print(english_1_word_folder)"
   ]
  },
  {
   "cell_type": "code",
   "execution_count": 21,
   "metadata": {},
   "outputs": [],
   "source": [
    "english_1_word_folder_list = os.listdir(english_1_word_folder)\n",
    "english_2_word_folder_list = os.listdir(english_2_word_folder)\n",
    "english_3_word_folder_list = os.listdir(english_3_word_folder)\n",
    "english_4_word_folder_list = os.listdir(english_4_word_folder)\n",
    "\n",
    "ko_1_word_folder_list = os.listdir(ko_1_word_folder)\n",
    "ko_2_word_folder_list = os.listdir(ko_2_word_folder)\n",
    "ko_3_word_folder_list = os.listdir(ko_3_word_folder)\n",
    "ko_4_word_folder_list = os.listdir(ko_4_word_folder)\n",
    "ko_5_word_folder_list = os.listdir(ko_5_word_folder)\n",
    "\n",
    "number_word_folder_list = os.listdir(number_word_folder)"
   ]
  }
 ],
 "metadata": {
  "kernelspec": {
   "display_name": "Python 3",
   "language": "python",
   "name": "python3"
  },
  "language_info": {
   "codemirror_mode": {
    "name": "ipython",
    "version": 3
   },
   "file_extension": ".py",
   "mimetype": "text/x-python",
   "name": "python",
   "nbconvert_exporter": "python",
   "pygments_lexer": "ipython3",
   "version": "3.7.3"
  }
 },
 "nbformat": 4,
 "nbformat_minor": 2
}
